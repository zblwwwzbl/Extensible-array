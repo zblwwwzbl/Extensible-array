{
 "cells": [
  {
   "cell_type": "code",
   "execution_count": 2,
   "metadata": {},
   "outputs": [
    {
     "data": {
      "text/html": [
       "\n",
       "    <div class=\"bk-root\">\n",
       "        <a href=\"https://bokeh.org\" target=\"_blank\" class=\"bk-logo bk-logo-small bk-logo-notebook\"></a>\n",
       "        <span id=\"1002\">Loading BokehJS ...</span>\n",
       "    </div>"
      ]
     },
     "metadata": {},
     "output_type": "display_data"
    },
    {
     "data": {
      "application/javascript": "\n(function(root) {\n  function now() {\n    return new Date();\n  }\n\n  var force = true;\n\n  if (typeof root._bokeh_onload_callbacks === \"undefined\" || force === true) {\n    root._bokeh_onload_callbacks = [];\n    root._bokeh_is_loading = undefined;\n  }\n\n  var JS_MIME_TYPE = 'application/javascript';\n  var HTML_MIME_TYPE = 'text/html';\n  var EXEC_MIME_TYPE = 'application/vnd.bokehjs_exec.v0+json';\n  var CLASS_NAME = 'output_bokeh rendered_html';\n\n  /**\n   * Render data to the DOM node\n   */\n  function render(props, node) {\n    var script = document.createElement(\"script\");\n    node.appendChild(script);\n  }\n\n  /**\n   * Handle when an output is cleared or removed\n   */\n  function handleClearOutput(event, handle) {\n    var cell = handle.cell;\n\n    var id = cell.output_area._bokeh_element_id;\n    var server_id = cell.output_area._bokeh_server_id;\n    // Clean up Bokeh references\n    if (id != null && id in Bokeh.index) {\n      Bokeh.index[id].model.document.clear();\n      delete Bokeh.index[id];\n    }\n\n    if (server_id !== undefined) {\n      // Clean up Bokeh references\n      var cmd = \"from bokeh.io.state import curstate; print(curstate().uuid_to_server['\" + server_id + \"'].get_sessions()[0].document.roots[0]._id)\";\n      cell.notebook.kernel.execute(cmd, {\n        iopub: {\n          output: function(msg) {\n            var id = msg.content.text.trim();\n            if (id in Bokeh.index) {\n              Bokeh.index[id].model.document.clear();\n              delete Bokeh.index[id];\n            }\n          }\n        }\n      });\n      // Destroy server and session\n      var cmd = \"import bokeh.io.notebook as ion; ion.destroy_server('\" + server_id + \"')\";\n      cell.notebook.kernel.execute(cmd);\n    }\n  }\n\n  /**\n   * Handle when a new output is added\n   */\n  function handleAddOutput(event, handle) {\n    var output_area = handle.output_area;\n    var output = handle.output;\n\n    // limit handleAddOutput to display_data with EXEC_MIME_TYPE content only\n    if ((output.output_type != \"display_data\") || (!Object.prototype.hasOwnProperty.call(output.data, EXEC_MIME_TYPE))) {\n      return\n    }\n\n    var toinsert = output_area.element.find(\".\" + CLASS_NAME.split(' ')[0]);\n\n    if (output.metadata[EXEC_MIME_TYPE][\"id\"] !== undefined) {\n      toinsert[toinsert.length - 1].firstChild.textContent = output.data[JS_MIME_TYPE];\n      // store reference to embed id on output_area\n      output_area._bokeh_element_id = output.metadata[EXEC_MIME_TYPE][\"id\"];\n    }\n    if (output.metadata[EXEC_MIME_TYPE][\"server_id\"] !== undefined) {\n      var bk_div = document.createElement(\"div\");\n      bk_div.innerHTML = output.data[HTML_MIME_TYPE];\n      var script_attrs = bk_div.children[0].attributes;\n      for (var i = 0; i < script_attrs.length; i++) {\n        toinsert[toinsert.length - 1].firstChild.setAttribute(script_attrs[i].name, script_attrs[i].value);\n        toinsert[toinsert.length - 1].firstChild.textContent = bk_div.children[0].textContent\n      }\n      // store reference to server id on output_area\n      output_area._bokeh_server_id = output.metadata[EXEC_MIME_TYPE][\"server_id\"];\n    }\n  }\n\n  function register_renderer(events, OutputArea) {\n\n    function append_mime(data, metadata, element) {\n      // create a DOM node to render to\n      var toinsert = this.create_output_subarea(\n        metadata,\n        CLASS_NAME,\n        EXEC_MIME_TYPE\n      );\n      this.keyboard_manager.register_events(toinsert);\n      // Render to node\n      var props = {data: data, metadata: metadata[EXEC_MIME_TYPE]};\n      render(props, toinsert[toinsert.length - 1]);\n      element.append(toinsert);\n      return toinsert\n    }\n\n    /* Handle when an output is cleared or removed */\n    events.on('clear_output.CodeCell', handleClearOutput);\n    events.on('delete.Cell', handleClearOutput);\n\n    /* Handle when a new output is added */\n    events.on('output_added.OutputArea', handleAddOutput);\n\n    /**\n     * Register the mime type and append_mime function with output_area\n     */\n    OutputArea.prototype.register_mime_type(EXEC_MIME_TYPE, append_mime, {\n      /* Is output safe? */\n      safe: true,\n      /* Index of renderer in `output_area.display_order` */\n      index: 0\n    });\n  }\n\n  // register the mime type if in Jupyter Notebook environment and previously unregistered\n  if (root.Jupyter !== undefined) {\n    var events = require('base/js/events');\n    var OutputArea = require('notebook/js/outputarea').OutputArea;\n\n    if (OutputArea.prototype.mime_types().indexOf(EXEC_MIME_TYPE) == -1) {\n      register_renderer(events, OutputArea);\n    }\n  }\n\n  \n  if (typeof (root._bokeh_timeout) === \"undefined\" || force === true) {\n    root._bokeh_timeout = Date.now() + 5000;\n    root._bokeh_failed_load = false;\n  }\n\n  var NB_LOAD_WARNING = {'data': {'text/html':\n     \"<div style='background-color: #fdd'>\\n\"+\n     \"<p>\\n\"+\n     \"BokehJS does not appear to have successfully loaded. If loading BokehJS from CDN, this \\n\"+\n     \"may be due to a slow or bad network connection. Possible fixes:\\n\"+\n     \"</p>\\n\"+\n     \"<ul>\\n\"+\n     \"<li>re-rerun `output_notebook()` to attempt to load from CDN again, or</li>\\n\"+\n     \"<li>use INLINE resources instead, as so:</li>\\n\"+\n     \"</ul>\\n\"+\n     \"<code>\\n\"+\n     \"from bokeh.resources import INLINE\\n\"+\n     \"output_notebook(resources=INLINE)\\n\"+\n     \"</code>\\n\"+\n     \"</div>\"}};\n\n  function display_loaded() {\n    var el = document.getElementById(\"1002\");\n    if (el != null) {\n      el.textContent = \"BokehJS is loading...\";\n    }\n    if (root.Bokeh !== undefined) {\n      if (el != null) {\n        el.textContent = \"BokehJS \" + root.Bokeh.version + \" successfully loaded.\";\n      }\n    } else if (Date.now() < root._bokeh_timeout) {\n      setTimeout(display_loaded, 100)\n    }\n  }\n\n\n  function run_callbacks() {\n    try {\n      root._bokeh_onload_callbacks.forEach(function(callback) {\n        if (callback != null)\n          callback();\n      });\n    } finally {\n      delete root._bokeh_onload_callbacks\n    }\n    console.debug(\"Bokeh: all callbacks have finished\");\n  }\n\n  function load_libs(css_urls, js_urls, callback) {\n    if (css_urls == null) css_urls = [];\n    if (js_urls == null) js_urls = [];\n\n    root._bokeh_onload_callbacks.push(callback);\n    if (root._bokeh_is_loading > 0) {\n      console.debug(\"Bokeh: BokehJS is being loaded, scheduling callback at\", now());\n      return null;\n    }\n    if (js_urls == null || js_urls.length === 0) {\n      run_callbacks();\n      return null;\n    }\n    console.debug(\"Bokeh: BokehJS not loaded, scheduling load and callback at\", now());\n    root._bokeh_is_loading = css_urls.length + js_urls.length;\n\n    function on_load() {\n      root._bokeh_is_loading--;\n      if (root._bokeh_is_loading === 0) {\n        console.debug(\"Bokeh: all BokehJS libraries/stylesheets loaded\");\n        run_callbacks()\n      }\n    }\n\n    function on_error(url) {\n      console.error(\"failed to load \" + url);\n    }\n\n    for (let i = 0; i < css_urls.length; i++) {\n      const url = css_urls[i];\n      const element = document.createElement(\"link\");\n      element.onload = on_load;\n      element.onerror = on_error.bind(null, url);\n      element.rel = \"stylesheet\";\n      element.type = \"text/css\";\n      element.href = url;\n      console.debug(\"Bokeh: injecting link tag for BokehJS stylesheet: \", url);\n      document.body.appendChild(element);\n    }\n\n    const hashes = {\"https://cdn.bokeh.org/bokeh/release/bokeh-2.3.2.min.js\": \"XypntL49z55iwGVUW4qsEu83zKL3XEcz0MjuGOQ9SlaaQ68X/g+k1FcioZi7oQAc\", \"https://cdn.bokeh.org/bokeh/release/bokeh-tables-2.3.2.min.js\": \"bEsM86IHGDTLCS0Zod8a8WM6Y4+lafAL/eSiyQcuPzinmWNgNO2/olUF0Z2Dkn5i\", \"https://cdn.bokeh.org/bokeh/release/bokeh-widgets-2.3.2.min.js\": \"TX0gSQTdXTTeScqxj6PVQxTiRW8DOoGVwinyi1D3kxv7wuxQ02XkOxv0xwiypcAH\"};\n\n    for (let i = 0; i < js_urls.length; i++) {\n      const url = js_urls[i];\n      const element = document.createElement('script');\n      element.onload = on_load;\n      element.onerror = on_error.bind(null, url);\n      element.async = false;\n      element.src = url;\n      if (url in hashes) {\n        element.crossOrigin = \"anonymous\";\n        element.integrity = \"sha384-\" + hashes[url];\n      }\n      console.debug(\"Bokeh: injecting script tag for BokehJS library: \", url);\n      document.head.appendChild(element);\n    }\n  };\n\n  function inject_raw_css(css) {\n    const element = document.createElement(\"style\");\n    element.appendChild(document.createTextNode(css));\n    document.body.appendChild(element);\n  }\n\n  \n  var js_urls = [\"https://cdn.bokeh.org/bokeh/release/bokeh-2.3.2.min.js\", \"https://cdn.bokeh.org/bokeh/release/bokeh-widgets-2.3.2.min.js\", \"https://cdn.bokeh.org/bokeh/release/bokeh-tables-2.3.2.min.js\"];\n  var css_urls = [];\n  \n\n  var inline_js = [\n    function(Bokeh) {\n      Bokeh.set_log_level(\"info\");\n    },\n    function(Bokeh) {\n    \n    \n    }\n  ];\n\n  function run_inline_js() {\n    \n    if (root.Bokeh !== undefined || force === true) {\n      \n    for (var i = 0; i < inline_js.length; i++) {\n      inline_js[i].call(root, root.Bokeh);\n    }\n    if (force === true) {\n        display_loaded();\n      }} else if (Date.now() < root._bokeh_timeout) {\n      setTimeout(run_inline_js, 100);\n    } else if (!root._bokeh_failed_load) {\n      console.log(\"Bokeh: BokehJS failed to load within specified timeout.\");\n      root._bokeh_failed_load = true;\n    } else if (force !== true) {\n      var cell = $(document.getElementById(\"1002\")).parents('.cell').data().cell;\n      cell.output_area.append_execute_result(NB_LOAD_WARNING)\n    }\n\n  }\n\n  if (root._bokeh_is_loading === 0) {\n    console.debug(\"Bokeh: BokehJS loaded, going straight to plotting\");\n    run_inline_js();\n  } else {\n    load_libs(css_urls, js_urls, function() {\n      console.debug(\"Bokeh: BokehJS plotting callback run at\", now());\n      run_inline_js();\n    });\n  }\n}(window));",
      "application/vnd.bokehjs_load.v0+json": ""
     },
     "metadata": {},
     "output_type": "display_data"
    }
   ],
   "source": [
    "import pandas as pd\n",
    "import numpy as np\n",
    "import matplotlib.pyplot as plt\n",
    "from math import *\n",
    "from bokeh.plotting import figure, show\n",
    "from bokeh.io import output_notebook\n",
    "output_notebook()"
   ]
  },
  {
   "cell_type": "code",
   "execution_count": 24,
   "metadata": {},
   "outputs": [],
   "source": [
    "type = \"sort\"\n",
    "data = pd.read_csv(f\"./data/{type}_results.csv\")\n",
    "\n",
    "\n",
    "avg = data.groupby(['array_type', 'element_size']).mean().reset_index()\n",
    "SQ_data = avg[avg[\"array_type\"] == \"SQ\"]\n",
    "sliced_data = avg[avg[\"array_type\"] == \"sliced\"]\n",
    "mono_data = avg[avg[\"array_type\"] == \"mono\"]\n",
    "base_data = avg[avg[\"array_type\"] == \"base\"]\n",
    "HAT_data = avg[avg[\"array_type\"] == \"HAT\"]\n",
    "MS2 = avg[avg[\"array_type\"] == \"MSarray_2\"]\n",
    "MS3 = avg[avg[\"array_type\"] == \"MSarray_3\"]\n",
    "MS4 = avg[avg[\"array_type\"] == \"MSarray_4\"]"
   ]
  },
  {
   "cell_type": "code",
   "execution_count": 4,
   "metadata": {},
   "outputs": [
    {
     "data": {
      "text/html": [
       "<div>\n",
       "<style scoped>\n",
       "    .dataframe tbody tr th:only-of-type {\n",
       "        vertical-align: middle;\n",
       "    }\n",
       "\n",
       "    .dataframe tbody tr th {\n",
       "        vertical-align: top;\n",
       "    }\n",
       "\n",
       "    .dataframe thead th {\n",
       "        text-align: right;\n",
       "    }\n",
       "</style>\n",
       "<table border=\"1\" class=\"dataframe\">\n",
       "  <thead>\n",
       "    <tr style=\"text-align: right;\">\n",
       "      <th></th>\n",
       "      <th>array_type</th>\n",
       "      <th>element_size</th>\n",
       "      <th>time</th>\n",
       "    </tr>\n",
       "  </thead>\n",
       "  <tbody>\n",
       "    <tr>\n",
       "      <th>512</th>\n",
       "      <td>SQ</td>\n",
       "      <td>16</td>\n",
       "      <td>0.098292</td>\n",
       "    </tr>\n",
       "    <tr>\n",
       "      <th>513</th>\n",
       "      <td>SQ</td>\n",
       "      <td>32</td>\n",
       "      <td>0.097430</td>\n",
       "    </tr>\n",
       "    <tr>\n",
       "      <th>514</th>\n",
       "      <td>SQ</td>\n",
       "      <td>48</td>\n",
       "      <td>0.098965</td>\n",
       "    </tr>\n",
       "    <tr>\n",
       "      <th>515</th>\n",
       "      <td>SQ</td>\n",
       "      <td>64</td>\n",
       "      <td>0.097403</td>\n",
       "    </tr>\n",
       "    <tr>\n",
       "      <th>516</th>\n",
       "      <td>SQ</td>\n",
       "      <td>80</td>\n",
       "      <td>0.097437</td>\n",
       "    </tr>\n",
       "    <tr>\n",
       "      <th>...</th>\n",
       "      <td>...</td>\n",
       "      <td>...</td>\n",
       "      <td>...</td>\n",
       "    </tr>\n",
       "    <tr>\n",
       "      <th>635</th>\n",
       "      <td>SQ</td>\n",
       "      <td>1984</td>\n",
       "      <td>0.192050</td>\n",
       "    </tr>\n",
       "    <tr>\n",
       "      <th>636</th>\n",
       "      <td>SQ</td>\n",
       "      <td>2000</td>\n",
       "      <td>0.194836</td>\n",
       "    </tr>\n",
       "    <tr>\n",
       "      <th>637</th>\n",
       "      <td>SQ</td>\n",
       "      <td>2016</td>\n",
       "      <td>0.186031</td>\n",
       "    </tr>\n",
       "    <tr>\n",
       "      <th>638</th>\n",
       "      <td>SQ</td>\n",
       "      <td>2032</td>\n",
       "      <td>0.191536</td>\n",
       "    </tr>\n",
       "    <tr>\n",
       "      <th>639</th>\n",
       "      <td>SQ</td>\n",
       "      <td>2048</td>\n",
       "      <td>0.193732</td>\n",
       "    </tr>\n",
       "  </tbody>\n",
       "</table>\n",
       "<p>128 rows × 3 columns</p>\n",
       "</div>"
      ],
      "text/plain": [
       "    array_type  element_size      time\n",
       "512         SQ            16  0.098292\n",
       "513         SQ            32  0.097430\n",
       "514         SQ            48  0.098965\n",
       "515         SQ            64  0.097403\n",
       "516         SQ            80  0.097437\n",
       "..         ...           ...       ...\n",
       "635         SQ          1984  0.192050\n",
       "636         SQ          2000  0.194836\n",
       "637         SQ          2016  0.186031\n",
       "638         SQ          2032  0.191536\n",
       "639         SQ          2048  0.193732\n",
       "\n",
       "[128 rows x 3 columns]"
      ]
     },
     "execution_count": 4,
     "metadata": {},
     "output_type": "execute_result"
    }
   ],
   "source": [
    "SQ_data"
   ]
  },
  {
   "cell_type": "code",
   "execution_count": 10,
   "metadata": {},
   "outputs": [
    {
     "ename": "TypeError",
     "evalue": "visualise_position() missing 4 required positional arguments: 'r4', 'r5', 'r6', and 'r7'",
     "output_type": "error",
     "traceback": [
      "\u001b[0;31m---------------------------------------------------------------------------\u001b[0m",
      "\u001b[0;31mTypeError\u001b[0m                                 Traceback (most recent call last)",
      "\u001b[0;32m<ipython-input-10-90124454cd1b>\u001b[0m in \u001b[0;36m<module>\u001b[0;34m\u001b[0m\n\u001b[1;32m      7\u001b[0m     \u001b[0mp\u001b[0m\u001b[0;34m.\u001b[0m\u001b[0mlegend\u001b[0m\u001b[0;34m.\u001b[0m\u001b[0mlocation\u001b[0m \u001b[0;34m=\u001b[0m \u001b[0;34m\"top_left\"\u001b[0m\u001b[0;34m\u001b[0m\u001b[0;34m\u001b[0m\u001b[0m\n\u001b[1;32m      8\u001b[0m     \u001b[0mshow\u001b[0m\u001b[0;34m(\u001b[0m\u001b[0mp\u001b[0m\u001b[0;34m)\u001b[0m\u001b[0;34m\u001b[0m\u001b[0;34m\u001b[0m\u001b[0m\n\u001b[0;32m----> 9\u001b[0;31m \u001b[0mvisualise_position\u001b[0m\u001b[0;34m(\u001b[0m\u001b[0mSQ_data\u001b[0m\u001b[0;34m,\u001b[0m \u001b[0msliced_data\u001b[0m\u001b[0;34m,\u001b[0m \u001b[0mmono_data\u001b[0m\u001b[0;34m)\u001b[0m\u001b[0;34m\u001b[0m\u001b[0;34m\u001b[0m\u001b[0m\n\u001b[0m",
      "\u001b[0;31mTypeError\u001b[0m: visualise_position() missing 4 required positional arguments: 'r4', 'r5', 'r6', and 'r7'"
     ]
    }
   ],
   "source": [
    "def visualise_position(r1, r2, r3, r4, r5, r6, r7):\n",
    "    p = figure(title = 'run time of different array types', plot_width = 900, x_axis_label = 'size of each element', y_axis_label = 'avergae time')\n",
    "    p.line(r1.element_size, r1.time, color = 'blue', legend_label = \"SQarray\")\n",
    "    p.line(r2.element_size, r2.time, color = 'red', legend_label = \"sliced\")\n",
    "    p.line(r3.element_size, r3.time, color = 'green', legend_label = \"monolithic\")\n",
    "    p.line(r4.element_size, r4.time, color = 'green', legend_label = \"HAT\")\n",
    "    p.legend.location = \"top_left\"\n",
    "    show(p)\n",
    "visualise_position(SQ_data, sliced_data, mono_data)"
   ]
  },
  {
   "cell_type": "code",
   "execution_count": 25,
   "metadata": {},
   "outputs": [
    {
     "data": {
      "text/html": [
       "\n",
       "\n",
       "\n",
       "\n",
       "\n",
       "\n",
       "  <div class=\"bk-root\" id=\"27f31c8b-799d-43a1-81ac-64033c71683e\" data-root-id=\"4855\"></div>\n"
      ]
     },
     "metadata": {},
     "output_type": "display_data"
    },
    {
     "data": {
      "application/javascript": "(function(root) {\n  function embed_document(root) {\n    \n  var docs_json = {\"f427c260-6409-4793-9761-8cc1189967a8\":{\"defs\":[],\"roots\":{\"references\":[{\"attributes\":{\"below\":[{\"id\":\"4866\"}],\"center\":[{\"id\":\"4869\"},{\"id\":\"4873\"},{\"id\":\"4903\"}],\"left\":[{\"id\":\"4870\"}],\"renderers\":[{\"id\":\"4891\"},{\"id\":\"4908\"},{\"id\":\"4926\"},{\"id\":\"4946\"},{\"id\":\"4968\"},{\"id\":\"4992\"},{\"id\":\"5018\"},{\"id\":\"5046\"}],\"title\":{\"id\":\"4856\"},\"toolbar\":{\"id\":\"4881\"},\"width\":900,\"x_range\":{\"id\":\"4858\"},\"x_scale\":{\"id\":\"4862\"},\"y_range\":{\"id\":\"4860\"},\"y_scale\":{\"id\":\"4864\"}},\"id\":\"4855\",\"subtype\":\"Figure\",\"type\":\"Plot\"},{\"attributes\":{\"data\":{\"x\":[16,32,48,64,80,96,112,128,144,160,176,192,208,224,240,256,272,288,304,320,336,352,368,384,400,416,432,448,464,480,496,512,528,544,560,576,592,608,624,640,656,672,688,704,720,736,752,768,784,800,816,832,848,864,880,896,912,928,944,960,976,992,1008,1024,1040,1056,1072,1088,1104,1120,1136,1152,1168,1184,1200,1216,1232,1248,1264,1280,1296,1312,1328,1344,1360,1376,1392,1408,1424,1440,1456,1472,1488,1504,1520,1536,1552,1568,1584,1600,1616,1632,1648,1664,1680,1696,1712,1728,1744,1760,1776,1792,1808,1824,1840,1856,1872,1888,1904,1920,1936,1952,1968,1984,2000,2016,2032,2048],\"y\":{\"__ndarray__\":\"UxvmFZkqAkD+JrlobX8CQKqkTkAT4QJAuBhNeFO7AUB+Oh4zULkBQEucy8P4vwFALXk8LT/wAUCC2yRQDhACQFrTYSqiKwJA1rGlogxQAkDc2bLXFpkCQPs+d922qgJALlgFxerKAkAJHt/eNegCQO/QZotaEANA7jmwHCFDA0DFq6xtimcDQAlzFlFulgNA/UkhNZLJA0BRirGneBcEQI3kPK3sLARA0A1N2elnBEDGHjWBfa8EQDnNpzOc9wRA88nlml0yBUDE7pY/OlAFQJKYoIZvgQVAOtBDbRumBUBGp/gJseQFQOZ9d4YE5wVAERKzqJkfBkBiuN9Gbx0GQEqCy76GewZAaixhbYydBkBhJ6vYTuoGQM4d/S/XAgdA0hLQ6R4+B0CL5lzlZF0HQB1y2CIOngdAoLfCBeq+B0DG92rst/sHQEg2V81zJAhA5hAn5g9cCEBmDSjl/18IQNuwt96AoAhAh7GWTF+ZCEB96lil9MwIQGp8cIgC5whAIl0izQ5HCUC9HeG04GUJQKtWJvxSnwlAer1FcdinCUCwbZvznekJQFOEL6df/QlA5ri/HyNFCkD4vrhUpU0KQIYMmkzLngpACpQDLKieCkBofF9cqtIKQN1BRwYUpQpAJsEb0qgAC0DLRXwnZv0KQJMoah/hCgtAc2/ZfLfUCkD10OOcfWoLQPYJoBhZkgtAIMAz69b8C0Bo02x5QPQLQO1brROXYwxAeuI5W0CIDEBzWCskquEMQLrREQpb/QxADT4og/5dDUC6NH7hlWQNQIBbwYBvpA1APah66HGuDUCmkTsRaQAOQPoEmhlHFg5AoKP6c3ZXDkA4FakwtlAOQJqvko/dxQ5APoSnRp7aDkD21hsQfCcPQM7Os6OCFA9AcvGmEeltD0CTh4Va03wPQIIkR5W8tQ9ApVzQMdatD0ASFQVV/gAQQG7XS1ME+A9AQq8/ic8NEEABx/n2CQsQQK6dg8L7JRBAOz1KgPUjEED0nJkFf0QQQO3gFuJHKxBAj9CFR9F5EEDlVlI4zIEQQKT8pNqnoxBA/swgPrCjEEDyJyob1tQQQJIsFnWc4RBA6mtMPiz6EEClkYWeg/0QQC0oDMo0KhFAOgxBaQMrEUAVMqGT70MRQCLZyBqaRxFAYsbKHldpEUBQJ49dWG0RQNhhp7PumhFAsiJZdneTEUCMOimC7tERQHNVj+oqwxFANCK9TSTdEUBBXx9CAeARQHqMTYY+AxJARSucSUABEkCjKfFvhhESQBZVdUXfAxJASoLLvoY7EkDp45DDFkESQLdxMEBHYBJAEtDpHn5TEkC+iufHunMSQHb1z3jHXhJAFm3pLA5yEkCaxTDMrmASQA==\",\"dtype\":\"float64\",\"order\":\"little\",\"shape\":[128]}},\"selected\":{\"id\":\"4902\"},\"selection_policy\":{\"id\":\"4901\"}},\"id\":\"4888\",\"type\":\"ColumnDataSource\"},{\"attributes\":{\"data_source\":{\"id\":\"4888\"},\"glyph\":{\"id\":\"4889\"},\"hover_glyph\":null,\"muted_glyph\":null,\"nonselection_glyph\":{\"id\":\"4890\"},\"view\":{\"id\":\"4892\"}},\"id\":\"4891\",\"type\":\"GlyphRenderer\"},{\"attributes\":{\"line_color\":\"blue\",\"x\":{\"field\":\"x\"},\"y\":{\"field\":\"y\"}},\"id\":\"4889\",\"type\":\"Line\"},{\"attributes\":{},\"id\":\"4862\",\"type\":\"LinearScale\"},{\"attributes\":{\"source\":{\"id\":\"4888\"}},\"id\":\"4892\",\"type\":\"CDSView\"},{\"attributes\":{\"source\":{\"id\":\"4905\"}},\"id\":\"4909\",\"type\":\"CDSView\"},{\"attributes\":{\"line_alpha\":0.1,\"line_color\":\"blue\",\"x\":{\"field\":\"x\"},\"y\":{\"field\":\"y\"}},\"id\":\"4890\",\"type\":\"Line\"},{\"attributes\":{\"items\":[{\"id\":\"4904\"},{\"id\":\"4922\"},{\"id\":\"4942\"},{\"id\":\"4964\"},{\"id\":\"4988\"},{\"id\":\"5014\"},{\"id\":\"5042\"},{\"id\":\"5072\"}],\"location\":\"top_left\"},\"id\":\"4903\",\"type\":\"Legend\"},{\"attributes\":{\"label\":{\"value\":\"SQarray\"},\"renderers\":[{\"id\":\"4891\"}]},\"id\":\"4904\",\"type\":\"LegendItem\"},{\"attributes\":{},\"id\":\"4894\",\"type\":\"AllLabels\"},{\"attributes\":{},\"id\":\"4895\",\"type\":\"BasicTickFormatter\"},{\"attributes\":{},\"id\":\"4858\",\"type\":\"DataRange1d\"},{\"attributes\":{\"data_source\":{\"id\":\"4905\"},\"glyph\":{\"id\":\"4906\"},\"hover_glyph\":null,\"muted_glyph\":null,\"nonselection_glyph\":{\"id\":\"4907\"},\"view\":{\"id\":\"4909\"}},\"id\":\"4908\",\"type\":\"GlyphRenderer\"},{\"attributes\":{\"axis_label\":\"size of each element\",\"formatter\":{\"id\":\"4898\"},\"major_label_policy\":{\"id\":\"4897\"},\"ticker\":{\"id\":\"4867\"}},\"id\":\"4866\",\"type\":\"LinearAxis\"},{\"attributes\":{},\"id\":\"4897\",\"type\":\"AllLabels\"},{\"attributes\":{\"text\":\"run time of different array types\"},\"id\":\"4856\",\"type\":\"Title\"},{\"attributes\":{},\"id\":\"4898\",\"type\":\"BasicTickFormatter\"},{\"attributes\":{},\"id\":\"4879\",\"type\":\"HelpTool\"},{\"attributes\":{},\"id\":\"4875\",\"type\":\"WheelZoomTool\"},{\"attributes\":{},\"id\":\"4864\",\"type\":\"LinearScale\"},{\"attributes\":{},\"id\":\"4867\",\"type\":\"BasicTicker\"},{\"attributes\":{\"axis\":{\"id\":\"4866\"},\"ticker\":null},\"id\":\"4869\",\"type\":\"Grid\"},{\"attributes\":{\"overlay\":{\"id\":\"4880\"}},\"id\":\"4876\",\"type\":\"BoxZoomTool\"},{\"attributes\":{\"active_multi\":null,\"tools\":[{\"id\":\"4874\"},{\"id\":\"4875\"},{\"id\":\"4876\"},{\"id\":\"4877\"},{\"id\":\"4878\"},{\"id\":\"4879\"}]},\"id\":\"4881\",\"type\":\"Toolbar\"},{\"attributes\":{\"axis_label\":\"avergae time\",\"formatter\":{\"id\":\"4895\"},\"major_label_policy\":{\"id\":\"4894\"},\"ticker\":{\"id\":\"4871\"}},\"id\":\"4870\",\"type\":\"LinearAxis\"},{\"attributes\":{\"axis\":{\"id\":\"4870\"},\"dimension\":1,\"ticker\":null},\"id\":\"4873\",\"type\":\"Grid\"},{\"attributes\":{},\"id\":\"4877\",\"type\":\"SaveTool\"},{\"attributes\":{},\"id\":\"4871\",\"type\":\"BasicTicker\"},{\"attributes\":{},\"id\":\"4901\",\"type\":\"UnionRenderers\"},{\"attributes\":{},\"id\":\"4878\",\"type\":\"ResetTool\"},{\"attributes\":{},\"id\":\"4902\",\"type\":\"Selection\"},{\"attributes\":{},\"id\":\"4874\",\"type\":\"PanTool\"},{\"attributes\":{},\"id\":\"5041\",\"type\":\"Selection\"},{\"attributes\":{\"data_source\":{\"id\":\"4943\"},\"glyph\":{\"id\":\"4944\"},\"hover_glyph\":null,\"muted_glyph\":null,\"nonselection_glyph\":{\"id\":\"4945\"},\"view\":{\"id\":\"4947\"}},\"id\":\"4946\",\"type\":\"GlyphRenderer\"},{\"attributes\":{\"data_source\":{\"id\":\"4989\"},\"glyph\":{\"id\":\"4990\"},\"hover_glyph\":null,\"muted_glyph\":null,\"nonselection_glyph\":{\"id\":\"4991\"},\"view\":{\"id\":\"4993\"}},\"id\":\"4992\",\"type\":\"GlyphRenderer\"},{\"attributes\":{\"data\":{\"x\":[16,32,48,64,80,96,112,128,144,160,176,192,208,224,240,256,272,288,304,320,336,352,368,384,400,416,432,448,464,480,496,512,528,544,560,576,592,608,624,640,656,672,688,704,720,736,752,768,784,800,816,832,848,864,880,896,912,928,944,960,976,992,1008,1024,1040,1056,1072,1088,1104,1120,1136,1152,1168,1184,1200,1216,1232,1248,1264,1280,1296,1312,1328,1344,1360,1376,1392,1408,1424,1440,1456,1472,1488,1504,1520,1536,1552,1568,1584,1600,1616,1632,1648,1664,1680,1696,1712,1728,1744,1760,1776,1792,1808,1824,1840,1856,1872,1888,1904,1920,1936,1952,1968,1984,2000,2016,2032,2048],\"y\":{\"__ndarray__\":\"WHVWC+wxzT/WviWlRSLPP71JwnQQKt8/9pEA2vv51T/RnoFHChvYP/dzrzhBQNg/WEVuPI7V2j8TnWUWodjZP+DBqtWyEN0/SC05k9ub3T/6oB0m0BbgP85Oq41WWuA/bRLNTeV+4T8PnZ53Y8HhP3tkGBzK9eI/piZmYl/X4j9yyjc2lovkP6p2l9WF6eQ/SDpe3KE85j/F5uPaULHmP0vBZPTt7uc/lUxO7QxT6D9AOJ86VqnpP86n6Q69IOo/gIF7+fhf6z/to64QsZzrP3N9Hw4Souw/lRf0OdL07D/gb2pWbALuPx1iclk7QO4/8gQM3MtH7z+7wEBr2TXuP4sXZvxWRvA/of4OoDpx8D9nO0s1WN3wP/JTwU3rG/E/mY7vQb568T+hkoSOZ6HxP2sifaTSGfI/htkVRO4z8j9yoTw9ALPyPyJsHcEy2/I/91wB4DNt8z8w9yQL83nzP8pkgivq3fM/elBQilbu8z/bNXxmpHn0P80UhDzMqPQ/a8fDMYFR9T+4YjVMI1z1P7gjnBa86PU/EoYBS67i9T+gh399GXH2P3JqZ5jakvY/KJ6zBYQW9z8s0JPX7y73P1DJlGr6x/c/gpWeRN+49z8h87fzs0f4PwZY9QNoZfg/WqfbI+X4+D9eXE8ZpAX5P/zUwnZBjvk/4VEZtbEI+T9DdjmA2Rj6Pyq2OBkLOfo/JjeKrDXU+j/eIjDWN/D6P3MeukUFc/s/jmRFwxiH+z8dZ4mEpTD8P4DEZcuoaPw/lXVJ5qLr/D+lYUIWs+/8P7IY0GYwof0/WCiIcIKl/T+w8U9fhUr+P1U6s7hagv4/9a+bCNEQ/z9qsF9mjhv/Pxh6aS9HtP8/AECpUaPr/z+bInZcQz8AQMBiaNArOQBAQqkHFtGAAEC+ypAZXn8AQMc+EkB7vwBAOmUkMfe/AEAy89NuqgQBQMKlvoemJwFASoLLvoZ7AUCahdEHJnIBQPvV0pJ9xgFAYJM16iG6AUBtoXWewjsCQAtbWNwk6wFATrbc9MJYAkDmRkcobHUCQJ/wyA7gwwJA61Dyj2PQAkA9cyA1NxADQGhzQSISKgNAiOWFKuttA0C58M2AxIADQBTL0vMT0wNAms7zTNTXA0DOs0jJYQYEQFqubUA6CwRARHaUOUxKBEBAnZcv1GYEQHeJoCBnsARApmSUwhfBBEDGKu/0lAYFQKStpdttMgVAsuiM3l9TBUB/h/35EVoFQOcPcoNGlQVACDe+mxOgBUB+FHXmHvIFQMZF/xVDAwZAg82UMZllBkAinAWQkHcGQN4RXze2qAZAkkQvo1iuBkBYfPlTmRgHQA2ywLItHgdA/yc1anRdB0AiRa7l3xgHQA==\",\"dtype\":\"float64\",\"order\":\"little\",\"shape\":[128]}},\"selected\":{\"id\":\"4963\"},\"selection_policy\":{\"id\":\"4962\"}},\"id\":\"4943\",\"type\":\"ColumnDataSource\"},{\"attributes\":{\"data\":{\"x\":[16,32,48,64,80,96,112,128,144,160,176,192,208,224,240,256,272,288,304,320,336,352,368,384,400,416,432,448,464,480,496,512,528,544,560,576,592,608,624,640,656,672,688,704,720,736,752,768,784,800,816,832,848,864,880,896,912,928,944,960,976,992,1008,1024,1040,1056,1072,1088,1104,1120,1136,1152,1168,1184,1200,1216,1232,1248,1264,1280,1296,1312,1328,1344,1360,1376,1392,1408,1424,1440,1456,1472,1488,1504,1520,1536,1552,1568,1584,1600,1616,1632,1648,1664,1680,1696,1712,1728,1744,1760,1776,1792,1808,1824,1840,1856,1872,1888,1904,1920,1936,1952,1968,1984,2000,2016,2032,2048],\"y\":{\"__ndarray__\":\"vDK5YpAlBUA9Zdqj3IIFQIYuTbYm4gVA0cn3MYsVBUAN7r2uFSMFQFIujV94JQVAf3vozIdxBUAiRhm7joIFQEEp//+kpgVAQRNhw9PLBUCUGpBzUQMGQDsNYrGXFwZASFdEqK1MBkBMUj6pm3AGQB+UQf9OpAZAmWa610ndBkBeeupHefwGQFrRMMbRRgdAGLptOl1RB0D6slmaAIgHQE/BhkyetwdAeQTcmEP3B0AS9pJrr0oIQPevrDQpZQhALgd6qG3DCEDaUxeVedAIQNISdTCs7AhAksH2OHgLCUCSxaKOM3IJQCOkySDSSglAWv3H+OaNCUDi/iPToZMJQNafDnVpzQlAYFT3bS34CUCAqbBjbT0KQJjR2RNuYwpAqmis/Z2NCkCq55PLNbsKQFaiR+dX7gpArrcoDvsYC0Agd7bstUULQBIU5AxqZAtA63GV3YKbC0DoGOt2Ua8LQHoXOVUI1QtA+6ZVmc7zC0AFsLeDxw0MQMu4qYHmMwxAdp+I6lKIDEADATJ07MAMQKNYbmk15AxAnTpF/eTeDEBKGLyeng0NQH6DmzFxMA1A3Tx6aMRxDUCaHfNLDokNQLs02ZoItg1AMxbyrbTRDUB+UHLiBvcNQFCv7x771A1ApeyZykcXDkDOm3kowCYOQMjmT8AbNw5AniRdM/kmDkBNctHafoMOQCC9PPjkvA5ALn6uERwSD0D9Bjdj4iAPQOvLiMGyaA9Aq+Y5It+lD0DqcBnce/0PQEqeRrXjERBAnSdD+pIyEEAY4w16gEgQQMwLC0nBXhBAOGvwvipnEEBiu3uA7osQQEZPgBdsmRBASC6kaIq1EECTZGcbyb8QQJ+sGK4O4BBA3jJMEvDwEEDrPrYbMw8RQCFleniFRBFAInTQJRw6EUDSC4ha5EgRQEZblUT2YRFA7aOuELFsEUB0x6wob4ERQEKQKFnziBFATO5m/LGPEUCS0PEsnJ8RQHUVnAttqhFAoiU07nK2EUAjGSjfItYRQO6wicxc0BFA4CpPIOz0EUAQZV79jgcSQHZJQVzeIRJASkLHs3AuEkD731uixFgSQLsoeuBjYBJAkVpyJrd3EkAqrK8JxJYSQA81wLtLqBJAJj1nZsGvEkAOmCyThr8SQJv0YzhDxhJAeVc9YB7iEkAOjd30HfISQDZwYqMHCRNAmDuOeuMfE0BCecSNADMTQFPUT+4tSxNARN0HILVZE0CSQe4iTGETQLJolfSLfRNA+xLgqqGDE0CtTzkmi5sTQHZ5hOSujxNAvov34/arE0AzePOvQL8TQMD1FzA33hNAKzQQy2beE0CjB5m/ne8TQNLBn4YUKBRA67oBsEv+E0DUUi+upwwUQA==\",\"dtype\":\"float64\",\"order\":\"little\",\"shape\":[128]}},\"selected\":{\"id\":\"5013\"},\"selection_policy\":{\"id\":\"5012\"}},\"id\":\"4989\",\"type\":\"ColumnDataSource\"},{\"attributes\":{\"x\":{\"field\":\"x\"},\"y\":{\"field\":\"y\"}},\"id\":\"4944\",\"type\":\"Line\"},{\"attributes\":{\"data_source\":{\"id\":\"5043\"},\"glyph\":{\"id\":\"5044\"},\"hover_glyph\":null,\"muted_glyph\":null,\"nonselection_glyph\":{\"id\":\"5045\"},\"view\":{\"id\":\"5047\"}},\"id\":\"5046\",\"type\":\"GlyphRenderer\"},{\"attributes\":{\"line_color\":\"orange\",\"x\":{\"field\":\"x\"},\"y\":{\"field\":\"y\"}},\"id\":\"4990\",\"type\":\"Line\"},{\"attributes\":{\"source\":{\"id\":\"4943\"}},\"id\":\"4947\",\"type\":\"CDSView\"},{\"attributes\":{\"data\":{\"x\":[16,32,48,64,80,96,112,128,144,160,176,192,208,224,240,256,272,288,304,320,336,352,368,384,400,416,432,448,464,480,496,512,528,544,560,576,592,608,624,640,656,672,688,704,720,736,752,768,784,800,816,832,848,864,880,896,912,928,944,960,976,992,1008,1024,1040,1056,1072,1088,1104,1120,1136,1152,1168,1184,1200,1216,1232,1248,1264,1280,1296,1312,1328,1344,1360,1376,1392,1408,1424,1440,1456,1472,1488,1504,1520,1536,1552,1568,1584,1600,1616,1632,1648,1664,1680,1696,1712,1728,1744,1760,1776,1792,1808,1824,1840,1856,1872,1888,1904,1920,1936,1952,1968,1984,2000,2016,2032,2048],\"y\":{\"__ndarray__\":\"OzYC8bpeBkD4VKk0vb8GQMQhwI6kKQdA1Ac3vptTBkACNWvfknIGQOJvxQ/fcwZAnqgRn+DHBkBsTONyF9wGQIph4upbAQdAbI+Dt6wnB0CLHlPSHmoHQPowMUxcfQdAO6tgrwu6B0DuyFht/t8HQMKLGTynFAhAQI7myMpPCEATa6ec5WgIQGDL0B1plQhAipElcywvCUC4Y0VoX/QIQABABAsWHQlA2OGencJgCUC7JqQ1Bp0JQJ5/FqZKzwlA0ymPboQFCkBTANb06i0KQKZJ31rcVQpAlU9F4P5yCkCam29E96wKQKplEMQevwpAMI6AwLn1CkADiqJRywALQPDJebWSTAtAa+QEt/9yC0B7ZkmAmroLQM5AdihU4QtA3hm34iwWDEBIFtXH6EUMQLq/ety3egxAFZSilXuhDEAoAXuWMc8MQIaJq28F+QxAAvYsY54wDUCGVzeDZEYNQNLNtLOecA1AYvNxbah4DUCtTEIzmbsNQEY2/BMB0w1AdrktNlIbDkADs51KYTkOQLpsdM5PcQ5AFsH/VrKDDkADsKZXb7kOQCZtBagE3w5Aqtpugm8aD0CmhSbk3jcPQLXbLjTXaQ9A2tNpOMCHD0ASWf9C6rEPQDVO+cbGkg9A+7zz1Z/OD0B6aGm4EusPQLpOIy2V9w9AlgkajkLtD0AKNZ5jmx8QQCpIxzCCQRBAIGxnTk1oEEAw8ldto3YQQBt/orJhnRBAq3HbY466EEDGb2Xkh+UQQNbT/VL1ARFAnnUy3ZAbEUALMOLxozARQEPvQ5TlShFAMx2V9mFoEUCmsijsongRQLL0oQvqixFAV/p1TIKsEUBsZR3pZ7URQNO1m4Xi0xFAksskj0zsEUBE29a75AQSQLqUBPI2EBJAburynOMyEkC16FN9nUoSQHW/+cOFYhJA1I+Xfz5rEkBNFecDXYYSQLcrqjQYiRJA0VOJV/6REkD6823BUp0SQH5skh/xqxJAdsnuuJe6EkBgF4+cltkSQGV1q+ek1xJAuM1UiEcCE0AqzUErix0TQOFK0SV3MxNAyreIOVJHE0Cc5KK1/WYTQN9ValH6fRNAmpSCbi+ZE0BNGZNZGK0TQJbZMb/kwBNAJrc3Ce/ME0D6+JUYFeITQMsyeiQU8RNATYkkehkVFEAS5Fb3fhkUQAuNcQ9TPBRAazHTUWlPFEA6lEZxM2EUQFbkxuNYfRRAc1wyM9iZFECGSOHVzaAUQB7SuewhyxRAYBW58TjmFEDWea+1UvMUQG1JWGXw8RRA3fNXIxYsFUDG0QstoVEVQEIDVrNzfxVAQrLbwk6MFUBIROfr6L4VQDXnheBdUxZAilkvhnLyFkCmgLT/AXYWQA==\",\"dtype\":\"float64\",\"order\":\"little\",\"shape\":[128]}},\"selected\":{\"id\":\"5071\"},\"selection_policy\":{\"id\":\"5070\"}},\"id\":\"5043\",\"type\":\"ColumnDataSource\"},{\"attributes\":{\"source\":{\"id\":\"4989\"}},\"id\":\"4993\",\"type\":\"CDSView\"},{\"attributes\":{\"line_color\":\"indigo\",\"x\":{\"field\":\"x\"},\"y\":{\"field\":\"y\"}},\"id\":\"5044\",\"type\":\"Line\"},{\"attributes\":{\"line_alpha\":0.1,\"x\":{\"field\":\"x\"},\"y\":{\"field\":\"y\"}},\"id\":\"4945\",\"type\":\"Line\"},{\"attributes\":{\"line_alpha\":0.1,\"line_color\":\"orange\",\"x\":{\"field\":\"x\"},\"y\":{\"field\":\"y\"}},\"id\":\"4991\",\"type\":\"Line\"},{\"attributes\":{\"source\":{\"id\":\"5043\"}},\"id\":\"5047\",\"type\":\"CDSView\"},{\"attributes\":{\"line_alpha\":0.1,\"line_color\":\"indigo\",\"x\":{\"field\":\"x\"},\"y\":{\"field\":\"y\"}},\"id\":\"5045\",\"type\":\"Line\"},{\"attributes\":{\"label\":{\"value\":\"MS, r=2\"},\"renderers\":[{\"id\":\"4992\"}]},\"id\":\"5014\",\"type\":\"LegendItem\"},{\"attributes\":{\"label\":{\"value\":\"base\"},\"renderers\":[{\"id\":\"4946\"}]},\"id\":\"4964\",\"type\":\"LegendItem\"},{\"attributes\":{\"data\":{\"x\":[16,32,48,64,80,96,112,128,144,160,176,192,208,224,240,256,272,288,304,320,336,352,368,384,400,416,432,448,464,480,496,512,528,544,560,576,592,608,624,640,656,672,688,704,720,736,752,768,784,800,816,832,848,864,880,896,912,928,944,960,976,992,1008,1024,1040,1056,1072,1088,1104,1120,1136,1152,1168,1184,1200,1216,1232,1248,1264,1280,1296,1312,1328,1344,1360,1376,1392,1408,1424,1440,1456,1472,1488,1504,1520,1536,1552,1568,1584,1600,1616,1632,1648,1664,1680,1696,1712,1728,1744,1760,1776,1792,1808,1824,1840,1856,1872,1888,1904,1920,1936,1952,1968,1984,2000,2016,2032,2048],\"y\":{\"__ndarray__\":\"iyHvC5746D/C8caT7vjpPzs3yH/cWes/kDaOWIvP6T9KYBhVKzjqP2Mpkq8EUuo/fcUJAhpb6z+l8naE04LrPzjmKzcHvuw/xZGsaBjj7D+o0T8cf/3tP4gNu5RfK+4/YFrUJ7lD7z/7CtKMRdPvPwfwFkhQPPA/P3RBfctc8D92tSYnJOPwP+kBPR5E/PA/MBbhgVx98T80qy0rA33xP4aMR6mEJ/I/c+/hkuOO8j8BYIYQodvyPz6+c961+vI/myz/a4qR8z9CLFGsCZjzP2tx11x/HPQ/XosWoG019D+mdFVFXdD0P4YDIVnAxPQ/QnQIHAl09T/I7l3ed2f1P9ScvMgE/PU/fQkVHF4Q9j+gHcsWpLT2PwLjz6bZsvY/RaURM/s89z8Qc0nVdlP3PxY9pqQ91Pc/xIPBkDDn9z8zlvrD4Gv4Pw6hSs0eqPg/1sl0Q64v+T972LBL+TX5P9t/ZDp0uvk/fR+zWC+r+T8Q1lrzPin6P2U0l8BSQvo/rvg8NU3O+j86WtWSjvL6P7rtjAC4Y/s/rZSvFX56+z9LyAc9mxX8P7jSxmwkJPw/UmhZ94/F/D8esSfLWtT8P1Czm3S2W/0/oP1IERlW/T/AXydQH9z9P37e+epPx/0/Rs+ILZhT/j/D+lCzUWf+P5tVn6ut2P4/YyO19XgG/z9Ylp6fmKv/P2isouR6wP8/IypUNxcfAEDzWmSWmCIAQJUBVv0AegBAvuYLELuFAEDIm/wWnewAQLaN9cO+8wBA4gM7/gtEAUDSrTKuE1IBQH7qadFMoQFAnTUu0nquAUAkea7vwwECQAcb6OtDCAJAQEhgvZtYAkB2SlF4GloCQHBjDt1HqQJAWkefoF66AkCdKRml8AUDQEPN6+P8CANALr/TZMZbA0BBIOHFDF4DQAtutZjpqANAmtlC6zylA0AzMPKyJvYDQCl+jLlr6QNAYs7YPLMpBEC+3v3xXlUEQAclzLT9awRAGPCNfLlqBEBUelwK/s0EQKZw83y8xgRAJUG4AgoVBUAvqwvTUhQFQOopzUErawVAN9zstNpoBUDcXQyKi8gFQCNkxRW8zQVAcrrRbMMNBkCQfdry2yEGQHZEdL6ObgZApkLhWLx9BkC6Xj9pTbgGQIcNYNvsuQZA/Vx+8VYHB0De7dUi/REHQGsayj/pWgdAhizBmONrB0AIimnwCDgIQCJ/en33uAdAs+mtJvT/B0CO9z6wPvkHQKxE6ociTghA/Z2SGKlcCEBK6NPPQJEIQHJErR9RlwhAUnx8QnbeCEAI6c64FecIQMSvWMNFLglAKOmr9Y8vCUC1fX7Ok4EJQO3rCsc9hwlAgB5Zr9jVCUBr3if9c4cJQA==\",\"dtype\":\"float64\",\"order\":\"little\",\"shape\":[128]}},\"selected\":{\"id\":\"4921\"},\"selection_policy\":{\"id\":\"4920\"}},\"id\":\"4905\",\"type\":\"ColumnDataSource\"},{\"attributes\":{\"label\":{\"value\":\"MS, r=4\"},\"renderers\":[{\"id\":\"5046\"}]},\"id\":\"5072\",\"type\":\"LegendItem\"},{\"attributes\":{\"line_color\":\"red\",\"x\":{\"field\":\"x\"},\"y\":{\"field\":\"y\"}},\"id\":\"4906\",\"type\":\"Line\"},{\"attributes\":{\"line_alpha\":0.1,\"line_color\":\"red\",\"x\":{\"field\":\"x\"},\"y\":{\"field\":\"y\"}},\"id\":\"4907\",\"type\":\"Line\"},{\"attributes\":{},\"id\":\"4962\",\"type\":\"UnionRenderers\"},{\"attributes\":{},\"id\":\"4920\",\"type\":\"UnionRenderers\"},{\"attributes\":{},\"id\":\"5012\",\"type\":\"UnionRenderers\"},{\"attributes\":{\"label\":{\"value\":\"sliced\"},\"renderers\":[{\"id\":\"4908\"}]},\"id\":\"4922\",\"type\":\"LegendItem\"},{\"attributes\":{},\"id\":\"4963\",\"type\":\"Selection\"},{\"attributes\":{},\"id\":\"5070\",\"type\":\"UnionRenderers\"},{\"attributes\":{},\"id\":\"4921\",\"type\":\"Selection\"},{\"attributes\":{},\"id\":\"5013\",\"type\":\"Selection\"},{\"attributes\":{},\"id\":\"5071\",\"type\":\"Selection\"},{\"attributes\":{\"data_source\":{\"id\":\"4923\"},\"glyph\":{\"id\":\"4924\"},\"hover_glyph\":null,\"muted_glyph\":null,\"nonselection_glyph\":{\"id\":\"4925\"},\"view\":{\"id\":\"4927\"}},\"id\":\"4926\",\"type\":\"GlyphRenderer\"},{\"attributes\":{\"data_source\":{\"id\":\"4965\"},\"glyph\":{\"id\":\"4966\"},\"hover_glyph\":null,\"muted_glyph\":null,\"nonselection_glyph\":{\"id\":\"4967\"},\"view\":{\"id\":\"4969\"}},\"id\":\"4968\",\"type\":\"GlyphRenderer\"},{\"attributes\":{},\"id\":\"4987\",\"type\":\"Selection\"},{\"attributes\":{\"data\":{\"x\":[16,32,48,64,80,96,112,128,144,160,176,192,208,224,240,256,272,288,304,320,336,352,368,384,400,416,432,448,464,480,496,512,528,544,560,576,592,608,624,640,656,672,688,704,720,736,752,768,784,800,816,832,848,864,880,896,912,928,944,960,976,992,1008,1024,1040,1056,1072,1088,1104,1120,1136,1152,1168,1184,1200,1216,1232,1248,1264,1280,1296,1312,1328,1344,1360,1376,1392,1408,1424,1440,1456,1472,1488,1504,1520,1536,1552,1568,1584,1600,1616,1632,1648,1664,1680,1696,1712,1728,1744,1760,1776,1792,1808,1824,1840,1856,1872,1888,1904,1920,1936,1952,1968,1984,2000,2016,2032,2048],\"y\":{\"__ndarray__\":\"/uMpUDAI6j9T7dPxmIHrP5aZLbTO0+w/g4Xu7fEd6z+ecBuyJjvrPwAqCxXSUOs/Zdk4B3TL7D/j99tDZz7tP0BMZ8zJMO4/VfJWAs537j9zrzhBQGPvPytlvijmxe8/d8R81Lqo8D/0KKYc3ZLwPzN0ohP4+fA/9jaiIB1D8T8w/myaLY/xPwIIadfOwfE/uS3bmOg98j92RHS+jm7yP95W1Sap5/I/svkT8MYd8z/4RykyhK3zP8Do8uZw7fM/c8QQ7+9i9D8iouJJHIP0P+5Wlugs8/Q/TXz/MFMk9T/iiWpb3qb1PyvN951wwPU/hoibU8lA9j+M//EUKFj2P+qmg6vy8/Y/kI5hBEMM9z/LhF/q5433Pyk+PiE7r/c/8lE1MKgl+D+u88pQcEz4P2o1f6ckxvg/Lc4Y5gTt+D+iCRSxiGH5P1SI7ChzmPk/GBF7V/MS+j/LhpBOuDL6P0X2nE94pPo/LYPFPIai+j871nvgGSP7P30whPewMvs/MDt6slHM+z+7VLZZBub7P2V60z5nXPw/pmK+F7pt/D+A+0ucJv38P5Bg9CbQMf0/bVbYZym0/T9Vzs3tFOH9P1P3t7pSRf4/ItbRJ6hX/j9KkAAkidT+Py3M54E0yP4/0jWTb7Z5/z+9b3ztmWX/P00qGmt/5/8/mRZQA2ECAED+Obtrv0sAQMi5qHHKVwBA2NWJcDiYAED4iD1Z1qIAQBIHGn0W9QBAZEVoX9QJAUAkStY8ol0BQMkrxq8OdgFAoSEt30S+AUDaf/hUqdQBQOYR7XQxFwJAyAiocAQpAkCnx1tTxXkCQLB+fb53hQJA7nya7tDLAkCTZdLwd9kCQEj/gShOJANA8tR+xuA8A0CPOGQD6YIDQJduEoPAigNAIDsUqkDSA0AdtR2uMNgDQPMfLSnSGARAqyLcZFQ5BEC8zob8M2MEQMzqHW6HZgRAwVICB1mbBEC4ve6+dKQEQBhA+FCi5QRAVlrrMMvjBEAifg+oSC8FQMZUVcPZKAVAApYBDHCGBUBLbU7KSY0FQH1SN2EM1gVAbcfUXdnlBUAYVvFG5jEGQBuciH5tPQZAFxRhHo1+BkAPKPYr+IgGQK2jqgmizgZAZJEm3gHeBkCYDdcPVigHQNhS9kzlIwdAx7GaU25nB0B6uT5iqm8HQJ52nbI/tQdAmz2GffHbB0AeCH91CxMIQPdswmJ5HAhA1eb/VUeuCED9VqE3y1sIQHmldtA2qAhA66pALQavCEDhSnZsBOIIQBCCRMma5whATuj1J/E5CUDqWbUQiUcJQPuccdAUkAlAsTK/P0qRCUBt4i4Mot8JQL7VOnE53glAun3737ZbCkDjwFAsXPsJQA==\",\"dtype\":\"float64\",\"order\":\"little\",\"shape\":[128]}},\"selected\":{\"id\":\"4987\"},\"selection_policy\":{\"id\":\"4986\"}},\"id\":\"4965\",\"type\":\"ColumnDataSource\"},{\"attributes\":{\"data_source\":{\"id\":\"5015\"},\"glyph\":{\"id\":\"5016\"},\"hover_glyph\":null,\"muted_glyph\":null,\"nonselection_glyph\":{\"id\":\"5017\"},\"view\":{\"id\":\"5019\"}},\"id\":\"5018\",\"type\":\"GlyphRenderer\"},{\"attributes\":{\"data\":{\"x\":[16,32,48,64,80,96,112,128,144,160,176,192,208,224,240,256,272,288,304,320,336,352,368,384,400,416,432,448,464,480,496,512,528,544,560,576,592,608,624,640,656,672,688,704,720,736,752,768,784,800,816,832,848,864,880,896,912,928,944,960,976,992,1008,1024,1040,1056,1072,1088,1104,1120,1136,1152,1168,1184,1200,1216,1232,1248,1264,1280,1296,1312,1328,1344,1360,1376,1392,1408,1424,1440,1456,1472,1488,1504,1520,1536,1552,1568,1584,1600,1616,1632,1648,1664,1680,1696,1712,1728,1744,1760,1776,1792,1808,1824,1840,1856,1872,1888,1904,1920,1936,1952,1968,1984,2000,2016,2032,2048],\"y\":{\"__ndarray__\":\"OXUvQVds4z/yn26gwLvkPyAF9GfkGOY/HMkvzb484j/uX7QixVviP4U0dP3MauI/Rjk9lA2Q4z+e7wKAvgjkP2tkV1pG6uQ/+lIuQ9Jd5T8GPqtx22PmP66QqAZQwuY/HmM46Fyb5z9QUIpW7gXoPwquAzEaw+g/usrJeiBo6T/1hlaCIBvqP8o4RrJHqOo/c9ZMYyB06z/iStEldzPsP+BpjZzg9uw/Mn87P3tk7T9qp4u5EFDuP/AjEuBP6O4/On2YGCau7z8sAHymTQvwPxBJ4wYycfA/kpIehlan8D+V+mgnORbxP4Duy5ntSvE/qZyb2ynC8T/Kjuj5LgDyPw2YdiChXPI/3jww26mU8j92854U9+nyP6/nEN1YNfM/beEe8GWH8z8E0rR6Pc7zP0LyKVt/JvQ/01l3PeJh9D8VnoZeNcX0P5B7XwHxH/U/eKqN+6B49T8B1Hn5Qq31P7ag98YQAPY/FsDvOnYr9j81WliBa3j2P852hT5YxvY/DpXrEnoi9z+pT3KHTWT3P4bVDjXAu/c/hV+PLtvz9z9QmOYMe1D4P8gzeRT4lPg/1SgkmdX7+D8SWO8mrln5P0o9sIgGjvk/03zfCQfM+T/DGQ0quyr6P14robskTvo/sqAwKNOo+j8aqgdxivP6P+1eOCG+Xfs/08SWeQao+z+Gk484v/z7PwNV7eQdMfw/kiOdgZGX/D9ODY9Y5sj8P3BSPT7GQf0/8ttrnKiA/T/+mNamsf39P06TY/xFWv4/fYBJhQy//j+wjA3d7A//Pya7416qo/8/usRHegfu/z9TqBN1iyUAQM+66xEPTQBA+mTFcHWAAEAy5eiWwqgAQJF3s6s12QBAXjusy4T6AEA8+IkD6DcBQDXHA9vSVAFAdvAC23d7AUDIfECgM6kBQKAaL90kxgFAYNUPoJXqAUDut9FblxUCQDRj0XR2MgJAfSGJA41eAkDCEIMKWHwCQOad+YuPpQJADdEynHzEAkA/oxkw7QADQF35LM+DGwNALE4Q0NhSA0BhHSLJB3gDQJyhXSrbrANAARAcPLjgA0DC6n4EtAMEQFfW7DfJJQRAPLlLh/NVBECtEPuplnkEQHP2KSIepARAWs7vRcXJBEA9BnXbz/MEQGWgfIuYIwVAopS18jdGBUB6VtKKb2gFQIjO19HdmgVAeJkG6jnOBUCIIHMKl/oFQBIawcb1DwZA9MTOb/NBBkCZ+tQMBFwGQPKHsCt3kAZAb4M1KWC2BkAHOv8bIN0GQMJ67eOy+wZAOsrBbAIsB0BzSwbb42AHQNqKoqyEkwdAG9wx0BCpB0CCl8+or90HQMt33+eu+wdAuW3fo/4aCEDIrrSM1BsIQA==\",\"dtype\":\"float64\",\"order\":\"little\",\"shape\":[128]}},\"selected\":{\"id\":\"4941\"},\"selection_policy\":{\"id\":\"4940\"}},\"id\":\"4923\",\"type\":\"ColumnDataSource\"},{\"attributes\":{\"line_color\":\"yellow\",\"x\":{\"field\":\"x\"},\"y\":{\"field\":\"y\"}},\"id\":\"4966\",\"type\":\"Line\"},{\"attributes\":{\"line_color\":\"green\",\"x\":{\"field\":\"x\"},\"y\":{\"field\":\"y\"}},\"id\":\"4924\",\"type\":\"Line\"},{\"attributes\":{\"data\":{\"x\":[16,32,48,64,80,96,112,128,144,160,176,192,208,224,240,256,272,288,304,320,336,352,368,384,400,416,432,448,464,480,496,512,528,544,560,576,592,608,624,640,656,672,688,704,720,736,752,768,784,800,816,832,848,864,880,896,912,928,944,960,976,992,1008,1024,1040,1056,1072,1088,1104,1120,1136,1152,1168,1184,1200,1216,1232,1248,1264,1280,1296,1312,1328,1344,1360,1376,1392,1408,1424,1440,1456,1472,1488,1504,1520,1536,1552,1568,1584,1600,1616,1632,1648,1664,1680,1696,1712,1728,1744,1760,1776,1792,1808,1824,1840,1856,1872,1888,1904,1920,1936,1952,1968,1984,2000,2016,2032,2048],\"y\":{\"__ndarray__\":\"qm3DKAi+BUBDoESVqykGQEfEOY8vhgZAaDtLNVi9BUAiizTxDtAFQE+Srpl80wVAAcS4dv0dBkBIvfH/9FAGQAoXTcLgVQZA2gBsQIR4BkANbN/ti7UGQO++z123zQZA42meyDgLB0DLkxBR8SQHQPp18chpWQdA2GpqNBSSB0ADCHoDJ7YHQAo5SrlW1gdAS3CPSlYKCEDyMEhVbj0IQKWbaWc9YQhAlqO2wxWmCED5Eio4vOAIQCrHZHH/EQlAEspW8gxVCUDyoDQv4nYJQO3xQjo8pAlAFohD29a7CUBK1oYvuOsJQBDV7x2Q/wlAE9BE2PA0CkB+A+7Ut0cKQDs9SoD1kwpAuKUfHtPECkBGEJ1U6ggLQB2SteELLgtAhjfGqTFcC0BujWN/NJcLQJ2u3SwUvwtAw11i0Rn9C0DCjlq8sxEMQI5Z9iSwOQxAvVHQkmx6DECOq+wW3IoMQIAarVkdrwxAvgCxW7q4DEDOPG8ZJukMQLYMOEvJEg1Ac3edDflnDUDC4PX0bHENQJplTwKbsw1AbUpogSy6DUDWAABbufINQI46Oq5GFg5Aa02pATlXDkDmV3OAYG4OQBg6G5cWmg5Ag4dp39y/DkCoXafsT90OQKgeH+NAvg5AcJf9utP9DkCClmTTABQPQG2i4HNxJQ9AOosoN5sYD0DKVpdTAmIPQAuXVdgMsA9AJv4o6sz9D0BHk+bqIiAQQNpj2Be/LxBAREZRsXtMEEByYZPrXHcQQAbSau0ikRBAllOnqJ+sEED6HS9JCsEQQEy1BTpJ2RBAIIzpU9jmEEAU8MbdexMRQFbqo53kGBFAQYqVLII6EUCzl8hgIEMRQMLQNHInYhFAu6C+ZU6HEUBePBehM5QRQA8xFGaQoRFAEBpmDYO+EUDwA0ZNqswRQNu/DYwX5hFAsmprn+nwEUAGIcWlzwMSQMHOAw5XDRJAvYG4YcoWEkBv/nChPB0SQAMQLWgQNRJAWpZUEn4+EkAYCtgORlwSQFgH9k67XhJAsEfypmyCEkAYELXI0ZcSQE0dmmhGtRJAfpjOmJPBEkA6Yj5qXeQSQHYRS28k9RJAWUl1S7wNE0B+Q5cmWyMTQI/G/DeKNxNAIubtY2BIE0AS76WV51YTQIE0rV6PYxNA0q18Oy5/E0Aqkq8EUpITQNdEC3X9pxNAq5Z0lIO5E0BGI59XPNUTQOtF/qpt5BNALuRslbv6E0CecMD4swkUQAIaAAVyJBRAYqnkUkspFEBJ/4EoTjQUQPL6gsyENRRAUnEtpA1RFEBib70BwWcUQIZlIltMghRADSVJxiCGFEB8kRokjpYUQGAoFq79sxRAWuMireeaFEA18+SaArkUQA==\",\"dtype\":\"float64\",\"order\":\"little\",\"shape\":[128]}},\"selected\":{\"id\":\"5041\"},\"selection_policy\":{\"id\":\"5040\"}},\"id\":\"5015\",\"type\":\"ColumnDataSource\"},{\"attributes\":{\"source\":{\"id\":\"4965\"}},\"id\":\"4969\",\"type\":\"CDSView\"},{\"attributes\":{\"line_color\":\"purple\",\"x\":{\"field\":\"x\"},\"y\":{\"field\":\"y\"}},\"id\":\"5016\",\"type\":\"Line\"},{\"attributes\":{\"source\":{\"id\":\"4923\"}},\"id\":\"4927\",\"type\":\"CDSView\"},{\"attributes\":{\"line_alpha\":0.1,\"line_color\":\"yellow\",\"x\":{\"field\":\"x\"},\"y\":{\"field\":\"y\"}},\"id\":\"4967\",\"type\":\"Line\"},{\"attributes\":{\"source\":{\"id\":\"5015\"}},\"id\":\"5019\",\"type\":\"CDSView\"},{\"attributes\":{\"line_alpha\":0.1,\"line_color\":\"green\",\"x\":{\"field\":\"x\"},\"y\":{\"field\":\"y\"}},\"id\":\"4925\",\"type\":\"Line\"},{\"attributes\":{\"line_alpha\":0.1,\"line_color\":\"purple\",\"x\":{\"field\":\"x\"},\"y\":{\"field\":\"y\"}},\"id\":\"5017\",\"type\":\"Line\"},{\"attributes\":{\"label\":{\"value\":\"MS, r=3\"},\"renderers\":[{\"id\":\"5018\"}]},\"id\":\"5042\",\"type\":\"LegendItem\"},{\"attributes\":{\"label\":{\"value\":\"HAT\"},\"renderers\":[{\"id\":\"4968\"}]},\"id\":\"4988\",\"type\":\"LegendItem\"},{\"attributes\":{\"label\":{\"value\":\"monolithic\"},\"renderers\":[{\"id\":\"4926\"}]},\"id\":\"4942\",\"type\":\"LegendItem\"},{\"attributes\":{},\"id\":\"4860\",\"type\":\"DataRange1d\"},{\"attributes\":{\"bottom_units\":\"screen\",\"fill_alpha\":0.5,\"fill_color\":\"lightgrey\",\"left_units\":\"screen\",\"level\":\"overlay\",\"line_alpha\":1.0,\"line_color\":\"black\",\"line_dash\":[4,4],\"line_width\":2,\"right_units\":\"screen\",\"syncable\":false,\"top_units\":\"screen\"},\"id\":\"4880\",\"type\":\"BoxAnnotation\"},{\"attributes\":{},\"id\":\"4940\",\"type\":\"UnionRenderers\"},{\"attributes\":{},\"id\":\"4986\",\"type\":\"UnionRenderers\"},{\"attributes\":{},\"id\":\"5040\",\"type\":\"UnionRenderers\"},{\"attributes\":{},\"id\":\"4941\",\"type\":\"Selection\"}],\"root_ids\":[\"4855\"]},\"title\":\"Bokeh Application\",\"version\":\"2.3.2\"}};\n  var render_items = [{\"docid\":\"f427c260-6409-4793-9761-8cc1189967a8\",\"root_ids\":[\"4855\"],\"roots\":{\"4855\":\"27f31c8b-799d-43a1-81ac-64033c71683e\"}}];\n  root.Bokeh.embed.embed_items_notebook(docs_json, render_items);\n\n  }\n  if (root.Bokeh !== undefined) {\n    embed_document(root);\n  } else {\n    var attempts = 0;\n    var timer = setInterval(function(root) {\n      if (root.Bokeh !== undefined) {\n        clearInterval(timer);\n        embed_document(root);\n      } else {\n        attempts++;\n        if (attempts > 100) {\n          clearInterval(timer);\n          console.log(\"Bokeh: ERROR: Unable to run BokehJS code because BokehJS library is missing\");\n        }\n      }\n    }, 10, root)\n  }\n})(window);",
      "application/vnd.bokehjs_exec.v0+json": ""
     },
     "metadata": {
      "application/vnd.bokehjs_exec.v0+json": {
       "id": "4855"
      }
     },
     "output_type": "display_data"
    }
   ],
   "source": [
    "def visualise_with_base(r1, r2, r3, r4, r5, r6, r7, r8):\n",
    "    p = figure(title = 'run time of different array types', plot_width = 900, x_axis_label = 'size of each element', y_axis_label = 'avergae time')\n",
    "    p.line(r1.element_size, r1.time, color = 'blue', legend_label = \"SQarray\")\n",
    "    p.line(r2.element_size, r2.time, color = 'red', legend_label = \"sliced\")\n",
    "    p.line(r3.element_size, r3.time, color = 'green', legend_label = \"monolithic\")\n",
    "    p.line(r4.element_size, r4.time, color = 'black', legend_label = \"base\")\n",
    "    p.line(r5.element_size, r5.time, color = 'yellow', legend_label = \"HAT\")\n",
    "    p.line(r6.element_size, r6.time, color = 'orange', legend_label = \"MS, r=2\")\n",
    "    p.line(r7.element_size, r7.time, color = 'purple', legend_label = \"MS, r=3\")\n",
    "    p.line(r8.element_size, r8.time, color = 'indigo', legend_label = \"MS, r=4\")\n",
    "    p.legend.location = \"top_left\"\n",
    "    show(p)\n",
    "visualise_with_base(SQ_data, sliced_data, mono_data, base_data, HAT_data, MS2, MS3, MS4)"
   ]
  },
  {
   "cell_type": "code",
   "execution_count": 17,
   "metadata": {},
   "outputs": [
    {
     "ename": "TypeError",
     "evalue": "visualise_with_base() missing 4 required positional arguments: 'r5', 'r6', 'r7', and 'r8'",
     "output_type": "error",
     "traceback": [
      "\u001b[0;31m---------------------------------------------------------------------------\u001b[0m",
      "\u001b[0;31mTypeError\u001b[0m                                 Traceback (most recent call last)",
      "\u001b[0;32m<ipython-input-17-cb9fdce0f23a>\u001b[0m in \u001b[0;36m<module>\u001b[0;34m\u001b[0m\n\u001b[1;32m      5\u001b[0m \u001b[0mbase_vol\u001b[0m \u001b[0;34m=\u001b[0m \u001b[0mvolatility\u001b[0m\u001b[0;34m[\u001b[0m\u001b[0mvolatility\u001b[0m\u001b[0;34m[\u001b[0m\u001b[0;34m\"array_type\"\u001b[0m\u001b[0;34m]\u001b[0m \u001b[0;34m==\u001b[0m \u001b[0;34m\"base\"\u001b[0m\u001b[0;34m]\u001b[0m\u001b[0;34m\u001b[0m\u001b[0;34m\u001b[0m\u001b[0m\n\u001b[1;32m      6\u001b[0m \u001b[0;34m\u001b[0m\u001b[0m\n\u001b[0;32m----> 7\u001b[0;31m \u001b[0mvisualise_with_base\u001b[0m\u001b[0;34m(\u001b[0m\u001b[0mSQ_vol\u001b[0m\u001b[0;34m,\u001b[0m \u001b[0msliced_vol\u001b[0m\u001b[0;34m,\u001b[0m \u001b[0mmono_vol\u001b[0m\u001b[0;34m,\u001b[0m \u001b[0mbase_vol\u001b[0m\u001b[0;34m)\u001b[0m\u001b[0;34m\u001b[0m\u001b[0;34m\u001b[0m\u001b[0m\n\u001b[0m",
      "\u001b[0;31mTypeError\u001b[0m: visualise_with_base() missing 4 required positional arguments: 'r5', 'r6', 'r7', and 'r8'"
     ]
    }
   ],
   "source": [
    "volatility = data.groupby(['array_type', 'element_size']).std().reset_index()\n",
    "SQ_vol = volatility[volatility[\"array_type\"] == \"SQ\"]\n",
    "sliced_vol = volatility[volatility[\"array_type\"] == \"sliced\"]\n",
    "mono_vol = volatility[volatility[\"array_type\"] == \"mono\"]\n",
    "base_vol = volatility[volatility[\"array_type\"] == \"base\"]\n",
    "\n",
    "visualise_with_base(SQ_vol, sliced_vol, mono_vol, base_vol)"
   ]
  },
  {
   "cell_type": "code",
   "execution_count": 5,
   "metadata": {},
   "outputs": [
    {
     "data": {
      "text/html": [
       "\n",
       "\n",
       "\n",
       "\n",
       "\n",
       "\n",
       "  <div class=\"bk-root\" id=\"9497f11a-ac68-4545-9098-a30b5c756134\" data-root-id=\"1431\"></div>\n"
      ]
     },
     "metadata": {},
     "output_type": "display_data"
    },
    {
     "data": {
      "application/javascript": "(function(root) {\n  function embed_document(root) {\n    \n  var docs_json = {\"9fb3c34a-950c-4205-aad9-31826458df98\":{\"defs\":[],\"roots\":{\"references\":[{\"attributes\":{\"below\":[{\"id\":\"1442\"}],\"center\":[{\"id\":\"1445\"},{\"id\":\"1449\"},{\"id\":\"1479\"}],\"left\":[{\"id\":\"1446\"}],\"renderers\":[{\"id\":\"1467\"},{\"id\":\"1484\"},{\"id\":\"1502\"},{\"id\":\"1522\"}],\"title\":{\"id\":\"1432\"},\"toolbar\":{\"id\":\"1457\"},\"width\":900,\"x_range\":{\"id\":\"1434\"},\"x_scale\":{\"id\":\"1438\"},\"y_range\":{\"id\":\"1436\"},\"y_scale\":{\"id\":\"1440\"}},\"id\":\"1431\",\"subtype\":\"Figure\",\"type\":\"Plot\"},{\"attributes\":{\"line_color\":\"blue\",\"x\":{\"field\":\"x\"},\"y\":{\"field\":\"y\"}},\"id\":\"1465\",\"type\":\"Line\"},{\"attributes\":{\"axis\":{\"id\":\"1442\"},\"ticker\":null},\"id\":\"1445\",\"type\":\"Grid\"},{\"attributes\":{},\"id\":\"1451\",\"type\":\"WheelZoomTool\"},{\"attributes\":{},\"id\":\"1455\",\"type\":\"HelpTool\"},{\"attributes\":{},\"id\":\"1443\",\"type\":\"BasicTicker\"},{\"attributes\":{\"line_color\":\"red\",\"x\":{\"field\":\"x\"},\"y\":{\"field\":\"y\"}},\"id\":\"1482\",\"type\":\"Line\"},{\"attributes\":{},\"id\":\"1436\",\"type\":\"DataRange1d\"},{\"attributes\":{},\"id\":\"1450\",\"type\":\"PanTool\"},{\"attributes\":{\"axis_label\":\"size of each element\",\"formatter\":{\"id\":\"1471\"},\"major_label_policy\":{\"id\":\"1472\"},\"ticker\":{\"id\":\"1443\"}},\"id\":\"1442\",\"type\":\"LinearAxis\"},{\"attributes\":{\"overlay\":{\"id\":\"1456\"}},\"id\":\"1452\",\"type\":\"BoxZoomTool\"},{\"attributes\":{},\"id\":\"1447\",\"type\":\"BasicTicker\"},{\"attributes\":{},\"id\":\"1453\",\"type\":\"SaveTool\"},{\"attributes\":{},\"id\":\"1454\",\"type\":\"ResetTool\"},{\"attributes\":{\"axis_label\":\"avergae time\",\"formatter\":{\"id\":\"1474\"},\"major_label_policy\":{\"id\":\"1475\"},\"ticker\":{\"id\":\"1447\"}},\"id\":\"1446\",\"type\":\"LinearAxis\"},{\"attributes\":{\"data_source\":{\"id\":\"1464\"},\"glyph\":{\"id\":\"1465\"},\"hover_glyph\":null,\"muted_glyph\":null,\"nonselection_glyph\":{\"id\":\"1466\"},\"view\":{\"id\":\"1468\"}},\"id\":\"1467\",\"type\":\"GlyphRenderer\"},{\"attributes\":{\"source\":{\"id\":\"1499\"}},\"id\":\"1503\",\"type\":\"CDSView\"},{\"attributes\":{},\"id\":\"1477\",\"type\":\"Selection\"},{\"attributes\":{},\"id\":\"1478\",\"type\":\"UnionRenderers\"},{\"attributes\":{\"label\":{\"value\":\"SQarray\"},\"renderers\":[{\"id\":\"1467\"}]},\"id\":\"1480\",\"type\":\"LegendItem\"},{\"attributes\":{\"source\":{\"id\":\"1519\"}},\"id\":\"1523\",\"type\":\"CDSView\"},{\"attributes\":{\"active_multi\":null,\"tools\":[{\"id\":\"1450\"},{\"id\":\"1451\"},{\"id\":\"1452\"},{\"id\":\"1453\"},{\"id\":\"1454\"},{\"id\":\"1455\"}]},\"id\":\"1457\",\"type\":\"Toolbar\"},{\"attributes\":{\"label\":{\"value\":\"sliced\"},\"renderers\":[{\"id\":\"1484\"}]},\"id\":\"1498\",\"type\":\"LegendItem\"},{\"attributes\":{\"source\":{\"id\":\"1481\"}},\"id\":\"1485\",\"type\":\"CDSView\"},{\"attributes\":{},\"id\":\"1438\",\"type\":\"LinearScale\"},{\"attributes\":{\"label\":{\"value\":\"monolithic\"},\"renderers\":[{\"id\":\"1502\"}]},\"id\":\"1518\",\"type\":\"LegendItem\"},{\"attributes\":{},\"id\":\"1440\",\"type\":\"LinearScale\"},{\"attributes\":{\"axis\":{\"id\":\"1446\"},\"dimension\":1,\"ticker\":null},\"id\":\"1449\",\"type\":\"Grid\"},{\"attributes\":{\"line_alpha\":0.1,\"line_color\":\"blue\",\"x\":{\"field\":\"x\"},\"y\":{\"field\":\"y\"}},\"id\":\"1466\",\"type\":\"Line\"},{\"attributes\":{\"data_source\":{\"id\":\"1481\"},\"glyph\":{\"id\":\"1482\"},\"hover_glyph\":null,\"muted_glyph\":null,\"nonselection_glyph\":{\"id\":\"1483\"},\"view\":{\"id\":\"1485\"}},\"id\":\"1484\",\"type\":\"GlyphRenderer\"},{\"attributes\":{},\"id\":\"1434\",\"type\":\"DataRange1d\"},{\"attributes\":{\"line_alpha\":0.1,\"line_color\":\"red\",\"x\":{\"field\":\"x\"},\"y\":{\"field\":\"y\"}},\"id\":\"1483\",\"type\":\"Line\"},{\"attributes\":{},\"id\":\"1471\",\"type\":\"BasicTickFormatter\"},{\"attributes\":{},\"id\":\"1496\",\"type\":\"Selection\"},{\"attributes\":{\"text\":\"run time of different array types\"},\"id\":\"1432\",\"type\":\"Title\"},{\"attributes\":{},\"id\":\"1497\",\"type\":\"UnionRenderers\"},{\"attributes\":{},\"id\":\"1516\",\"type\":\"Selection\"},{\"attributes\":{},\"id\":\"1517\",\"type\":\"UnionRenderers\"},{\"attributes\":{},\"id\":\"1472\",\"type\":\"AllLabels\"},{\"attributes\":{\"data_source\":{\"id\":\"1499\"},\"glyph\":{\"id\":\"1500\"},\"hover_glyph\":null,\"muted_glyph\":null,\"nonselection_glyph\":{\"id\":\"1501\"},\"view\":{\"id\":\"1503\"}},\"id\":\"1502\",\"type\":\"GlyphRenderer\"},{\"attributes\":{},\"id\":\"1474\",\"type\":\"BasicTickFormatter\"},{\"attributes\":{},\"id\":\"1538\",\"type\":\"Selection\"},{\"attributes\":{\"data\":{\"x\":{\"__ndarray__\":\"AAAAAAAAEEAAAAAAAAAUQFrv52gAVxZAAAAAAAAAGEC50byEp0kZQFrv52gAVxpAFgKqP7s6G0AAAAAAAAAcQLTez9EArhxAudG8hKdJHUChLgM+ddYdQFrv52gAVx5AGfHIEUDNHkAWAqo/uzofQBPBpO2noB9AAAAAAAAAIEAmkvXtxywgQFrv52gAVyBAoAnkWvB+IEDcaF7C06QgQLj4SNTdyCBAUJcBnzrrIECqYw1QEAwhQK33czSAKyFAudG8hKdJIUCNeOQIoGYhQAfnW52AgiFACwHVn12dIUAuU/VISbchQIlg0vZT0CFApyY2a4zoIUAAAAAAAAAiQP6OddO6FiJAJpL17ccsIkDoaTNiMUIiQFrv52gAVyJAstO2eD1rIkCgCeRa8H4iQDpwWD0gkiJA3GhewtOkIkBn6GwOEbciQLj4SNTdyCJAFcS5Xz/aIkBQlwGfOusiQDZYRivU+yJAqmMNUBAMI0ABXekR8xsjQK33czSAKyNAFgKqP7s6I0C50byEp0kjQNOJaSJIWCNAjXjkCKBmI0B14GT9sXQjQAfnW52AgiNALQBgYQ6QI0ALAdWfXZ0jQE0BWI9wqiNALlP1SEm3I0AFGi7K6cMjQIlg0vZT0CNAV/+zmoncI0CnJjZrjOgjQGXwvAhe9CNAAAAAAAAAJEBp4ULLcwskQP6OddO6FiRAP0U/cdYhJEAmkvXtxywkQFdbgYSQNyRA6GkzYjFCJEC44omnq0wkQFrv52gAVyRAD7xArzBhJECy07Z4PWskQGbJMLkndSRAoAnkWvB+JEBcmNY+mIgkQDpwWD0gkiRAbyZ1JombJEDcaF7C06QkQLTez9EAriRAZ+hsDhG3JEDjsBgrBcAkQLj4SNTdyCRAA/tTsJvRJEAVxLlfP9okQNtKaX3J4iRAUJcBnzrrJECnOg9Vk/MkQDZYRivU+yRAmHm5qP0DJUCqYw1QEAwlQFQeqp8MFCVAAV3pEfMbJUB9ckIdxCMlQK33czSAKyVAykmrxiczJUAWAqo/uzolQKuG6Qc7QiVAudG8hKdJJUCQinAYAVElQNOJaSJIWCVAm+BB/3xfJUCNeOQIoGYlQJVhp5axbSVAdeBk/bF0JUAuUJOPoXslQAfnW52AgiVA+W6wdE+JJUAtAGBhDpAlQF/LKq29liVACwHVn12dJUCC4Th/7qMlQE0BWI9wqiVAh8xrEuSwJUAuU/VISbclQOdnzHGgvSVABRouyunDJUAxk8qNJcolQIlg0vZT0CVAoS4DPnXWJUBX/7OaidwlQBTg4EKR4iVApyY2a4zoJUCVOhtHe+4lQGXwvAhe9CVAI3wX4TT6JUAAAAAAAAAmQA==\",\"dtype\":\"float64\",\"order\":\"little\",\"shape\":[128]},\"y\":{\"__ndarray__\":\"xzZDYAhRE8A08XxaCjgTwAx3bLGyixLAW7ZV5sO5EcBO4PSzPnoRwKCKTVf/XBHAfCiExE3/EMCCDEcS0LAQwO/kgr6+UxDAFDN8SdZYEMBnw5L6BRQQwG7K//BRrA/AidWbGmcxD8DTDR6sAAsPwMZFNlxNfg7ADXJGdOocDsB9I/dNpyINwDX8CgXULQ3AlzVYSddDDMAOTzww/G4MwEj/Ed+IiAvAzcPQNqxGC8CtNHlPt/cKwOsH3RtL1ArAeMDQobyLCsBg/XF+tz4KwDDiEt+P3wnA6gWw38amCcCsb7SYQzIJwOqPzuqDDAnAZYqLMRjnCMBZO6/41bAIwG5Vx5axPgjASxmI/+9ZCMAQS5HLUxMIwFcuUa+noQfAzOaF9OydB8AO6uQhxn4HwANVvIlLOQfAxOg+K5EJB8AYSijM8uMGwH2uVeW7mgbAnWS3inexBsAzGH6GwEMGwD1hivIw9gXA4Ejfc4b5BcC67hKM5K4FwJTC/FsExQXA7XwkraN2BcBjSJ/CbEMFwD1w9qVqNQXAsyWEPhrlBMBGVSZ3/rwEwJT/O7dltwTAa+KY2AiWBMCTPH6S6mQEwLCWQ45bNgTA9yoCBUUOBMDtVx0KvdsDwDx4YA7ywAPAJnow7qWaA8BBeJVxy4gDwAQferDZKAPA2voMOKFtA8CbYH5SLPwCwPhW8Ly42gLAV2EDY9/LAsCSROfsPqcCwH8oYtHLrgLA3GUnAuVyAsBVJ4oKWFwCwLRDBzzjNALAH6dvZB0DAsD4gaWJffUBwEMCa/Ne0AHAl4UWHx2rAcCWB49th4oBwKF2WcuqdQHABFeilpxRAcAm9RJTwEoBwCEOjPIODwHAj1zjdVUCAcDXkWTRwwkBwFf8FAFNvwDAfuNNI3maAMDATZBuXoUAwCfjSmALbADAONe/LKpHAMD5cpMKwT4AwIOAYLwd+f+/SsvM8wn3/7+cbx/iZ8v/v9UE2ssFdv+/Vy4MHsZA/7/fBtCbLyn/v6dIsKfREf+/QQfGyyMc/7+E8X3u5kr/v9PsjBvfQf6/w+2hPfPg/b/CrThdYwz+v2eHi+pmrv2/ewg4yvtJ/b+xsjCVjyv9v+IVtQUzH/2/KJR1dpb9/L904UerA8X8v0vwqthBcvy/8iH588tA/L83PoUuYzf8v1CAdJat4Pu/M/gWL4HW+78WDdtZupX7v1eoHgfNcvu/LXjnrKkc+7+vk8BQwg/7vzbQ4RGO1Pq/f3YXGHWL+r/8Uwm7op76vyz9To46Efu/U8vrOGJO+r+PEQu/5SD6v5UQXUHlePq/k2hHeyNQ+r8+5G5Ce8D5v7OS/sKfYfm/7iZpE1VF+b/Z4PRdA3f5vw==\",\"dtype\":\"float64\",\"order\":\"little\",\"shape\":[128]}},\"selected\":{\"id\":\"1477\"},\"selection_policy\":{\"id\":\"1478\"}},\"id\":\"1464\",\"type\":\"ColumnDataSource\"},{\"attributes\":{},\"id\":\"1539\",\"type\":\"UnionRenderers\"},{\"attributes\":{\"items\":[{\"id\":\"1480\"},{\"id\":\"1498\"},{\"id\":\"1518\"},{\"id\":\"1540\"}],\"location\":\"top_left\"},\"id\":\"1479\",\"type\":\"Legend\"},{\"attributes\":{},\"id\":\"1475\",\"type\":\"AllLabels\"},{\"attributes\":{\"bottom_units\":\"screen\",\"fill_alpha\":0.5,\"fill_color\":\"lightgrey\",\"left_units\":\"screen\",\"level\":\"overlay\",\"line_alpha\":1.0,\"line_color\":\"black\",\"line_dash\":[4,4],\"line_width\":2,\"right_units\":\"screen\",\"syncable\":false,\"top_units\":\"screen\"},\"id\":\"1456\",\"type\":\"BoxAnnotation\"},{\"attributes\":{\"source\":{\"id\":\"1464\"}},\"id\":\"1468\",\"type\":\"CDSView\"},{\"attributes\":{\"data_source\":{\"id\":\"1519\"},\"glyph\":{\"id\":\"1520\"},\"hover_glyph\":null,\"muted_glyph\":null,\"nonselection_glyph\":{\"id\":\"1521\"},\"view\":{\"id\":\"1523\"}},\"id\":\"1522\",\"type\":\"GlyphRenderer\"},{\"attributes\":{\"line_color\":\"green\",\"x\":{\"field\":\"x\"},\"y\":{\"field\":\"y\"}},\"id\":\"1500\",\"type\":\"Line\"},{\"attributes\":{\"line_alpha\":0.1,\"x\":{\"field\":\"x\"},\"y\":{\"field\":\"y\"}},\"id\":\"1521\",\"type\":\"Line\"},{\"attributes\":{\"data\":{\"x\":{\"__ndarray__\":\"AAAAAAAAEEAAAAAAAAAUQFrv52gAVxZAAAAAAAAAGEC50byEp0kZQFrv52gAVxpAFgKqP7s6G0AAAAAAAAAcQLTez9EArhxAudG8hKdJHUChLgM+ddYdQFrv52gAVx5AGfHIEUDNHkAWAqo/uzofQBPBpO2noB9AAAAAAAAAIEAmkvXtxywgQFrv52gAVyBAoAnkWvB+IEDcaF7C06QgQLj4SNTdyCBAUJcBnzrrIECqYw1QEAwhQK33czSAKyFAudG8hKdJIUCNeOQIoGYhQAfnW52AgiFACwHVn12dIUAuU/VISbchQIlg0vZT0CFApyY2a4zoIUAAAAAAAAAiQP6OddO6FiJAJpL17ccsIkDoaTNiMUIiQFrv52gAVyJAstO2eD1rIkCgCeRa8H4iQDpwWD0gkiJA3GhewtOkIkBn6GwOEbciQLj4SNTdyCJAFcS5Xz/aIkBQlwGfOusiQDZYRivU+yJAqmMNUBAMI0ABXekR8xsjQK33czSAKyNAFgKqP7s6I0C50byEp0kjQNOJaSJIWCNAjXjkCKBmI0B14GT9sXQjQAfnW52AgiNALQBgYQ6QI0ALAdWfXZ0jQE0BWI9wqiNALlP1SEm3I0AFGi7K6cMjQIlg0vZT0CNAV/+zmoncI0CnJjZrjOgjQGXwvAhe9CNAAAAAAAAAJEBp4ULLcwskQP6OddO6FiRAP0U/cdYhJEAmkvXtxywkQFdbgYSQNyRA6GkzYjFCJEC44omnq0wkQFrv52gAVyRAD7xArzBhJECy07Z4PWskQGbJMLkndSRAoAnkWvB+JEBcmNY+mIgkQDpwWD0gkiRAbyZ1JombJEDcaF7C06QkQLTez9EAriRAZ+hsDhG3JEDjsBgrBcAkQLj4SNTdyCRAA/tTsJvRJEAVxLlfP9okQNtKaX3J4iRAUJcBnzrrJECnOg9Vk/MkQDZYRivU+yRAmHm5qP0DJUCqYw1QEAwlQFQeqp8MFCVAAV3pEfMbJUB9ckIdxCMlQK33czSAKyVAykmrxiczJUAWAqo/uzolQKuG6Qc7QiVAudG8hKdJJUCQinAYAVElQNOJaSJIWCVAm+BB/3xfJUCNeOQIoGYlQJVhp5axbSVAdeBk/bF0JUAuUJOPoXslQAfnW52AgiVA+W6wdE+JJUAtAGBhDpAlQF/LKq29liVACwHVn12dJUCC4Th/7qMlQE0BWI9wqiVAh8xrEuSwJUAuU/VISbclQOdnzHGgvSVABRouyunDJUAxk8qNJcolQIlg0vZT0CVAoS4DPnXWJUBX/7OaidwlQBTg4EKR4iVApyY2a4zoJUCVOhtHe+4lQGXwvAhe9CVAI3wX4TT6JUAAAAAAAAAmQA==\",\"dtype\":\"float64\",\"order\":\"little\",\"shape\":[128]},\"y\":{\"__ndarray__\":\"parxfMWnFMD3nj/cDOATwEDGDwUXSxPAXRM31spkE8DaArVUIukSwNH/wXrYxRLAGxpqy806EsCXRYkVMdIRwB+FyvwcyRHAP9ddbU2IEcDNJBhAHqkRwEw7llhC5RDAxKGY92izEMADBcsILYIQwLZR6ExhCxDAPxxMDirsD8BlTMICCR4PwHqYEWb88g7AnmZCTGbiDcC5jVsnD8sNwCo7P01gLw3AOQ+n/qLvDMDDk/aGIeQMwLMm5H4YlQzAUXovEuDRC8BqMBiN7dELwPL0ZExAegvAGwcLSpoUC8DTVgWk0vgKwF/rkIXRwQrAYcNwstliCsD7ZGmbRzUKwGdeBOTy+AnABCkm7mCsCcCe72epnGwJwGh3GnIwKgnAfRkFwdruCMCciVw906MIwM+J0ja6eQjAgjmEVbpuCMCyGOgcchYIwOQ7mgUoGAjADd7ODnSLB8BSmczVSXAHwI+C05XqGwfAep359Y3fBsB/2aaCtrwGwGYIpOSjmAbAC4ls6g15BsC/fOOJujcGwIvpX49bAQbAo8z2XjfBBcDzSMyfBsIFwEYiQzYPhgXA/Uf54TZ2BcD66qFCSj4FwEdy7uFxBwXAqNN5hC/QBMDQGJahTrEEwMm0sxt7vATA6/c/2lWaBMBOokrMT1QEwKkn3mEwDgTAmOJRcWnwA8DZ0mR5tRkEwPFC8NdusgPA3hAyGXd6A8D3pfS8UYQDwHwSTlnsQQPAKvqVosMaA8B5hWe3NfICwKd9pjTZwQLA2d7f9gHkAsCEC7o/5K4CwMgm/b7EUgLAjwRRrdSUAsDWDfhx0hgCwNhuw3auCwLAvQagKY/yAcBAxXwP/74BwGvYOseusAHARsaWbRt6AcCEOs7ANnUBwF+CNcliNgHABVMfK/tGAcB7hELLKRwBwFnDodET9gDAzD/eJF2/AMCvKr2VsMQAwNLbYwY9kgDA7PMedApuAMCx9j0OK1cAwKCFc1hKOADA2bviZxorAMAI95mzKg0AwIy9eOsxx/+/DH67tgEuAMAci1z5RfL/vxNFEA+WRf+/TgXmmKkF/7+V98GRsbz+v13GnwEQgv6/gh0DneBN/r//uflbJfz9vxMV/gLEJP6//9naRNwz/r/aTmGZ0Mb9vxu+2M1OS/2/pZIgrLkV/b++BJiULQX9vxtdOXJr1fy/khuhMgqt/L/oQsG0FJL8v/0p6WBDMfy/HQQyUGBF/L9v4eI4Hu77vymXNE16uPu/KniSYMeB+7+k59Qbzk/7vyXaceU5nvu/mO9XNYiZ+7+Yjr9OQMv6vwgJJtMn4/q/ybqe1W1l+79WEsdLkCb6vxcTG/DmD/q/m/9bbTfw+b+iG9+a5aL5vw==\",\"dtype\":\"float64\",\"order\":\"little\",\"shape\":[128]}},\"selected\":{\"id\":\"1516\"},\"selection_policy\":{\"id\":\"1517\"}},\"id\":\"1499\",\"type\":\"ColumnDataSource\"},{\"attributes\":{\"data\":{\"x\":{\"__ndarray__\":\"AAAAAAAAEEAAAAAAAAAUQFrv52gAVxZAAAAAAAAAGEC50byEp0kZQFrv52gAVxpAFgKqP7s6G0AAAAAAAAAcQLTez9EArhxAudG8hKdJHUChLgM+ddYdQFrv52gAVx5AGfHIEUDNHkAWAqo/uzofQBPBpO2noB9AAAAAAAAAIEAmkvXtxywgQFrv52gAVyBAoAnkWvB+IEDcaF7C06QgQLj4SNTdyCBAUJcBnzrrIECqYw1QEAwhQK33czSAKyFAudG8hKdJIUCNeOQIoGYhQAfnW52AgiFACwHVn12dIUAuU/VISbchQIlg0vZT0CFApyY2a4zoIUAAAAAAAAAiQP6OddO6FiJAJpL17ccsIkDoaTNiMUIiQFrv52gAVyJAstO2eD1rIkCgCeRa8H4iQDpwWD0gkiJA3GhewtOkIkBn6GwOEbciQLj4SNTdyCJAFcS5Xz/aIkBQlwGfOusiQDZYRivU+yJAqmMNUBAMI0ABXekR8xsjQK33czSAKyNAFgKqP7s6I0C50byEp0kjQNOJaSJIWCNAjXjkCKBmI0B14GT9sXQjQAfnW52AgiNALQBgYQ6QI0ALAdWfXZ0jQE0BWI9wqiNALlP1SEm3I0AFGi7K6cMjQIlg0vZT0CNAV/+zmoncI0CnJjZrjOgjQGXwvAhe9CNAAAAAAAAAJEBp4ULLcwskQP6OddO6FiRAP0U/cdYhJEAmkvXtxywkQFdbgYSQNyRA6GkzYjFCJEC44omnq0wkQFrv52gAVyRAD7xArzBhJECy07Z4PWskQGbJMLkndSRAoAnkWvB+JEBcmNY+mIgkQDpwWD0gkiRAbyZ1JombJEDcaF7C06QkQLTez9EAriRAZ+hsDhG3JEDjsBgrBcAkQLj4SNTdyCRAA/tTsJvRJEAVxLlfP9okQNtKaX3J4iRAUJcBnzrrJECnOg9Vk/MkQDZYRivU+yRAmHm5qP0DJUCqYw1QEAwlQFQeqp8MFCVAAV3pEfMbJUB9ckIdxCMlQK33czSAKyVAykmrxiczJUAWAqo/uzolQKuG6Qc7QiVAudG8hKdJJUCQinAYAVElQNOJaSJIWCVAm+BB/3xfJUCNeOQIoGYlQJVhp5axbSVAdeBk/bF0JUAuUJOPoXslQAfnW52AgiVA+W6wdE+JJUAtAGBhDpAlQF/LKq29liVACwHVn12dJUCC4Th/7qMlQE0BWI9wqiVAh8xrEuSwJUAuU/VISbclQOdnzHGgvSVABRouyunDJUAxk8qNJcolQIlg0vZT0CVAoS4DPnXWJUBX/7OaidwlQBTg4EKR4iVApyY2a4zoJUCVOhtHe+4lQGXwvAhe9CVAI3wX4TT6JUAAAAAAAAAmQA==\",\"dtype\":\"float64\",\"order\":\"little\",\"shape\":[128]},\"y\":{\"__ndarray__\":\"R2A45TQ7E8CZxbdIy1ESwJc5uAqlthHAm+NnmyBQEcAxWX8H78IQwGZyB6fy7BDA1ZU92NijEMCVZjLH7+IQwOZamIyiSBDA08yl4EomEMCYutAx3tsPwCm2aS07dA/A1LTlIfd0DsDFW2DsXU4OwMG86vewWw3AbuLiRoQnDsAQ9y7sTrIMwMhLSq3KqQzA8r/dMZ2/C8ACxfx1a7MLwEQtq3t0dAvAumQP2Oz7CsDjyFF6LFAKwCTJV6kTWwrAaZlw9wnXCcDMK1NePAMKwMoO5GR1dgnAGC+pY7DLCcDcY2LbEuIIwH0mokUJzQjAKfaUA75HCMD5ixRiG3QIwNbDereT9AfAqWYqiMALCMBp14R60oIHwIZQgXziqAfA+jZoY45OB8AyJVbagEoHwHBPMPpo1QbAkmYmAC26BsBAMzKzTZ8GwNul8nCWigbAd/TxoRMXBsAQJRmEIAQGwFUPJktc7wXA31oV7s6XBcChELrlmFoFwLlfITcXhQXAt7erwPs2BcAJebo+GSAFwF2WLijSxgTAnUJR/ZO0BMAC4WcyuJQEwHpayyNwdwTAphz1WL0WBMB4BRlqo0oEwLPxp1DtDQTAcT/YkBPrA8AfJmkAopcDwMDDN4g3twPAfhAacaleA8AfSkcGZkwDwJzEVoEyGwPATU0/h6JBA8AT1PqqPbwCwPCJMQmSvALAMk0OIvmtAsDLeYoPlaICwD6HcIQjWALAVCqAto9UAsBrOXQWkh4CwDtZYL3y8gHAji+hQMbmAcB+bgRHV80BwCoxftcAoQHA4LHhAs99AcDeoqLsbEsBwCgZF/peRAHA82UCYS35AMDBU4BJrB0BwOWd/rDe4gDAgtNU1frcAMANvsleSI0AwNX7mEn2kADAYIWWX9FMAMAWJlEZimoAwOakPawyGQDAHFU17wkpAMAgjYDfkPH/v6uFCYt61/+/7w7ZEuZr/78RW2z663n/v1Ys7mjs/P6/q9T36ZPN/r9ARFxZ2Gn+v00qPEGXsf6/v99vNjXK/r8tTezrvuv+v/cOnvum6v2/OYgW5TjE/b/POh8g8m/9vzFZPCtcdP2/TQUOUFtk/b82qEHaefv8vzDkoQX1ofy/Mowyr2OF/L8K+dYGZ1L8v8n2PVfti/y/h7TtnQL1+79Qduh8efz7v+8lMB7ozvu/uxcOZM2C+78jllDr2Hj7v56wmzorJPu/x+Xv3v/T+r8AIgxru+X6v8RNQ0enhPq/b8LRDK1l+r9EcwKopx/6v/isMffsp/q/GzLGE2jc+b8Gsq3Mzw36v7AzShTtsfm/usQLU+Ah+r/IdKuXBiH5vxE7g8tSDfm/UCzytS/I+L+jn5V95O/4vw==\",\"dtype\":\"float64\",\"order\":\"little\",\"shape\":[128]}},\"selected\":{\"id\":\"1496\"},\"selection_policy\":{\"id\":\"1497\"}},\"id\":\"1481\",\"type\":\"ColumnDataSource\"},{\"attributes\":{\"line_alpha\":0.1,\"line_color\":\"green\",\"x\":{\"field\":\"x\"},\"y\":{\"field\":\"y\"}},\"id\":\"1501\",\"type\":\"Line\"},{\"attributes\":{\"x\":{\"field\":\"x\"},\"y\":{\"field\":\"y\"}},\"id\":\"1520\",\"type\":\"Line\"},{\"attributes\":{\"label\":{\"value\":\"base\"},\"renderers\":[{\"id\":\"1522\"}]},\"id\":\"1540\",\"type\":\"LegendItem\"},{\"attributes\":{\"data\":{\"x\":{\"__ndarray__\":\"AAAAAAAAEEAAAAAAAAAUQFrv52gAVxZAAAAAAAAAGEC50byEp0kZQFrv52gAVxpAFgKqP7s6G0AAAAAAAAAcQLTez9EArhxAudG8hKdJHUChLgM+ddYdQFrv52gAVx5AGfHIEUDNHkAWAqo/uzofQBPBpO2noB9AAAAAAAAAIEAmkvXtxywgQFrv52gAVyBAoAnkWvB+IEDcaF7C06QgQLj4SNTdyCBAUJcBnzrrIECqYw1QEAwhQK33czSAKyFAudG8hKdJIUCNeOQIoGYhQAfnW52AgiFACwHVn12dIUAuU/VISbchQIlg0vZT0CFApyY2a4zoIUAAAAAAAAAiQP6OddO6FiJAJpL17ccsIkDoaTNiMUIiQFrv52gAVyJAstO2eD1rIkCgCeRa8H4iQDpwWD0gkiJA3GhewtOkIkBn6GwOEbciQLj4SNTdyCJAFcS5Xz/aIkBQlwGfOusiQDZYRivU+yJAqmMNUBAMI0ABXekR8xsjQK33czSAKyNAFgKqP7s6I0C50byEp0kjQNOJaSJIWCNAjXjkCKBmI0B14GT9sXQjQAfnW52AgiNALQBgYQ6QI0ALAdWfXZ0jQE0BWI9wqiNALlP1SEm3I0AFGi7K6cMjQIlg0vZT0CNAV/+zmoncI0CnJjZrjOgjQGXwvAhe9CNAAAAAAAAAJEBp4ULLcwskQP6OddO6FiRAP0U/cdYhJEAmkvXtxywkQFdbgYSQNyRA6GkzYjFCJEC44omnq0wkQFrv52gAVyRAD7xArzBhJECy07Z4PWskQGbJMLkndSRAoAnkWvB+JEBcmNY+mIgkQDpwWD0gkiRAbyZ1JombJEDcaF7C06QkQLTez9EAriRAZ+hsDhG3JEDjsBgrBcAkQLj4SNTdyCRAA/tTsJvRJEAVxLlfP9okQNtKaX3J4iRAUJcBnzrrJECnOg9Vk/MkQDZYRivU+yRAmHm5qP0DJUCqYw1QEAwlQFQeqp8MFCVAAV3pEfMbJUB9ckIdxCMlQK33czSAKyVAykmrxiczJUAWAqo/uzolQKuG6Qc7QiVAudG8hKdJJUCQinAYAVElQNOJaSJIWCVAm+BB/3xfJUCNeOQIoGYlQJVhp5axbSVAdeBk/bF0JUAuUJOPoXslQAfnW52AgiVA+W6wdE+JJUAtAGBhDpAlQF/LKq29liVACwHVn12dJUCC4Th/7qMlQE0BWI9wqiVAh8xrEuSwJUAuU/VISbclQOdnzHGgvSVABRouyunDJUAxk8qNJcolQIlg0vZT0CVAoS4DPnXWJUBX/7OaidwlQBTg4EKR4iVApyY2a4zoJUCVOhtHe+4lQGXwvAhe9CVAI3wX4TT6JUAAAAAAAAAmQA==\",\"dtype\":\"float64\",\"order\":\"little\",\"shape\":[128]},\"y\":{\"__ndarray__\":\"nHJ6an+hFcAT2p2rERMVwIVj0Q8aJxPAv7/hbVjxEsBmsT6Fx8wSwEoo+6zSixLAdh9r0dFbEsAusUAmFXcSwHA68e+NXBHAX55crhulEcBFQNCfw94QwIovgIawPxHAQCUgQ6FyEMBn7iCM2HkQwGs1Dk8jbRDAYNEEUf+LEMD93SJtsksQwDg4Pp7Z2g/Ay1+stMGfDsBjE9/OOwYOwFWcVU9j6AzA2AZuITJ0DMD4QQo0Y5ILwFrllaR4kgvA+Du/zNvuCsC9z/AGrT0LwNwcY2GmtgrASNQdkyMgC8B1dKOEFc4KwCg9QeNK7QrArIlR0nG8CsDOQg+V/YgLwBr7Xgt7ngrAm24EQBa+CsBG7szRV4QKwCSiupsXHArAW8KcFpFCCsAYD5wiHccJwIif6kt3fwnAlb8lR7wHCcCBQl1L1tYIwAEbcfgndAjASgznKWQ8CMBFecUmA90HwCJFZmtolgfAaYqCa8RdB8B/8k9uDaMGwFPtvf1zhAbAARAJZFoLBsCbdt+hEL8FwKG8c5TsUgXA+iQJ+1dKBcCy22koe7EEwEzBGdU2bwTApeWLK+UnBMA32zAhqwQEwM1E6/uwoAPA59GSGnk/A8DzWDEK99kCwCSUHpzruwLA8OwcESR8AsDZkWlK7wICwNiQOgHW0wHAOlZpzkF3BMBzGgfmUFMBwMMc8+FSRgHAXLMP7/T9AMCYa2hHPjABwAmiVkaergDAValqyMtjAMCSZYpcPFkAwOs/koqGVgDA849qKU7s/78/WUZpK/L/v8QHh9EcOf+/CbGnLmAb/7985oUeH77+v9eQ3EZ4j/6/SibKhEJ2/r89xqAo+pf+vyeMByLZsP2/OFyr4s1X/b+s5LH8sSr9v3SqnBIQFv2/4HflCJ6B/L8/uydjo5b8v3Mel8amCfy/n/VVQ5Bj/L8bKmnLxM77v6lqY8ligvu/yEVakTZU+78Qvb257jz7v/bon3j3l/q/o3djnWiA+r8/YSUu0Ev6vxW1ZpAsrPu/SXAwi4jc+b81m9lA/zD6v6+HJ2z4wvm/C9+fNByE+b+qZgrS/OL4v54FfbnKrfi/2tN8VmBj+L+LIC5vPH/4v+GD5X2gH/i/wEGTx6UL+L85xvYBxtP3vzF/AguNvPe/ng7Nkkwp97/QmjwL+DP3v1VQpOpV4fa/m092p1g4978zDGNEgUX2v4O24lt0Yfa/f7J0ha/69b/tkOV9LSf2v64wEUczvfW/2kxWYMee9b9GqYeO6WT1v9pV/k7bBva/SjcJmNWq9b8v8viYWLz0v8okxJghmfS/2W1xXClF9b/EnN/zdVH0vzMe57bbafS/ZXekbXfk87/VU44r0836vw==\",\"dtype\":\"float64\",\"order\":\"little\",\"shape\":[128]}},\"selected\":{\"id\":\"1538\"},\"selection_policy\":{\"id\":\"1539\"}},\"id\":\"1519\",\"type\":\"ColumnDataSource\"}],\"root_ids\":[\"1431\"]},\"title\":\"Bokeh Application\",\"version\":\"2.3.2\"}};\n  var render_items = [{\"docid\":\"9fb3c34a-950c-4205-aad9-31826458df98\",\"root_ids\":[\"1431\"],\"roots\":{\"1431\":\"9497f11a-ac68-4545-9098-a30b5c756134\"}}];\n  root.Bokeh.embed.embed_items_notebook(docs_json, render_items);\n\n  }\n  if (root.Bokeh !== undefined) {\n    embed_document(root);\n  } else {\n    var attempts = 0;\n    var timer = setInterval(function(root) {\n      if (root.Bokeh !== undefined) {\n        clearInterval(timer);\n        embed_document(root);\n      } else {\n        attempts++;\n        if (attempts > 100) {\n          clearInterval(timer);\n          console.log(\"Bokeh: ERROR: Unable to run BokehJS code because BokehJS library is missing\");\n        }\n      }\n    }, 10, root)\n  }\n})(window);",
      "application/vnd.bokehjs_exec.v0+json": ""
     },
     "metadata": {
      "application/vnd.bokehjs_exec.v0+json": {
       "id": "1431"
      }
     },
     "output_type": "display_data"
    }
   ],
   "source": [
    "def visualise_log(r1, r2, r3, r4):\n",
    "    p = figure(title = 'run time of different array types', plot_width = 900, x_axis_label = 'size of each element', y_axis_label = 'avergae time')\n",
    "    p.line(np.log2(r1.element_size), np.log2(r1.time), color = 'blue', legend_label = \"SQarray\")\n",
    "    p.line(np.log2(r2.element_size), np.log2(r2.time), color = 'red', legend_label = \"sliced\")\n",
    "    p.line(np.log2(r3.element_size), np.log2(r3.time), color = 'green', legend_label = \"monolithic\")\n",
    "    p.line(np.log2(r4.element_size), np.log2(r4.time), color = 'black', legend_label = \"base\")\n",
    "    p.legend.location = \"top_left\"\n",
    "    show(p)\n",
    "visualise_log(SQ_data, sliced_data, mono_data, base_data)"
   ]
  }
 ],
 "metadata": {
  "kernelspec": {
   "display_name": "base",
   "language": "python",
   "name": "python3"
  },
  "language_info": {
   "codemirror_mode": {
    "name": "ipython",
    "version": 3
   },
   "file_extension": ".py",
   "mimetype": "text/x-python",
   "name": "python",
   "nbconvert_exporter": "python",
   "pygments_lexer": "ipython3",
   "version": "3.8.8"
  },
  "orig_nbformat": 4,
  "vscode": {
   "interpreter": {
    "hash": "247c5926092e86e591a1a744d1065a70b0b0b360bd9ac500433d81d79fb67d59"
   }
  }
 },
 "nbformat": 4,
 "nbformat_minor": 2
}
