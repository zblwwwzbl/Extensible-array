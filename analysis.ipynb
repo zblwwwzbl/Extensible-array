{
 "cells": [
  {
   "cell_type": "code",
   "execution_count": 1,
   "metadata": {},
   "outputs": [
    {
     "data": {
      "text/html": [
       "\n",
       "    <div class=\"bk-root\">\n",
       "        <a href=\"https://bokeh.org\" target=\"_blank\" class=\"bk-logo bk-logo-small bk-logo-notebook\"></a>\n",
       "        <span id=\"1002\">Loading BokehJS ...</span>\n",
       "    </div>"
      ]
     },
     "metadata": {},
     "output_type": "display_data"
    },
    {
     "data": {
      "application/javascript": "\n(function(root) {\n  function now() {\n    return new Date();\n  }\n\n  var force = true;\n\n  if (typeof root._bokeh_onload_callbacks === \"undefined\" || force === true) {\n    root._bokeh_onload_callbacks = [];\n    root._bokeh_is_loading = undefined;\n  }\n\n  var JS_MIME_TYPE = 'application/javascript';\n  var HTML_MIME_TYPE = 'text/html';\n  var EXEC_MIME_TYPE = 'application/vnd.bokehjs_exec.v0+json';\n  var CLASS_NAME = 'output_bokeh rendered_html';\n\n  /**\n   * Render data to the DOM node\n   */\n  function render(props, node) {\n    var script = document.createElement(\"script\");\n    node.appendChild(script);\n  }\n\n  /**\n   * Handle when an output is cleared or removed\n   */\n  function handleClearOutput(event, handle) {\n    var cell = handle.cell;\n\n    var id = cell.output_area._bokeh_element_id;\n    var server_id = cell.output_area._bokeh_server_id;\n    // Clean up Bokeh references\n    if (id != null && id in Bokeh.index) {\n      Bokeh.index[id].model.document.clear();\n      delete Bokeh.index[id];\n    }\n\n    if (server_id !== undefined) {\n      // Clean up Bokeh references\n      var cmd = \"from bokeh.io.state import curstate; print(curstate().uuid_to_server['\" + server_id + \"'].get_sessions()[0].document.roots[0]._id)\";\n      cell.notebook.kernel.execute(cmd, {\n        iopub: {\n          output: function(msg) {\n            var id = msg.content.text.trim();\n            if (id in Bokeh.index) {\n              Bokeh.index[id].model.document.clear();\n              delete Bokeh.index[id];\n            }\n          }\n        }\n      });\n      // Destroy server and session\n      var cmd = \"import bokeh.io.notebook as ion; ion.destroy_server('\" + server_id + \"')\";\n      cell.notebook.kernel.execute(cmd);\n    }\n  }\n\n  /**\n   * Handle when a new output is added\n   */\n  function handleAddOutput(event, handle) {\n    var output_area = handle.output_area;\n    var output = handle.output;\n\n    // limit handleAddOutput to display_data with EXEC_MIME_TYPE content only\n    if ((output.output_type != \"display_data\") || (!Object.prototype.hasOwnProperty.call(output.data, EXEC_MIME_TYPE))) {\n      return\n    }\n\n    var toinsert = output_area.element.find(\".\" + CLASS_NAME.split(' ')[0]);\n\n    if (output.metadata[EXEC_MIME_TYPE][\"id\"] !== undefined) {\n      toinsert[toinsert.length - 1].firstChild.textContent = output.data[JS_MIME_TYPE];\n      // store reference to embed id on output_area\n      output_area._bokeh_element_id = output.metadata[EXEC_MIME_TYPE][\"id\"];\n    }\n    if (output.metadata[EXEC_MIME_TYPE][\"server_id\"] !== undefined) {\n      var bk_div = document.createElement(\"div\");\n      bk_div.innerHTML = output.data[HTML_MIME_TYPE];\n      var script_attrs = bk_div.children[0].attributes;\n      for (var i = 0; i < script_attrs.length; i++) {\n        toinsert[toinsert.length - 1].firstChild.setAttribute(script_attrs[i].name, script_attrs[i].value);\n        toinsert[toinsert.length - 1].firstChild.textContent = bk_div.children[0].textContent\n      }\n      // store reference to server id on output_area\n      output_area._bokeh_server_id = output.metadata[EXEC_MIME_TYPE][\"server_id\"];\n    }\n  }\n\n  function register_renderer(events, OutputArea) {\n\n    function append_mime(data, metadata, element) {\n      // create a DOM node to render to\n      var toinsert = this.create_output_subarea(\n        metadata,\n        CLASS_NAME,\n        EXEC_MIME_TYPE\n      );\n      this.keyboard_manager.register_events(toinsert);\n      // Render to node\n      var props = {data: data, metadata: metadata[EXEC_MIME_TYPE]};\n      render(props, toinsert[toinsert.length - 1]);\n      element.append(toinsert);\n      return toinsert\n    }\n\n    /* Handle when an output is cleared or removed */\n    events.on('clear_output.CodeCell', handleClearOutput);\n    events.on('delete.Cell', handleClearOutput);\n\n    /* Handle when a new output is added */\n    events.on('output_added.OutputArea', handleAddOutput);\n\n    /**\n     * Register the mime type and append_mime function with output_area\n     */\n    OutputArea.prototype.register_mime_type(EXEC_MIME_TYPE, append_mime, {\n      /* Is output safe? */\n      safe: true,\n      /* Index of renderer in `output_area.display_order` */\n      index: 0\n    });\n  }\n\n  // register the mime type if in Jupyter Notebook environment and previously unregistered\n  if (root.Jupyter !== undefined) {\n    var events = require('base/js/events');\n    var OutputArea = require('notebook/js/outputarea').OutputArea;\n\n    if (OutputArea.prototype.mime_types().indexOf(EXEC_MIME_TYPE) == -1) {\n      register_renderer(events, OutputArea);\n    }\n  }\n\n  \n  if (typeof (root._bokeh_timeout) === \"undefined\" || force === true) {\n    root._bokeh_timeout = Date.now() + 5000;\n    root._bokeh_failed_load = false;\n  }\n\n  var NB_LOAD_WARNING = {'data': {'text/html':\n     \"<div style='background-color: #fdd'>\\n\"+\n     \"<p>\\n\"+\n     \"BokehJS does not appear to have successfully loaded. If loading BokehJS from CDN, this \\n\"+\n     \"may be due to a slow or bad network connection. Possible fixes:\\n\"+\n     \"</p>\\n\"+\n     \"<ul>\\n\"+\n     \"<li>re-rerun `output_notebook()` to attempt to load from CDN again, or</li>\\n\"+\n     \"<li>use INLINE resources instead, as so:</li>\\n\"+\n     \"</ul>\\n\"+\n     \"<code>\\n\"+\n     \"from bokeh.resources import INLINE\\n\"+\n     \"output_notebook(resources=INLINE)\\n\"+\n     \"</code>\\n\"+\n     \"</div>\"}};\n\n  function display_loaded() {\n    var el = document.getElementById(\"1002\");\n    if (el != null) {\n      el.textContent = \"BokehJS is loading...\";\n    }\n    if (root.Bokeh !== undefined) {\n      if (el != null) {\n        el.textContent = \"BokehJS \" + root.Bokeh.version + \" successfully loaded.\";\n      }\n    } else if (Date.now() < root._bokeh_timeout) {\n      setTimeout(display_loaded, 100)\n    }\n  }\n\n\n  function run_callbacks() {\n    try {\n      root._bokeh_onload_callbacks.forEach(function(callback) {\n        if (callback != null)\n          callback();\n      });\n    } finally {\n      delete root._bokeh_onload_callbacks\n    }\n    console.debug(\"Bokeh: all callbacks have finished\");\n  }\n\n  function load_libs(css_urls, js_urls, callback) {\n    if (css_urls == null) css_urls = [];\n    if (js_urls == null) js_urls = [];\n\n    root._bokeh_onload_callbacks.push(callback);\n    if (root._bokeh_is_loading > 0) {\n      console.debug(\"Bokeh: BokehJS is being loaded, scheduling callback at\", now());\n      return null;\n    }\n    if (js_urls == null || js_urls.length === 0) {\n      run_callbacks();\n      return null;\n    }\n    console.debug(\"Bokeh: BokehJS not loaded, scheduling load and callback at\", now());\n    root._bokeh_is_loading = css_urls.length + js_urls.length;\n\n    function on_load() {\n      root._bokeh_is_loading--;\n      if (root._bokeh_is_loading === 0) {\n        console.debug(\"Bokeh: all BokehJS libraries/stylesheets loaded\");\n        run_callbacks()\n      }\n    }\n\n    function on_error(url) {\n      console.error(\"failed to load \" + url);\n    }\n\n    for (let i = 0; i < css_urls.length; i++) {\n      const url = css_urls[i];\n      const element = document.createElement(\"link\");\n      element.onload = on_load;\n      element.onerror = on_error.bind(null, url);\n      element.rel = \"stylesheet\";\n      element.type = \"text/css\";\n      element.href = url;\n      console.debug(\"Bokeh: injecting link tag for BokehJS stylesheet: \", url);\n      document.body.appendChild(element);\n    }\n\n    const hashes = {\"https://cdn.bokeh.org/bokeh/release/bokeh-2.3.2.min.js\": \"XypntL49z55iwGVUW4qsEu83zKL3XEcz0MjuGOQ9SlaaQ68X/g+k1FcioZi7oQAc\", \"https://cdn.bokeh.org/bokeh/release/bokeh-tables-2.3.2.min.js\": \"bEsM86IHGDTLCS0Zod8a8WM6Y4+lafAL/eSiyQcuPzinmWNgNO2/olUF0Z2Dkn5i\", \"https://cdn.bokeh.org/bokeh/release/bokeh-widgets-2.3.2.min.js\": \"TX0gSQTdXTTeScqxj6PVQxTiRW8DOoGVwinyi1D3kxv7wuxQ02XkOxv0xwiypcAH\"};\n\n    for (let i = 0; i < js_urls.length; i++) {\n      const url = js_urls[i];\n      const element = document.createElement('script');\n      element.onload = on_load;\n      element.onerror = on_error.bind(null, url);\n      element.async = false;\n      element.src = url;\n      if (url in hashes) {\n        element.crossOrigin = \"anonymous\";\n        element.integrity = \"sha384-\" + hashes[url];\n      }\n      console.debug(\"Bokeh: injecting script tag for BokehJS library: \", url);\n      document.head.appendChild(element);\n    }\n  };\n\n  function inject_raw_css(css) {\n    const element = document.createElement(\"style\");\n    element.appendChild(document.createTextNode(css));\n    document.body.appendChild(element);\n  }\n\n  \n  var js_urls = [\"https://cdn.bokeh.org/bokeh/release/bokeh-2.3.2.min.js\", \"https://cdn.bokeh.org/bokeh/release/bokeh-widgets-2.3.2.min.js\", \"https://cdn.bokeh.org/bokeh/release/bokeh-tables-2.3.2.min.js\"];\n  var css_urls = [];\n  \n\n  var inline_js = [\n    function(Bokeh) {\n      Bokeh.set_log_level(\"info\");\n    },\n    function(Bokeh) {\n    \n    \n    }\n  ];\n\n  function run_inline_js() {\n    \n    if (root.Bokeh !== undefined || force === true) {\n      \n    for (var i = 0; i < inline_js.length; i++) {\n      inline_js[i].call(root, root.Bokeh);\n    }\n    if (force === true) {\n        display_loaded();\n      }} else if (Date.now() < root._bokeh_timeout) {\n      setTimeout(run_inline_js, 100);\n    } else if (!root._bokeh_failed_load) {\n      console.log(\"Bokeh: BokehJS failed to load within specified timeout.\");\n      root._bokeh_failed_load = true;\n    } else if (force !== true) {\n      var cell = $(document.getElementById(\"1002\")).parents('.cell').data().cell;\n      cell.output_area.append_execute_result(NB_LOAD_WARNING)\n    }\n\n  }\n\n  if (root._bokeh_is_loading === 0) {\n    console.debug(\"Bokeh: BokehJS loaded, going straight to plotting\");\n    run_inline_js();\n  } else {\n    load_libs(css_urls, js_urls, function() {\n      console.debug(\"Bokeh: BokehJS plotting callback run at\", now());\n      run_inline_js();\n    });\n  }\n}(window));",
      "application/vnd.bokehjs_load.v0+json": ""
     },
     "metadata": {},
     "output_type": "display_data"
    }
   ],
   "source": [
    "import pandas as pd\n",
    "import numpy as np\n",
    "import matplotlib.pyplot as plt\n",
    "from math import *\n",
    "from bokeh.plotting import figure, show\n",
    "from bokeh.io import output_notebook\n",
    "output_notebook()"
   ]
  },
  {
   "cell_type": "code",
   "execution_count": 34,
   "metadata": {},
   "outputs": [],
   "source": [
    "type = \"incone\"\n",
    "data = pd.read_csv(f\"./data/{type}_results.csv\")\n",
    "\n",
    "\n",
    "avg = data.groupby(['array_type', 'element_size']).mean().reset_index()\n",
    "SQ_data = avg[avg[\"array_type\"] == \"SQ\"]\n",
    "sliced_data = avg[avg[\"array_type\"] == \"sliced\"]\n",
    "mono_data = avg[avg[\"array_type\"] == \"mono\"]"
   ]
  },
  {
   "cell_type": "code",
   "execution_count": 19,
   "metadata": {},
   "outputs": [
    {
     "data": {
      "text/html": [
       "<div>\n",
       "<style scoped>\n",
       "    .dataframe tbody tr th:only-of-type {\n",
       "        vertical-align: middle;\n",
       "    }\n",
       "\n",
       "    .dataframe tbody tr th {\n",
       "        vertical-align: top;\n",
       "    }\n",
       "\n",
       "    .dataframe thead th {\n",
       "        text-align: right;\n",
       "    }\n",
       "</style>\n",
       "<table border=\"1\" class=\"dataframe\">\n",
       "  <thead>\n",
       "    <tr style=\"text-align: right;\">\n",
       "      <th></th>\n",
       "      <th>array_type</th>\n",
       "      <th>element_size</th>\n",
       "      <th>time</th>\n",
       "    </tr>\n",
       "  </thead>\n",
       "  <tbody>\n",
       "    <tr>\n",
       "      <th>0</th>\n",
       "      <td>SQ</td>\n",
       "      <td>16</td>\n",
       "      <td>0.434240</td>\n",
       "    </tr>\n",
       "    <tr>\n",
       "      <th>1</th>\n",
       "      <td>SQ</td>\n",
       "      <td>32</td>\n",
       "      <td>0.468366</td>\n",
       "    </tr>\n",
       "    <tr>\n",
       "      <th>2</th>\n",
       "      <td>SQ</td>\n",
       "      <td>48</td>\n",
       "      <td>0.518206</td>\n",
       "    </tr>\n",
       "    <tr>\n",
       "      <th>3</th>\n",
       "      <td>SQ</td>\n",
       "      <td>64</td>\n",
       "      <td>0.357967</td>\n",
       "    </tr>\n",
       "    <tr>\n",
       "      <th>4</th>\n",
       "      <td>SQ</td>\n",
       "      <td>80</td>\n",
       "      <td>0.370725</td>\n",
       "    </tr>\n",
       "    <tr>\n",
       "      <th>...</th>\n",
       "      <td>...</td>\n",
       "      <td>...</td>\n",
       "      <td>...</td>\n",
       "    </tr>\n",
       "    <tr>\n",
       "      <th>123</th>\n",
       "      <td>SQ</td>\n",
       "      <td>1984</td>\n",
       "      <td>4.832135</td>\n",
       "    </tr>\n",
       "    <tr>\n",
       "      <th>124</th>\n",
       "      <td>SQ</td>\n",
       "      <td>2000</td>\n",
       "      <td>4.289124</td>\n",
       "    </tr>\n",
       "    <tr>\n",
       "      <th>125</th>\n",
       "      <td>SQ</td>\n",
       "      <td>2016</td>\n",
       "      <td>4.842349</td>\n",
       "    </tr>\n",
       "    <tr>\n",
       "      <th>126</th>\n",
       "      <td>SQ</td>\n",
       "      <td>2032</td>\n",
       "      <td>4.366260</td>\n",
       "    </tr>\n",
       "    <tr>\n",
       "      <th>127</th>\n",
       "      <td>SQ</td>\n",
       "      <td>2048</td>\n",
       "      <td>4.626352</td>\n",
       "    </tr>\n",
       "  </tbody>\n",
       "</table>\n",
       "<p>128 rows × 3 columns</p>\n",
       "</div>"
      ],
      "text/plain": [
       "    array_type  element_size      time\n",
       "0           SQ            16  0.434240\n",
       "1           SQ            32  0.468366\n",
       "2           SQ            48  0.518206\n",
       "3           SQ            64  0.357967\n",
       "4           SQ            80  0.370725\n",
       "..         ...           ...       ...\n",
       "123         SQ          1984  4.832135\n",
       "124         SQ          2000  4.289124\n",
       "125         SQ          2016  4.842349\n",
       "126         SQ          2032  4.366260\n",
       "127         SQ          2048  4.626352\n",
       "\n",
       "[128 rows x 3 columns]"
      ]
     },
     "execution_count": 19,
     "metadata": {},
     "output_type": "execute_result"
    }
   ],
   "source": [
    "SQ_data"
   ]
  },
  {
   "cell_type": "code",
   "execution_count": 35,
   "metadata": {},
   "outputs": [
    {
     "data": {
      "text/html": [
       "\n",
       "\n",
       "\n",
       "\n",
       "\n",
       "\n",
       "  <div class=\"bk-root\" id=\"3c1e4f9a-c07f-4aa4-8589-4ea95098cfe1\" data-root-id=\"3951\"></div>\n"
      ]
     },
     "metadata": {},
     "output_type": "display_data"
    },
    {
     "data": {
      "application/javascript": "(function(root) {\n  function embed_document(root) {\n    \n  var docs_json = {\"526e0cf5-4dac-4ea1-875a-ee2cebbfbeaf\":{\"defs\":[],\"roots\":{\"references\":[{\"attributes\":{\"below\":[{\"id\":\"3962\"}],\"center\":[{\"id\":\"3965\"},{\"id\":\"3969\"},{\"id\":\"3999\"}],\"left\":[{\"id\":\"3966\"}],\"renderers\":[{\"id\":\"3987\"},{\"id\":\"4004\"},{\"id\":\"4022\"}],\"title\":{\"id\":\"3952\"},\"toolbar\":{\"id\":\"3977\"},\"width\":900,\"x_range\":{\"id\":\"3954\"},\"x_scale\":{\"id\":\"3958\"},\"y_range\":{\"id\":\"3956\"},\"y_scale\":{\"id\":\"3960\"}},\"id\":\"3951\",\"subtype\":\"Figure\",\"type\":\"Plot\"},{\"attributes\":{},\"id\":\"4017\",\"type\":\"Selection\"},{\"attributes\":{\"overlay\":{\"id\":\"3976\"}},\"id\":\"3972\",\"type\":\"BoxZoomTool\"},{\"attributes\":{},\"id\":\"3963\",\"type\":\"BasicTicker\"},{\"attributes\":{},\"id\":\"3994\",\"type\":\"AllLabels\"},{\"attributes\":{\"axis_label\":\"size of each element\",\"formatter\":{\"id\":\"3990\"},\"major_label_policy\":{\"id\":\"3991\"},\"ticker\":{\"id\":\"3963\"}},\"id\":\"3962\",\"type\":\"LinearAxis\"},{\"attributes\":{},\"id\":\"3956\",\"type\":\"DataRange1d\"},{\"attributes\":{},\"id\":\"3960\",\"type\":\"LinearScale\"},{\"attributes\":{},\"id\":\"3991\",\"type\":\"AllLabels\"},{\"attributes\":{\"axis_label\":\"avergae time\",\"formatter\":{\"id\":\"3993\"},\"major_label_policy\":{\"id\":\"3994\"},\"ticker\":{\"id\":\"3967\"}},\"id\":\"3966\",\"type\":\"LinearAxis\"},{\"attributes\":{},\"id\":\"3967\",\"type\":\"BasicTicker\"},{\"attributes\":{\"axis\":{\"id\":\"3966\"},\"dimension\":1,\"ticker\":null},\"id\":\"3969\",\"type\":\"Grid\"},{\"attributes\":{\"active_multi\":null,\"tools\":[{\"id\":\"3970\"},{\"id\":\"3971\"},{\"id\":\"3972\"},{\"id\":\"3973\"},{\"id\":\"3974\"},{\"id\":\"3975\"}]},\"id\":\"3977\",\"type\":\"Toolbar\"},{\"attributes\":{},\"id\":\"3975\",\"type\":\"HelpTool\"},{\"attributes\":{\"data_source\":{\"id\":\"4001\"},\"glyph\":{\"id\":\"4002\"},\"hover_glyph\":null,\"muted_glyph\":null,\"nonselection_glyph\":{\"id\":\"4003\"},\"view\":{\"id\":\"4005\"}},\"id\":\"4004\",\"type\":\"GlyphRenderer\"},{\"attributes\":{},\"id\":\"3970\",\"type\":\"PanTool\"},{\"attributes\":{\"data\":{\"x\":[16,32,48,64,80,96,112,128,144,160,176,192,208,224,240,256,272,288,304,320,336,352,368,384,400,416,432,448,464,480,496,512,528,544,560,576,592,608,624,640,656,672,688,704,720,736,752,768,784,800,816,832,848,864,880,896,912,928,944,960,976,992,1008,1024,1040,1056,1072,1088,1104,1120,1136,1152,1168,1184,1200,1216,1232,1248,1264,1280,1296,1312,1328,1344,1360,1376,1392,1408,1424,1440,1456,1472,1488,1504,1520,1536,1552,1568,1584,1600,1616,1632,1648,1664,1680,1696,1712,1728,1744,1760,1776,1792,1808,1824,1840,1856,1872,1888,1904,1920,1936,1952,1968,1984,2000,2016,2032,2048],\"y\":{\"__ndarray__\":\"OP7616g9ez/ql4i3zr99P5KOvL21XYI/jibN1UXAdz+quBbShmh5P+pQl9bwPng//dZOlIREej9Dhp9JrNaDP3jU88nlmn0/XsU98ffmkj+u2pDaH4OAP/jq9M1HY44/bjsjAO5ogj/I8DOJ1XqaPx6EJcOWw4M/IgSavo2DkT9i3Xh3ZKyGPzJ6yVqeYqA/yodFsYEZiD8AS/jvC/mhP+AjrNc+Los/LksqCT8noz8wljMloxSOPxxo9FlUeqQ/tilopO9/kT8FKWfeYF6mP3a92YsNgpM/aIXYT7XMqD8y5H3BEx+UP2096H7zh6s/FineEsoMlT8jh+NUxhqhPwYUoFwJk5g/lmKinMMQrD+Rxx2AHrSYP9DC+S9rvao/OohCcAENmz/WNiCdFaysPxDXxcjt8qA/JmX3iagurT+MPjCRHPqgP/vbr0wJ0q4/FfgvtUpVnz9AvK5fsBuuP8qfFFIjmaI/zXeVWpR+rz96apoc4y+iP1h48kRroLA/3GeVmdL6oz8VHF4QkZqyP4CdmzbjNKQ/o8v2fCgstD/eNH12wHWlP52E0hdCzrM/GEdA4Ny6pj++Rjdn6a+0PxP96yZCNKw/Go5C7RIwtT9yBcpcz8aoP389FSZC2bY/tbLprSb0rz/zbFZ9rra2P3u1SH/Uy6w/DUdGvZZGqj+eeM4WEFqvP352wHXFjLg/JSPCGsKMsD9IbxNJT+y4PzlmNE0zOLE//hr/9FWouD/2ACclTjixP5Psx9xr97k/9YoC2NvBsz+TwayrXW67PyBfQgWHF7Q/KsO4G0RruT+EmsaboV22P5D9h0+VSrs/1gnD297Jtj/WYCuy53y6PzJjGwKRj7M/HkyKj0/Iuj+zdtuF5jq5P2ajc36K47w/bt9ZcWAovj99rOC3Ica/P/VIKCJocbM/tSeS+ZFsuz+962zIPzO8P5pz3yAQnr8/yAM2jCcnwT+cJ0P6kjLAP1alPtpJjr0/CKAHLdrSwz8q/Sn66Hm8P0bb5+c8GcQ/1WzU+aafvj+XgKmwY23FPyvYRjzZzcI/OLBmrh3Wwz/9arNWWYDDPyY9wh80cck/sv2/RYIExj+Y8Ev9vKnKP7pbSHZb2MU/klBE0OLWyj83PHPFe8TGP82zSMlh5ss/+GXVjLG4xj/t9IO6SKHMP9tjjoqkgsk/4+mm3mRlzz9ihPBo44jJP6LoJtZOOdA/zRzc50L2yT8OkYlK2djPPxvdQexMoc0/mgaPgBtz0D8QgX46eezOP3IEBM6ta9E/amc9IeC1zj8Yo2Qo3UzSP0PFOH8TCtE/OdDos6j00j/gyPJk7aXQP5hWnpuRnNI/aytRUVDl0T/S1PxC2aXUPw==\",\"dtype\":\"float64\",\"order\":\"little\",\"shape\":[128]}},\"selected\":{\"id\":\"3998\"},\"selection_policy\":{\"id\":\"3997\"}},\"id\":\"3984\",\"type\":\"ColumnDataSource\"},{\"attributes\":{\"line_color\":\"blue\",\"x\":{\"field\":\"x\"},\"y\":{\"field\":\"y\"}},\"id\":\"3985\",\"type\":\"Line\"},{\"attributes\":{\"text\":\"run time of different array types\"},\"id\":\"3952\",\"type\":\"Title\"},{\"attributes\":{},\"id\":\"3973\",\"type\":\"SaveTool\"},{\"attributes\":{},\"id\":\"3997\",\"type\":\"UnionRenderers\"},{\"attributes\":{},\"id\":\"3993\",\"type\":\"BasicTickFormatter\"},{\"attributes\":{},\"id\":\"3990\",\"type\":\"BasicTickFormatter\"},{\"attributes\":{\"data\":{\"x\":[16,32,48,64,80,96,112,128,144,160,176,192,208,224,240,256,272,288,304,320,336,352,368,384,400,416,432,448,464,480,496,512,528,544,560,576,592,608,624,640,656,672,688,704,720,736,752,768,784,800,816,832,848,864,880,896,912,928,944,960,976,992,1008,1024,1040,1056,1072,1088,1104,1120,1136,1152,1168,1184,1200,1216,1232,1248,1264,1280,1296,1312,1328,1344,1360,1376,1392,1408,1424,1440,1456,1472,1488,1504,1520,1536,1552,1568,1584,1600,1616,1632,1648,1664,1680,1696,1712,1728,1744,1760,1776,1792,1808,1824,1840,1856,1872,1888,1904,1920,1936,1952,1968,1984,2000,2016,2032,2048],\"y\":{\"__ndarray__\":\"GqvN/6uOfD/6bNOO0fB8Py5HNCZpo38/rY2xE16Ccz/qmsk329x4PzqRYKqZtXQ/qpWuBWJ+gz9CyGjTxzKDP52VtOIbCn8/yrIWVXVFjz8Af+fNl82CP7ZgTnVtFI4/h+04j9SMhj9clxqhn6mXP8pxAi4jUIg/FbHjGvqCkT/FgxxKo7iJPwpUWtoEc58/isfq+xXXjT89f9qoTgeiP0Vtdv+zQZE/C+iFOxdGoj9CjYwfdBqTP3u7yn/tBaM/3njSHR+Ilz98vsFy38WmP3pjUo2ompo/luL0Pwropz/9Cj5yEBmbPzusJj4t9ao/I68YvzrYnD+aOjTRjOqhP4i/gSRHlZw/s6kE1VC0rD8DpVe5BmydP+ZN6nAZ3Ks/mf9G8eDdoD9qptZWR+mtP64AleDD26E/aoE9JlKarT+AwLl17cGiPwbKt4g5Uq8/i5mOSvswpD8KCziVVo2vPwON49HXPaM/fYRQlDq3rz8rrXWY5aGlPzpiLT4FwLA/jItZ5fhXpT8F+unksQuzP6tOGN72TqY//T7Slimcsz+YmHhRBe2nP5f8T/7uHbU/haD+DqA6qT9OnDepw2W0P/pwNVdyuqk/LPkzFxP2tD81Wg70UNuuP0LK9PAK6bU/E+l+TkF+rj+TvIRUm0m1Pwmp29lXHrA/Yg28/zRaqz8lNmlkoeewP23rp/+s+bU/R0MhXccTtD8YyR6hZki5P4f5l0l5Urc/olAFkmbiuD+Qfdry2yGzP6oPf6iPG7k/P1R16iUhuD+qnJvbKcK6P+FEmbJ4Vrc/IlSp2QOtuD9IP9DAfj60PyzGrw42K7k/One7XpoiuD8jJYeZx6u5P+7sKw/SU7g/fbPNjekJuz+TeT/JeO+7Pw05EViUbbs/1nc0xGehtz9uJvCYy1e/P9YzhGOWPb0/8hZZfFQNwD9F755NWCy/P7KWpxiMtsE/zs6zo4LUvz86uqUwSivBP0qT9xZ71MA/jGxCtRxDwz9WmjnJ+93EP6oj7ICQ0cI/R6rv/KIExT90SpsFNdfAP8ib/BadLMU/9v3lpEEbxD9CmgwirYzBP32iRnyCH8o/FndyPFV0xD9IZ6pxgKrJPxYkx+df3MU/quERyxyByj9CY4EKoknHP6BRXzu998o/cEhZdQx+yT+zAcdUsHzMP3UwrCwb58g/04DmGDUEzj8GBZQ8jWrJPz4JIkGn1s0/y6jo/qDkzD/CfB5Ig4DPPxrc1hael8w/qJoPvuYL0D/qJSHsb2TNP9roUhLI29A/tgw4S8ly0D85x8p5EEzRP5jloaXhStA/GKzdG+hG0T/1/wXduYvPPy1bkNIRZdE/Pg45bBEH0T9Ny/4vjRXPPw==\",\"dtype\":\"float64\",\"order\":\"little\",\"shape\":[128]}},\"selected\":{\"id\":\"4017\"},\"selection_policy\":{\"id\":\"4016\"}},\"id\":\"4001\",\"type\":\"ColumnDataSource\"},{\"attributes\":{\"line_alpha\":0.1,\"line_color\":\"blue\",\"x\":{\"field\":\"x\"},\"y\":{\"field\":\"y\"}},\"id\":\"3986\",\"type\":\"Line\"},{\"attributes\":{},\"id\":\"3998\",\"type\":\"Selection\"},{\"attributes\":{\"line_color\":\"red\",\"x\":{\"field\":\"x\"},\"y\":{\"field\":\"y\"}},\"id\":\"4002\",\"type\":\"Line\"},{\"attributes\":{\"data\":{\"x\":[16,32,48,64,80,96,112,128,144,160,176,192,208,224,240,256,272,288,304,320,336,352,368,384,400,416,432,448,464,480,496,512,528,544,560,576,592,608,624,640,656,672,688,704,720,736,752,768,784,800,816,832,848,864,880,896,912,928,944,960,976,992,1008,1024,1040,1056,1072,1088,1104,1120,1136,1152,1168,1184,1200,1216,1232,1248,1264,1280,1296,1312,1328,1344,1360,1376,1392,1408,1424,1440,1456,1472,1488,1504,1520,1536,1552,1568,1584,1600,1616,1632,1648,1664,1680,1696,1712,1728,1744,1760,1776,1792,1808,1824,1840,1856,1872,1888,1904,1920,1936,1952,1968,1984,2000,2016,2032,2048],\"y\":{\"__ndarray__\":\"i7xR0JJsej9SXWUSmsl8P/7iY8EOrX8/0uC2tvC8dD9uTzUffM13P3sdJzvsdHY/CoPX07PFej9eRetNsQ+HPyg8sgP4uJA//h3250dokD8cz2dAvRmFP38WS5F8JZA/na445obwiT9+2k2VlGCWP7YQP1r36o4/12HxQAnYkz/atoNstHeRP1tLt9vkppw/wm6OKQ5Wkj8vQOyWLg6gP4D/UqtU9Zc/Na7JZIIroj8walJlczCWP5ALcyd9xqI/yj4jbNMzmD8PmfIhqBqlP1MoZhjSPJs/uWhtvyH5pz+W2vdNBuyfPz5/NWLBWKo/tgNknksnoD9yqDo/ICujPyrFMw0vLZ8/sOyCwTV3rD/FkJxM3CqgP3h7EALyJaw/hdolYCrsoD9iZwqd19itP2P+wAsRJqM/mnFkLyXcrT+Ry8nV2dqkP0P7WMFvQ7A/6jC6F/POrD8mx53SwfqvP+qCsAkfAKc/PVOeL6zRsT8mxccnZOetP7lCDgALT7I/KLnDJjJzqT9HG0esxae0P2rxGNRtP68/zb7h9ORQtT9r7SLxl7urP42gjEwbabg/EI8OWe4Wqj/T+ra7YqG1P1ajsrwG2Ko/YmU08nnFtz91FmKajqWsP6UEs/gD1LY/ORp2zgXksT/7w+CrZ1K4PwIxCRfyCLI/Oj7/4r56sT8Orm8W5YizPzTyecVTj7g/ktyroLMWsD/bk3ZZAt+7P5NOJJhqZrE/YBnAAGfOuz8+tfrqqkC1P4CdmzbjNLw/KkquBzgptT/VUcTY+AK9P4zvMJLiiLY/vuZmyS33uz+KYeLqW0G2PyCbPwFv3L0/HkcYq3JGuT+62R8ot+3BP/Z7vVadMLg/umFvvQHBvz8Ow/02euu+P7WbKinBLL4/4jt7eOCtuT+FRaBVwQPAP2OtodReRL8/0hvuI7cmwT+gZd0/FqK/P11yN+OP/b8/Mv/omzQNwD8KDz+khAXEP+0cb5eiAb0/YKhoUUQrxD/AqsSGuIO+P/5eCg+aXcU/EEh4MYPnxD+Pq+wW3GrBPyniGdk63cI/6u0q/7UXxj/iWHJwRFLCP13PIbqx6sk/QpQvaCEBwz8D6b2MvXLKP/Xo/Mo5Z8g/GoHC6tm9yj8Vg3Y9h+jIP+ZhV0kakss/klz+Q/rtxz+CEUWSaunLPyHuRQ/Xxcg/c7MuJBbnzj87Qyc6gZ/JP0p7KHbZVM4/+C+1SlV/yT+iUAWSZuLOPyNT9HY6Rso/D1DQ3Pk00D9SlQBG4cTLP8rd5/hocdA/+qsRC8bSyz/ipvVtd8XQP9hCNcqfFM4/T09pDlpZ0T8Y7yKnCqHOP/6Xa9ECtNI/VthnKbQH0T9s0shCz8HSPw==\",\"dtype\":\"float64\",\"order\":\"little\",\"shape\":[128]}},\"selected\":{\"id\":\"4037\"},\"selection_policy\":{\"id\":\"4036\"}},\"id\":\"4019\",\"type\":\"ColumnDataSource\"},{\"attributes\":{\"line_color\":\"green\",\"x\":{\"field\":\"x\"},\"y\":{\"field\":\"y\"}},\"id\":\"4020\",\"type\":\"Line\"},{\"attributes\":{},\"id\":\"3954\",\"type\":\"DataRange1d\"},{\"attributes\":{\"source\":{\"id\":\"4001\"}},\"id\":\"4005\",\"type\":\"CDSView\"},{\"attributes\":{\"source\":{\"id\":\"4019\"}},\"id\":\"4023\",\"type\":\"CDSView\"},{\"attributes\":{\"line_alpha\":0.1,\"line_color\":\"red\",\"x\":{\"field\":\"x\"},\"y\":{\"field\":\"y\"}},\"id\":\"4003\",\"type\":\"Line\"},{\"attributes\":{\"line_alpha\":0.1,\"line_color\":\"green\",\"x\":{\"field\":\"x\"},\"y\":{\"field\":\"y\"}},\"id\":\"4021\",\"type\":\"Line\"},{\"attributes\":{},\"id\":\"3974\",\"type\":\"ResetTool\"},{\"attributes\":{\"label\":{\"value\":\"SQarray\"},\"renderers\":[{\"id\":\"3987\"}]},\"id\":\"4000\",\"type\":\"LegendItem\"},{\"attributes\":{\"items\":[{\"id\":\"4000\"},{\"id\":\"4018\"},{\"id\":\"4038\"}],\"location\":\"top_left\"},\"id\":\"3999\",\"type\":\"Legend\"},{\"attributes\":{\"axis\":{\"id\":\"3962\"},\"ticker\":null},\"id\":\"3965\",\"type\":\"Grid\"},{\"attributes\":{\"source\":{\"id\":\"3984\"}},\"id\":\"3988\",\"type\":\"CDSView\"},{\"attributes\":{\"data_source\":{\"id\":\"3984\"},\"glyph\":{\"id\":\"3985\"},\"hover_glyph\":null,\"muted_glyph\":null,\"nonselection_glyph\":{\"id\":\"3986\"},\"view\":{\"id\":\"3988\"}},\"id\":\"3987\",\"type\":\"GlyphRenderer\"},{\"attributes\":{\"data_source\":{\"id\":\"4019\"},\"glyph\":{\"id\":\"4020\"},\"hover_glyph\":null,\"muted_glyph\":null,\"nonselection_glyph\":{\"id\":\"4021\"},\"view\":{\"id\":\"4023\"}},\"id\":\"4022\",\"type\":\"GlyphRenderer\"},{\"attributes\":{\"label\":{\"value\":\"sliced\"},\"renderers\":[{\"id\":\"4004\"}]},\"id\":\"4018\",\"type\":\"LegendItem\"},{\"attributes\":{},\"id\":\"3958\",\"type\":\"LinearScale\"},{\"attributes\":{\"label\":{\"value\":\"monolithic\"},\"renderers\":[{\"id\":\"4022\"}]},\"id\":\"4038\",\"type\":\"LegendItem\"},{\"attributes\":{},\"id\":\"4036\",\"type\":\"UnionRenderers\"},{\"attributes\":{\"bottom_units\":\"screen\",\"fill_alpha\":0.5,\"fill_color\":\"lightgrey\",\"left_units\":\"screen\",\"level\":\"overlay\",\"line_alpha\":1.0,\"line_color\":\"black\",\"line_dash\":[4,4],\"line_width\":2,\"right_units\":\"screen\",\"syncable\":false,\"top_units\":\"screen\"},\"id\":\"3976\",\"type\":\"BoxAnnotation\"},{\"attributes\":{},\"id\":\"4016\",\"type\":\"UnionRenderers\"},{\"attributes\":{},\"id\":\"4037\",\"type\":\"Selection\"},{\"attributes\":{},\"id\":\"3971\",\"type\":\"WheelZoomTool\"}],\"root_ids\":[\"3951\"]},\"title\":\"Bokeh Application\",\"version\":\"2.3.2\"}};\n  var render_items = [{\"docid\":\"526e0cf5-4dac-4ea1-875a-ee2cebbfbeaf\",\"root_ids\":[\"3951\"],\"roots\":{\"3951\":\"3c1e4f9a-c07f-4aa4-8589-4ea95098cfe1\"}}];\n  root.Bokeh.embed.embed_items_notebook(docs_json, render_items);\n\n  }\n  if (root.Bokeh !== undefined) {\n    embed_document(root);\n  } else {\n    var attempts = 0;\n    var timer = setInterval(function(root) {\n      if (root.Bokeh !== undefined) {\n        clearInterval(timer);\n        embed_document(root);\n      } else {\n        attempts++;\n        if (attempts > 100) {\n          clearInterval(timer);\n          console.log(\"Bokeh: ERROR: Unable to run BokehJS code because BokehJS library is missing\");\n        }\n      }\n    }, 10, root)\n  }\n})(window);",
      "application/vnd.bokehjs_exec.v0+json": ""
     },
     "metadata": {
      "application/vnd.bokehjs_exec.v0+json": {
       "id": "3951"
      }
     },
     "output_type": "display_data"
    }
   ],
   "source": [
    "def visualise_position(r1, r2, r3):\n",
    "    p = figure(title = 'run time of different array types', plot_width = 900, x_axis_label = 'size of each element', y_axis_label = 'avergae time')\n",
    "    p.line(r1.element_size, r1.time, color = 'blue', legend_label = \"SQarray\")\n",
    "    p.line(r2.element_size, r2.time, color = 'red', legend_label = \"sliced\")\n",
    "    p.line(r3.element_size, r3.time, color = 'green', legend_label = \"monolithic\")\n",
    "    p.legend.location = \"top_left\"\n",
    "    show(p)\n",
    "visualise_position(SQ_data, sliced_data, mono_data)"
   ]
  }
 ],
 "metadata": {
  "kernelspec": {
   "display_name": "base",
   "language": "python",
   "name": "python3"
  },
  "language_info": {
   "codemirror_mode": {
    "name": "ipython",
    "version": 3
   },
   "file_extension": ".py",
   "mimetype": "text/x-python",
   "name": "python",
   "nbconvert_exporter": "python",
   "pygments_lexer": "ipython3",
   "version": "3.8.8"
  },
  "orig_nbformat": 4
 },
 "nbformat": 4,
 "nbformat_minor": 2
}
