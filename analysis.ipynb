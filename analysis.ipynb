{
 "cells": [
  {
   "cell_type": "code",
   "execution_count": 1,
   "metadata": {},
   "outputs": [
    {
     "data": {
      "text/html": [
       "\n",
       "    <div class=\"bk-root\">\n",
       "        <a href=\"https://bokeh.org\" target=\"_blank\" class=\"bk-logo bk-logo-small bk-logo-notebook\"></a>\n",
       "        <span id=\"1002\">Loading BokehJS ...</span>\n",
       "    </div>"
      ]
     },
     "metadata": {},
     "output_type": "display_data"
    },
    {
     "data": {
      "application/javascript": "\n(function(root) {\n  function now() {\n    return new Date();\n  }\n\n  var force = true;\n\n  if (typeof root._bokeh_onload_callbacks === \"undefined\" || force === true) {\n    root._bokeh_onload_callbacks = [];\n    root._bokeh_is_loading = undefined;\n  }\n\n  var JS_MIME_TYPE = 'application/javascript';\n  var HTML_MIME_TYPE = 'text/html';\n  var EXEC_MIME_TYPE = 'application/vnd.bokehjs_exec.v0+json';\n  var CLASS_NAME = 'output_bokeh rendered_html';\n\n  /**\n   * Render data to the DOM node\n   */\n  function render(props, node) {\n    var script = document.createElement(\"script\");\n    node.appendChild(script);\n  }\n\n  /**\n   * Handle when an output is cleared or removed\n   */\n  function handleClearOutput(event, handle) {\n    var cell = handle.cell;\n\n    var id = cell.output_area._bokeh_element_id;\n    var server_id = cell.output_area._bokeh_server_id;\n    // Clean up Bokeh references\n    if (id != null && id in Bokeh.index) {\n      Bokeh.index[id].model.document.clear();\n      delete Bokeh.index[id];\n    }\n\n    if (server_id !== undefined) {\n      // Clean up Bokeh references\n      var cmd = \"from bokeh.io.state import curstate; print(curstate().uuid_to_server['\" + server_id + \"'].get_sessions()[0].document.roots[0]._id)\";\n      cell.notebook.kernel.execute(cmd, {\n        iopub: {\n          output: function(msg) {\n            var id = msg.content.text.trim();\n            if (id in Bokeh.index) {\n              Bokeh.index[id].model.document.clear();\n              delete Bokeh.index[id];\n            }\n          }\n        }\n      });\n      // Destroy server and session\n      var cmd = \"import bokeh.io.notebook as ion; ion.destroy_server('\" + server_id + \"')\";\n      cell.notebook.kernel.execute(cmd);\n    }\n  }\n\n  /**\n   * Handle when a new output is added\n   */\n  function handleAddOutput(event, handle) {\n    var output_area = handle.output_area;\n    var output = handle.output;\n\n    // limit handleAddOutput to display_data with EXEC_MIME_TYPE content only\n    if ((output.output_type != \"display_data\") || (!Object.prototype.hasOwnProperty.call(output.data, EXEC_MIME_TYPE))) {\n      return\n    }\n\n    var toinsert = output_area.element.find(\".\" + CLASS_NAME.split(' ')[0]);\n\n    if (output.metadata[EXEC_MIME_TYPE][\"id\"] !== undefined) {\n      toinsert[toinsert.length - 1].firstChild.textContent = output.data[JS_MIME_TYPE];\n      // store reference to embed id on output_area\n      output_area._bokeh_element_id = output.metadata[EXEC_MIME_TYPE][\"id\"];\n    }\n    if (output.metadata[EXEC_MIME_TYPE][\"server_id\"] !== undefined) {\n      var bk_div = document.createElement(\"div\");\n      bk_div.innerHTML = output.data[HTML_MIME_TYPE];\n      var script_attrs = bk_div.children[0].attributes;\n      for (var i = 0; i < script_attrs.length; i++) {\n        toinsert[toinsert.length - 1].firstChild.setAttribute(script_attrs[i].name, script_attrs[i].value);\n        toinsert[toinsert.length - 1].firstChild.textContent = bk_div.children[0].textContent\n      }\n      // store reference to server id on output_area\n      output_area._bokeh_server_id = output.metadata[EXEC_MIME_TYPE][\"server_id\"];\n    }\n  }\n\n  function register_renderer(events, OutputArea) {\n\n    function append_mime(data, metadata, element) {\n      // create a DOM node to render to\n      var toinsert = this.create_output_subarea(\n        metadata,\n        CLASS_NAME,\n        EXEC_MIME_TYPE\n      );\n      this.keyboard_manager.register_events(toinsert);\n      // Render to node\n      var props = {data: data, metadata: metadata[EXEC_MIME_TYPE]};\n      render(props, toinsert[toinsert.length - 1]);\n      element.append(toinsert);\n      return toinsert\n    }\n\n    /* Handle when an output is cleared or removed */\n    events.on('clear_output.CodeCell', handleClearOutput);\n    events.on('delete.Cell', handleClearOutput);\n\n    /* Handle when a new output is added */\n    events.on('output_added.OutputArea', handleAddOutput);\n\n    /**\n     * Register the mime type and append_mime function with output_area\n     */\n    OutputArea.prototype.register_mime_type(EXEC_MIME_TYPE, append_mime, {\n      /* Is output safe? */\n      safe: true,\n      /* Index of renderer in `output_area.display_order` */\n      index: 0\n    });\n  }\n\n  // register the mime type if in Jupyter Notebook environment and previously unregistered\n  if (root.Jupyter !== undefined) {\n    var events = require('base/js/events');\n    var OutputArea = require('notebook/js/outputarea').OutputArea;\n\n    if (OutputArea.prototype.mime_types().indexOf(EXEC_MIME_TYPE) == -1) {\n      register_renderer(events, OutputArea);\n    }\n  }\n\n  \n  if (typeof (root._bokeh_timeout) === \"undefined\" || force === true) {\n    root._bokeh_timeout = Date.now() + 5000;\n    root._bokeh_failed_load = false;\n  }\n\n  var NB_LOAD_WARNING = {'data': {'text/html':\n     \"<div style='background-color: #fdd'>\\n\"+\n     \"<p>\\n\"+\n     \"BokehJS does not appear to have successfully loaded. If loading BokehJS from CDN, this \\n\"+\n     \"may be due to a slow or bad network connection. Possible fixes:\\n\"+\n     \"</p>\\n\"+\n     \"<ul>\\n\"+\n     \"<li>re-rerun `output_notebook()` to attempt to load from CDN again, or</li>\\n\"+\n     \"<li>use INLINE resources instead, as so:</li>\\n\"+\n     \"</ul>\\n\"+\n     \"<code>\\n\"+\n     \"from bokeh.resources import INLINE\\n\"+\n     \"output_notebook(resources=INLINE)\\n\"+\n     \"</code>\\n\"+\n     \"</div>\"}};\n\n  function display_loaded() {\n    var el = document.getElementById(\"1002\");\n    if (el != null) {\n      el.textContent = \"BokehJS is loading...\";\n    }\n    if (root.Bokeh !== undefined) {\n      if (el != null) {\n        el.textContent = \"BokehJS \" + root.Bokeh.version + \" successfully loaded.\";\n      }\n    } else if (Date.now() < root._bokeh_timeout) {\n      setTimeout(display_loaded, 100)\n    }\n  }\n\n\n  function run_callbacks() {\n    try {\n      root._bokeh_onload_callbacks.forEach(function(callback) {\n        if (callback != null)\n          callback();\n      });\n    } finally {\n      delete root._bokeh_onload_callbacks\n    }\n    console.debug(\"Bokeh: all callbacks have finished\");\n  }\n\n  function load_libs(css_urls, js_urls, callback) {\n    if (css_urls == null) css_urls = [];\n    if (js_urls == null) js_urls = [];\n\n    root._bokeh_onload_callbacks.push(callback);\n    if (root._bokeh_is_loading > 0) {\n      console.debug(\"Bokeh: BokehJS is being loaded, scheduling callback at\", now());\n      return null;\n    }\n    if (js_urls == null || js_urls.length === 0) {\n      run_callbacks();\n      return null;\n    }\n    console.debug(\"Bokeh: BokehJS not loaded, scheduling load and callback at\", now());\n    root._bokeh_is_loading = css_urls.length + js_urls.length;\n\n    function on_load() {\n      root._bokeh_is_loading--;\n      if (root._bokeh_is_loading === 0) {\n        console.debug(\"Bokeh: all BokehJS libraries/stylesheets loaded\");\n        run_callbacks()\n      }\n    }\n\n    function on_error(url) {\n      console.error(\"failed to load \" + url);\n    }\n\n    for (let i = 0; i < css_urls.length; i++) {\n      const url = css_urls[i];\n      const element = document.createElement(\"link\");\n      element.onload = on_load;\n      element.onerror = on_error.bind(null, url);\n      element.rel = \"stylesheet\";\n      element.type = \"text/css\";\n      element.href = url;\n      console.debug(\"Bokeh: injecting link tag for BokehJS stylesheet: \", url);\n      document.body.appendChild(element);\n    }\n\n    const hashes = {\"https://cdn.bokeh.org/bokeh/release/bokeh-2.3.2.min.js\": \"XypntL49z55iwGVUW4qsEu83zKL3XEcz0MjuGOQ9SlaaQ68X/g+k1FcioZi7oQAc\", \"https://cdn.bokeh.org/bokeh/release/bokeh-tables-2.3.2.min.js\": \"bEsM86IHGDTLCS0Zod8a8WM6Y4+lafAL/eSiyQcuPzinmWNgNO2/olUF0Z2Dkn5i\", \"https://cdn.bokeh.org/bokeh/release/bokeh-widgets-2.3.2.min.js\": \"TX0gSQTdXTTeScqxj6PVQxTiRW8DOoGVwinyi1D3kxv7wuxQ02XkOxv0xwiypcAH\"};\n\n    for (let i = 0; i < js_urls.length; i++) {\n      const url = js_urls[i];\n      const element = document.createElement('script');\n      element.onload = on_load;\n      element.onerror = on_error.bind(null, url);\n      element.async = false;\n      element.src = url;\n      if (url in hashes) {\n        element.crossOrigin = \"anonymous\";\n        element.integrity = \"sha384-\" + hashes[url];\n      }\n      console.debug(\"Bokeh: injecting script tag for BokehJS library: \", url);\n      document.head.appendChild(element);\n    }\n  };\n\n  function inject_raw_css(css) {\n    const element = document.createElement(\"style\");\n    element.appendChild(document.createTextNode(css));\n    document.body.appendChild(element);\n  }\n\n  \n  var js_urls = [\"https://cdn.bokeh.org/bokeh/release/bokeh-2.3.2.min.js\", \"https://cdn.bokeh.org/bokeh/release/bokeh-widgets-2.3.2.min.js\", \"https://cdn.bokeh.org/bokeh/release/bokeh-tables-2.3.2.min.js\"];\n  var css_urls = [];\n  \n\n  var inline_js = [\n    function(Bokeh) {\n      Bokeh.set_log_level(\"info\");\n    },\n    function(Bokeh) {\n    \n    \n    }\n  ];\n\n  function run_inline_js() {\n    \n    if (root.Bokeh !== undefined || force === true) {\n      \n    for (var i = 0; i < inline_js.length; i++) {\n      inline_js[i].call(root, root.Bokeh);\n    }\n    if (force === true) {\n        display_loaded();\n      }} else if (Date.now() < root._bokeh_timeout) {\n      setTimeout(run_inline_js, 100);\n    } else if (!root._bokeh_failed_load) {\n      console.log(\"Bokeh: BokehJS failed to load within specified timeout.\");\n      root._bokeh_failed_load = true;\n    } else if (force !== true) {\n      var cell = $(document.getElementById(\"1002\")).parents('.cell').data().cell;\n      cell.output_area.append_execute_result(NB_LOAD_WARNING)\n    }\n\n  }\n\n  if (root._bokeh_is_loading === 0) {\n    console.debug(\"Bokeh: BokehJS loaded, going straight to plotting\");\n    run_inline_js();\n  } else {\n    load_libs(css_urls, js_urls, function() {\n      console.debug(\"Bokeh: BokehJS plotting callback run at\", now());\n      run_inline_js();\n    });\n  }\n}(window));",
      "application/vnd.bokehjs_load.v0+json": ""
     },
     "metadata": {},
     "output_type": "display_data"
    }
   ],
   "source": [
    "import pandas as pd\n",
    "import numpy as np\n",
    "import matplotlib.pyplot as plt\n",
    "from math import *\n",
    "from bokeh.plotting import figure, show\n",
    "from bokeh.io import output_notebook\n",
    "output_notebook()"
   ]
  },
  {
   "cell_type": "code",
   "execution_count": 13,
   "metadata": {},
   "outputs": [],
   "source": [
    "type = \"incone\"\n",
    "data = pd.read_csv(f\"./data/{type}_results.csv\")\n",
    "\n",
    "\n",
    "avg = data.groupby(['array_type', 'element_size']).mean().reset_index()\n",
    "SQ_data = avg[avg[\"array_type\"] == \"SQ\"]\n",
    "sliced_data = avg[avg[\"array_type\"] == \"sliced\"]\n",
    "mono_data = avg[avg[\"array_type\"] == \"mono\"]\n",
    "base_data = avg[avg[\"array_type\"] == \"base\"]"
   ]
  },
  {
   "cell_type": "code",
   "execution_count": 3,
   "metadata": {},
   "outputs": [
    {
     "data": {
      "text/html": [
       "<div>\n",
       "<style scoped>\n",
       "    .dataframe tbody tr th:only-of-type {\n",
       "        vertical-align: middle;\n",
       "    }\n",
       "\n",
       "    .dataframe tbody tr th {\n",
       "        vertical-align: top;\n",
       "    }\n",
       "\n",
       "    .dataframe thead th {\n",
       "        text-align: right;\n",
       "    }\n",
       "</style>\n",
       "<table border=\"1\" class=\"dataframe\">\n",
       "  <thead>\n",
       "    <tr style=\"text-align: right;\">\n",
       "      <th></th>\n",
       "      <th>array_type</th>\n",
       "      <th>element_size</th>\n",
       "      <th>time</th>\n",
       "    </tr>\n",
       "  </thead>\n",
       "  <tbody>\n",
       "    <tr>\n",
       "      <th>0</th>\n",
       "      <td>SQ</td>\n",
       "      <td>16</td>\n",
       "      <td>0.006497</td>\n",
       "    </tr>\n",
       "    <tr>\n",
       "      <th>1</th>\n",
       "      <td>SQ</td>\n",
       "      <td>32</td>\n",
       "      <td>0.008133</td>\n",
       "    </tr>\n",
       "    <tr>\n",
       "      <th>2</th>\n",
       "      <td>SQ</td>\n",
       "      <td>48</td>\n",
       "      <td>0.009892</td>\n",
       "    </tr>\n",
       "    <tr>\n",
       "      <th>3</th>\n",
       "      <td>SQ</td>\n",
       "      <td>64</td>\n",
       "      <td>0.009630</td>\n",
       "    </tr>\n",
       "    <tr>\n",
       "      <th>4</th>\n",
       "      <td>SQ</td>\n",
       "      <td>80</td>\n",
       "      <td>0.011166</td>\n",
       "    </tr>\n",
       "    <tr>\n",
       "      <th>...</th>\n",
       "      <td>...</td>\n",
       "      <td>...</td>\n",
       "      <td>...</td>\n",
       "    </tr>\n",
       "    <tr>\n",
       "      <th>123</th>\n",
       "      <td>SQ</td>\n",
       "      <td>1984</td>\n",
       "      <td>0.163930</td>\n",
       "    </tr>\n",
       "    <tr>\n",
       "      <th>124</th>\n",
       "      <td>SQ</td>\n",
       "      <td>2000</td>\n",
       "      <td>0.202010</td>\n",
       "    </tr>\n",
       "    <tr>\n",
       "      <th>125</th>\n",
       "      <td>SQ</td>\n",
       "      <td>2016</td>\n",
       "      <td>0.165548</td>\n",
       "    </tr>\n",
       "    <tr>\n",
       "      <th>126</th>\n",
       "      <td>SQ</td>\n",
       "      <td>2032</td>\n",
       "      <td>0.204053</td>\n",
       "    </tr>\n",
       "    <tr>\n",
       "      <th>127</th>\n",
       "      <td>SQ</td>\n",
       "      <td>2048</td>\n",
       "      <td>0.168037</td>\n",
       "    </tr>\n",
       "  </tbody>\n",
       "</table>\n",
       "<p>128 rows × 3 columns</p>\n",
       "</div>"
      ],
      "text/plain": [
       "    array_type  element_size      time\n",
       "0           SQ            16  0.006497\n",
       "1           SQ            32  0.008133\n",
       "2           SQ            48  0.009892\n",
       "3           SQ            64  0.009630\n",
       "4           SQ            80  0.011166\n",
       "..         ...           ...       ...\n",
       "123         SQ          1984  0.163930\n",
       "124         SQ          2000  0.202010\n",
       "125         SQ          2016  0.165548\n",
       "126         SQ          2032  0.204053\n",
       "127         SQ          2048  0.168037\n",
       "\n",
       "[128 rows x 3 columns]"
      ]
     },
     "execution_count": 3,
     "metadata": {},
     "output_type": "execute_result"
    }
   ],
   "source": [
    "SQ_data"
   ]
  },
  {
   "cell_type": "code",
   "execution_count": 6,
   "metadata": {},
   "outputs": [
    {
     "data": {
      "text/html": [
       "\n",
       "\n",
       "\n",
       "\n",
       "\n",
       "\n",
       "  <div class=\"bk-root\" id=\"e1650637-ee7f-4fba-8eaa-addc53acaac1\" data-root-id=\"1175\"></div>\n"
      ]
     },
     "metadata": {},
     "output_type": "display_data"
    },
    {
     "data": {
      "application/javascript": "(function(root) {\n  function embed_document(root) {\n    \n  var docs_json = {\"fc739547-c388-4a52-a0e2-b4ff1a257c32\":{\"defs\":[],\"roots\":{\"references\":[{\"attributes\":{\"below\":[{\"id\":\"1186\"}],\"center\":[{\"id\":\"1189\"},{\"id\":\"1193\"},{\"id\":\"1223\"}],\"left\":[{\"id\":\"1190\"}],\"renderers\":[{\"id\":\"1211\"},{\"id\":\"1228\"},{\"id\":\"1246\"}],\"title\":{\"id\":\"1176\"},\"toolbar\":{\"id\":\"1201\"},\"width\":900,\"x_range\":{\"id\":\"1178\"},\"x_scale\":{\"id\":\"1182\"},\"y_range\":{\"id\":\"1180\"},\"y_scale\":{\"id\":\"1184\"}},\"id\":\"1175\",\"subtype\":\"Figure\",\"type\":\"Plot\"},{\"attributes\":{},\"id\":\"1182\",\"type\":\"LinearScale\"},{\"attributes\":{},\"id\":\"1220\",\"type\":\"UnionRenderers\"},{\"attributes\":{},\"id\":\"1180\",\"type\":\"DataRange1d\"},{\"attributes\":{\"data\":{\"x\":[16,32,48,64,80,96,112,128,144,160,176,192,208,224,240,256,272,288,304,320,336,352,368,384,400,416,432,448,464,480,496,512,528,544,560,576,592,608,624,640,656,672,688,704,720,736,752,768,784,800,816,832,848,864,880,896,912,928,944,960,976,992,1008,1024,1040,1056,1072,1088,1104,1120,1136,1152,1168,1184,1200,1216,1232,1248,1264,1280,1296,1312,1328,1344,1360,1376,1392,1408,1424,1440,1456,1472,1488,1504,1520,1536,1552,1568,1584,1600,1616,1632,1648,1664,1680,1696,1712,1728,1744,1760,1776,1792,1808,1824,1840,1856,1872,1888,1904,1920,1936,1952,1968,1984,2000,2016,2032,2048],\"y\":{\"__ndarray__\":\"a8iJwKJsez915O2t7ZJ9P5rwprYv+4A/yFtTxflAdz82j8Ng/gp5Py1eLAyR03c/nsvUJHhDej+jBi7q7pWEP5Iq5RDMLH0/2mGns+56lD+jGMUXkjiAP0Vj7e9sj44/+FSpNL0fgj9Cbzt+uWCaPwTs/gzKj4M/gha3dkdrkT/eYckLn2OGPwKS+vxBbqA/QhyQKcTIhz+DJWjdUEKiP95kZUUe0ok/ve1Tn/U6oz9Wq8DaYsiLP6AsxgrIqKQ/S4XCsXj7jT99kdCWcymmP9UHN76bE5A/ngQ25+CZqD+mLnSAu0eRP/V7rCpFPKs/xlBOtKuQkj+91SlF4WmgP9rWBXI/lpQ/gqMuY1Rjqz/FPfH35pKVP6V4SygzlKk/iGKXTSWolj9gerHmtjOqPwborXCBupc/WkPzSqMTqz8dFUkFX+KZP9XXqaiwCKw/kkyYeiewmj9I8qZsouCrP4ri+hzEc5s/w6RTsvc9rT+wx0RKs3mcP94W0RuTarA/707jg0MUoD8srdBRWPOxP/fI5qp5jqA/ejAYEuYssj+iavRqgNKgPzVaszreibI/avI5HALsoD85IoTsYdSyP/7eAflt46I/BUBw8OCCsz+8uhkkM82iP3Wo8LEFzrM/6JYMtsfBoz9HQyFdxxO0P0RhvIucKqQ/3Zs66kNypT+ugVJZubymP3bNmg5TEbU/uh11zxUApj9JsUi4NY61P0b1jDM8rKY/iN7i4T0Htj9utIjNbPymPyYHot3XN7Y/VgdA3NWrqD9Kjip5KwG3Pw4L/zOUJKk/teGwNPCjtj91pnXAGgyqP6JsJc9QN7c/I2sNpfYiqj82DlB1I4e3PxODG4QUl64/jbJ+MzFduD/KaIk6GFauPww+zcmLTLg/28mWm14Yrz9UqdkDrcC4P1jo3h7fOa8/coKAxpYvuT9fnFMkusKyP4D2fv7Wqbk/4gfnU8cqsT+LMbCO44e6P83km21uTLM/lg3G4/0Tuz8y5UNQNXq1P7iJ/+Doz7s/xsjt8gjJtT+YPFQJBVu7P12TyQRX1LM/xfb/FgkSvD+FKpA0E2e4P3KyHgjaLsI/XTxyWqYVtT8+HG7RE+DBP9hzLbU5Kbc/cu1VdaCYxj8RiNf1C3a3P0LKT6p9OsI/NTximSPQvT8OeRVjqqrFPw6QHnUqz8I/klOFUO/zyT8uNlJbj2fCP0q6HGWz2cc/WedzSTAwwj8EFDR3Pk3HP7CT+rK0U8M/Yoyjzcwnyj8oMzkQ7b7EPzv0JztHLsk/C9Uof1JIxz8Nf/IcNjbOP8ZcCCjDp8k/g/NOqiKBzT8rz3KPW4LIPysieZ3Da88/arhthOqLyT9+filNlM7NPw==\",\"dtype\":\"float64\",\"order\":\"little\",\"shape\":[128]}},\"selected\":{\"id\":\"1221\"},\"selection_policy\":{\"id\":\"1220\"}},\"id\":\"1208\",\"type\":\"ColumnDataSource\"},{\"attributes\":{},\"id\":\"1199\",\"type\":\"HelpTool\"},{\"attributes\":{},\"id\":\"1221\",\"type\":\"Selection\"},{\"attributes\":{\"data_source\":{\"id\":\"1225\"},\"glyph\":{\"id\":\"1226\"},\"hover_glyph\":null,\"muted_glyph\":null,\"nonselection_glyph\":{\"id\":\"1227\"},\"view\":{\"id\":\"1229\"}},\"id\":\"1228\",\"type\":\"GlyphRenderer\"},{\"attributes\":{},\"id\":\"1191\",\"type\":\"BasicTicker\"},{\"attributes\":{\"axis\":{\"id\":\"1186\"},\"ticker\":null},\"id\":\"1189\",\"type\":\"Grid\"},{\"attributes\":{},\"id\":\"1184\",\"type\":\"LinearScale\"},{\"attributes\":{\"line_color\":\"blue\",\"x\":{\"field\":\"x\"},\"y\":{\"field\":\"y\"}},\"id\":\"1209\",\"type\":\"Line\"},{\"attributes\":{\"axis_label\":\"size of each element\",\"formatter\":{\"id\":\"1215\"},\"major_label_policy\":{\"id\":\"1216\"},\"ticker\":{\"id\":\"1187\"}},\"id\":\"1186\",\"type\":\"LinearAxis\"},{\"attributes\":{\"data\":{\"x\":[16,32,48,64,80,96,112,128,144,160,176,192,208,224,240,256,272,288,304,320,336,352,368,384,400,416,432,448,464,480,496,512,528,544,560,576,592,608,624,640,656,672,688,704,720,736,752,768,784,800,816,832,848,864,880,896,912,928,944,960,976,992,1008,1024,1040,1056,1072,1088,1104,1120,1136,1152,1168,1184,1200,1216,1232,1248,1264,1280,1296,1312,1328,1344,1360,1376,1392,1408,1424,1440,1456,1472,1488,1504,1520,1536,1552,1568,1584,1600,1616,1632,1648,1664,1680,1696,1712,1728,1744,1760,1776,1792,1808,1824,1840,1856,1872,1888,1904,1920,1936,1952,1968,1984,2000,2016,2032,2048],\"y\":{\"__ndarray__\":\"BMU0eATceD/ze1Fx0up6P4gocPya9n4/Jxr/mZw1cz/lHlxLEpV3P7VtvUtOknM/y4xtCEQ+fj+LFG8JZYaCP1OldzsM93s/Qjvx5ro6kT/bRqi+mNJ/P5Z4QNmUK4w/IpBLHHkggj+oWDUIc7uXP1pLXCJyVYQ/e8ffrHdukD9YL9D/vLqEP7IEY44v658/U8xB0NGqhj+uzWuRWWKiP+7wjddyHYk/XwZjRKLQoj8oeb8bHDaLPzXiE/yAUaM/elD10OOcjT+Yuiu7YHClP9eFxOLcy5I/mHs3zIbrpz/6LxAEyNCRP1A3UOCdfKo/Bq8CIf4Gkj/dBCnCl9OfPwt0klJ1NJM/E2rhDcQNqz+k4ZS5+UaUP2G7xQ0JKak/XRjpRe1+lT9CLQYP076pP8jQsYNKXJc/BTS2fMlrqj8wdNt0uuKYPzpztE9sqqs/mKlJ8IY0mj811CgkmdWrP5XXpaGh2ps/0yk0tRH0rD9mHNlLCXedPwIOoUrNHrA/UFIFSNnHnz+qpn+k48WxP+YebXdqiaA/WU3XE10Xsj/YAFsULMShP+oU9ZN7y7I/NkBpqFFIoj/sm0U54tqyP28emO1UCqM/LQ1XYvlOsz+zdRX3xN+jP4IclDDT9rM/inUFNkKapD/RNHInIg20P0gJCziVVqU/aZa6Go8IpD/n03SHXpCmPxhFajV/p7Q/TVpMx/cgpz8h2RKotLS1P7bB5KFKKKg/kl7U7lcBtj/DV4UXjjGpPyAfmbPjK7Y/UGJ8PQT6qT+iE/h5QmW2Px6KXTaVoKo/kDsAPWjRtj9Gqc60DlirPz1YEBSJU7c/OOnHcIYsrD8nRjsTP2u3P/OiGwaYnq0/ACzhvy/ktz/FhyNZ0TCuPxoGh3L9Frg/EwfQ7/s3rz8fZ5qw/WS4P1B3+TFBaLA/aBcd2hGYuD8xaNdziG6wPxFI0+r1OLk/PEuQEVDhsD/6GXLH9rW5P6lZVlAHaLE/DuoihbLwuT9e1sQCX9GxP6j3+ZQI+bk/c3CfC9kvsj8GFnYHZ6a6P6my3l6Ii7I/bdlri3youj/+af7zjxmzP8pGMYovJME/NazzuSQYtD/q6cg2FU7BPyH9m7xtS7U/XMbyU8FNwz/d6AiFrX65P04TEVn/QsI/LT8V3LS+vT9OG8S96OHCPz808+SaAsE/inclbroKxj9oLKv6pvq/P4Pht3x/3sU/mxw+6USCwz8OW8TB7/DGP06aq4uAr8c/Q968gn7wyT9y4qsdxTnKP7NaBdYWQ84/1U0Ygz3cyD8AT1q4rMLMP93KEp1lFss/QmIWNfM/zD9sf2d79IbJP5gD80acBM8/rm6rD9phyj/fclAdBk7JPw==\",\"dtype\":\"float64\",\"order\":\"little\",\"shape\":[128]}},\"selected\":{\"id\":\"1240\"},\"selection_policy\":{\"id\":\"1239\"}},\"id\":\"1225\",\"type\":\"ColumnDataSource\"},{\"attributes\":{\"line_color\":\"red\",\"x\":{\"field\":\"x\"},\"y\":{\"field\":\"y\"}},\"id\":\"1226\",\"type\":\"Line\"},{\"attributes\":{\"data\":{\"x\":[16,32,48,64,80,96,112,128,144,160,176,192,208,224,240,256,272,288,304,320,336,352,368,384,400,416,432,448,464,480,496,512,528,544,560,576,592,608,624,640,656,672,688,704,720,736,752,768,784,800,816,832,848,864,880,896,912,928,944,960,976,992,1008,1024,1040,1056,1072,1088,1104,1120,1136,1152,1168,1184,1200,1216,1232,1248,1264,1280,1296,1312,1328,1344,1360,1376,1392,1408,1424,1440,1456,1472,1488,1504,1520,1536,1552,1568,1584,1600,1616,1632,1648,1664,1680,1696,1712,1728,1744,1760,1776,1792,1808,1824,1840,1856,1872,1888,1904,1920,1936,1952,1968,1984,2000,2016,2032,2048],\"y\":{\"__ndarray__\":\"k36xrVVxeT9jVjn+VZF7P+2tNyD4zn4/DEkcaPRZdD9GhxtLs9R1PyBqkaPvJHg/lpRgFn+Aej8bujTZmgiGP0KCPYELDX8/i0aIPJNHkT8LIvcZvFSBP+3WjdIAOYw/81dto6YCgz8uT4zR3/CXP/D7Ny9OfIU/NqZxuQvekT/PzrOjgtSHP7qLMEW5NJ4/K8JNRpVhjD9Vtx+VB46gP4hGHFfIAZA/Nf/5x4wBoz9tzbEXZZGRP0FFevYB7aM/5az0f7M5kz+XMOQiCKGlP00Pr5BeeZU/CyAhb15Bpz/aTgBqDyCYP9Dn7RnTXas/kjWPaKeLmT8m/FI/byqiP7PTaqOV1po/44kgzsMJrD8bSw6OSMqcP7gb6bHSSas/i8D9JU6Tnj8iDiPO1DWsP5I7bCIzF6A/skNGUbF7rD84rATmfAyhP2an1UYrra0/kt7cBIR7oj96QmWybnKuPzZ7+86KA6M/8NHRYAlarz8OTwpO2NmjP4OgSJy6l7A/2xHzUeuipT87F0Z6UbuzP25x6IjXUKU/hNlf0QiRsz+GEhxN5DimP7TMfc3NkrM/4Hd4dMhypz/q3z8nzpu0P8JV+flKe6Y/6TNWUXI9tD9TwIdcupOpP29eQT/49bQ/+grSjEXTqT+2GshpPp21P9NxkGuefqs/uNbNe1Lcpz9uYYK/BBOsP3wGeeLeobU/aihaXl4lrD/9t9yqNd63P6PxVTw/1q0/2JE0ydmFuD9reeV620ytP/fsFAbA07c/Xn9tWK4Srz9qN1VSglm4P4NdXsoKj68/dhMhGoKIuT9m4gy08RayP4ss4/CTtLw/s2TpntBGsT9rjyj+ORa9PyaNLPQc7LQ/E/RyMzc6vj9IT5FDxM2xP5NHgU+9f7k/UrbtIBvtsT8mwoanV8q6P48abhuh+rI/A6z6AbRSwT8tdwvJbguzP86TIX1JGbs/W5caoZ+psz/6PDVNjvG7Pw6NgjurYLc/TeyQUVTsvj9lbynni723P26cuSzLfLw/JlZGI59XuD+OwGkLGdm/P7vL6sK0FL0/31FjQswlwz/DfHkB9tG5P1KUlXAyu8Q/XnaZqzDHuD97fyg9eJLDP2pz95T3zL0/+8ooO6LnxT96DzxjBPm6P1PUT+4tm8U/DRx1GaMavz9ruTMTDOfEPy65m/HH/r8/2XZ/YZ46yT/AC1uzlZe8P3tajwyDQ8U/CjJd446SwD+quw3FeCjLP/wbtFcfD8E/oHpaNFMQyD8HH+/6caDEPy6PkNz1Lcw/U7Ahk+dVxj+Y7r/fefPNP2UP/o9ds8Y/Jlah3BGpzj8WqCCa1CvIP03W8hSD0c4/PcihNIqbyT9mUp7U8l7KPw==\",\"dtype\":\"float64\",\"order\":\"little\",\"shape\":[128]}},\"selected\":{\"id\":\"1260\"},\"selection_policy\":{\"id\":\"1259\"}},\"id\":\"1243\",\"type\":\"ColumnDataSource\"},{\"attributes\":{\"data_source\":{\"id\":\"1208\"},\"glyph\":{\"id\":\"1209\"},\"hover_glyph\":null,\"muted_glyph\":null,\"nonselection_glyph\":{\"id\":\"1210\"},\"view\":{\"id\":\"1212\"}},\"id\":\"1211\",\"type\":\"GlyphRenderer\"},{\"attributes\":{\"line_color\":\"green\",\"x\":{\"field\":\"x\"},\"y\":{\"field\":\"y\"}},\"id\":\"1244\",\"type\":\"Line\"},{\"attributes\":{\"line_alpha\":0.1,\"line_color\":\"red\",\"x\":{\"field\":\"x\"},\"y\":{\"field\":\"y\"}},\"id\":\"1227\",\"type\":\"Line\"},{\"attributes\":{\"axis_label\":\"avergae time\",\"formatter\":{\"id\":\"1218\"},\"major_label_policy\":{\"id\":\"1219\"},\"ticker\":{\"id\":\"1191\"}},\"id\":\"1190\",\"type\":\"LinearAxis\"},{\"attributes\":{\"line_alpha\":0.1,\"line_color\":\"green\",\"x\":{\"field\":\"x\"},\"y\":{\"field\":\"y\"}},\"id\":\"1245\",\"type\":\"Line\"},{\"attributes\":{},\"id\":\"1215\",\"type\":\"BasicTickFormatter\"},{\"attributes\":{\"overlay\":{\"id\":\"1200\"}},\"id\":\"1196\",\"type\":\"BoxZoomTool\"},{\"attributes\":{\"source\":{\"id\":\"1225\"}},\"id\":\"1229\",\"type\":\"CDSView\"},{\"attributes\":{\"bottom_units\":\"screen\",\"fill_alpha\":0.5,\"fill_color\":\"lightgrey\",\"left_units\":\"screen\",\"level\":\"overlay\",\"line_alpha\":1.0,\"line_color\":\"black\",\"line_dash\":[4,4],\"line_width\":2,\"right_units\":\"screen\",\"syncable\":false,\"top_units\":\"screen\"},\"id\":\"1200\",\"type\":\"BoxAnnotation\"},{\"attributes\":{\"active_multi\":null,\"tools\":[{\"id\":\"1194\"},{\"id\":\"1195\"},{\"id\":\"1196\"},{\"id\":\"1197\"},{\"id\":\"1198\"},{\"id\":\"1199\"}]},\"id\":\"1201\",\"type\":\"Toolbar\"},{\"attributes\":{\"source\":{\"id\":\"1243\"}},\"id\":\"1247\",\"type\":\"CDSView\"},{\"attributes\":{\"data_source\":{\"id\":\"1243\"},\"glyph\":{\"id\":\"1244\"},\"hover_glyph\":null,\"muted_glyph\":null,\"nonselection_glyph\":{\"id\":\"1245\"},\"view\":{\"id\":\"1247\"}},\"id\":\"1246\",\"type\":\"GlyphRenderer\"},{\"attributes\":{\"line_alpha\":0.1,\"line_color\":\"blue\",\"x\":{\"field\":\"x\"},\"y\":{\"field\":\"y\"}},\"id\":\"1210\",\"type\":\"Line\"},{\"attributes\":{\"text\":\"run time of different array types\"},\"id\":\"1176\",\"type\":\"Title\"},{\"attributes\":{\"label\":{\"value\":\"sliced\"},\"renderers\":[{\"id\":\"1228\"}]},\"id\":\"1242\",\"type\":\"LegendItem\"},{\"attributes\":{},\"id\":\"1216\",\"type\":\"AllLabels\"},{\"attributes\":{\"label\":{\"value\":\"monolithic\"},\"renderers\":[{\"id\":\"1246\"}]},\"id\":\"1262\",\"type\":\"LegendItem\"},{\"attributes\":{},\"id\":\"1259\",\"type\":\"UnionRenderers\"},{\"attributes\":{},\"id\":\"1195\",\"type\":\"WheelZoomTool\"},{\"attributes\":{},\"id\":\"1239\",\"type\":\"UnionRenderers\"},{\"attributes\":{},\"id\":\"1260\",\"type\":\"Selection\"},{\"attributes\":{},\"id\":\"1187\",\"type\":\"BasicTicker\"},{\"attributes\":{\"source\":{\"id\":\"1208\"}},\"id\":\"1212\",\"type\":\"CDSView\"},{\"attributes\":{},\"id\":\"1240\",\"type\":\"Selection\"},{\"attributes\":{},\"id\":\"1218\",\"type\":\"BasicTickFormatter\"},{\"attributes\":{},\"id\":\"1178\",\"type\":\"DataRange1d\"},{\"attributes\":{},\"id\":\"1198\",\"type\":\"ResetTool\"},{\"attributes\":{},\"id\":\"1219\",\"type\":\"AllLabels\"},{\"attributes\":{\"items\":[{\"id\":\"1224\"},{\"id\":\"1242\"},{\"id\":\"1262\"}],\"location\":\"top_left\"},\"id\":\"1223\",\"type\":\"Legend\"},{\"attributes\":{\"axis\":{\"id\":\"1190\"},\"dimension\":1,\"ticker\":null},\"id\":\"1193\",\"type\":\"Grid\"},{\"attributes\":{},\"id\":\"1197\",\"type\":\"SaveTool\"},{\"attributes\":{},\"id\":\"1194\",\"type\":\"PanTool\"},{\"attributes\":{\"label\":{\"value\":\"SQarray\"},\"renderers\":[{\"id\":\"1211\"}]},\"id\":\"1224\",\"type\":\"LegendItem\"}],\"root_ids\":[\"1175\"]},\"title\":\"Bokeh Application\",\"version\":\"2.3.2\"}};\n  var render_items = [{\"docid\":\"fc739547-c388-4a52-a0e2-b4ff1a257c32\",\"root_ids\":[\"1175\"],\"roots\":{\"1175\":\"e1650637-ee7f-4fba-8eaa-addc53acaac1\"}}];\n  root.Bokeh.embed.embed_items_notebook(docs_json, render_items);\n\n  }\n  if (root.Bokeh !== undefined) {\n    embed_document(root);\n  } else {\n    var attempts = 0;\n    var timer = setInterval(function(root) {\n      if (root.Bokeh !== undefined) {\n        clearInterval(timer);\n        embed_document(root);\n      } else {\n        attempts++;\n        if (attempts > 100) {\n          clearInterval(timer);\n          console.log(\"Bokeh: ERROR: Unable to run BokehJS code because BokehJS library is missing\");\n        }\n      }\n    }, 10, root)\n  }\n})(window);",
      "application/vnd.bokehjs_exec.v0+json": ""
     },
     "metadata": {
      "application/vnd.bokehjs_exec.v0+json": {
       "id": "1175"
      }
     },
     "output_type": "display_data"
    }
   ],
   "source": [
    "def visualise_position(r1, r2, r3):\n",
    "    p = figure(title = 'run time of different array types', plot_width = 900, x_axis_label = 'size of each element', y_axis_label = 'avergae time')\n",
    "    p.line(r1.element_size, r1.time, color = 'blue', legend_label = \"SQarray\")\n",
    "    p.line(r2.element_size, r2.time, color = 'red', legend_label = \"sliced\")\n",
    "    p.line(r3.element_size, r3.time, color = 'green', legend_label = \"monolithic\")\n",
    "    p.legend.location = \"top_left\"\n",
    "    show(p)\n",
    "visualise_position(SQ_data, sliced_data, mono_data)"
   ]
  },
  {
   "cell_type": "code",
   "execution_count": 14,
   "metadata": {},
   "outputs": [
    {
     "data": {
      "text/html": [
       "\n",
       "\n",
       "\n",
       "\n",
       "\n",
       "\n",
       "  <div class=\"bk-root\" id=\"8431b78e-977d-4767-bcba-535cb43f1cec\" data-root-id=\"2111\"></div>\n"
      ]
     },
     "metadata": {},
     "output_type": "display_data"
    },
    {
     "data": {
      "application/javascript": "(function(root) {\n  function embed_document(root) {\n    \n  var docs_json = {\"c7e5378e-f984-4cb9-bbc0-4068b428f297\":{\"defs\":[],\"roots\":{\"references\":[{\"attributes\":{\"below\":[{\"id\":\"2122\"}],\"center\":[{\"id\":\"2125\"},{\"id\":\"2129\"},{\"id\":\"2159\"}],\"left\":[{\"id\":\"2126\"}],\"renderers\":[{\"id\":\"2147\"},{\"id\":\"2164\"},{\"id\":\"2182\"},{\"id\":\"2202\"}],\"title\":{\"id\":\"2112\"},\"toolbar\":{\"id\":\"2137\"},\"width\":900,\"x_range\":{\"id\":\"2114\"},\"x_scale\":{\"id\":\"2118\"},\"y_range\":{\"id\":\"2116\"},\"y_scale\":{\"id\":\"2120\"}},\"id\":\"2111\",\"subtype\":\"Figure\",\"type\":\"Plot\"},{\"attributes\":{},\"id\":\"2130\",\"type\":\"PanTool\"},{\"attributes\":{\"data_source\":{\"id\":\"2199\"},\"glyph\":{\"id\":\"2200\"},\"hover_glyph\":null,\"muted_glyph\":null,\"nonselection_glyph\":{\"id\":\"2201\"},\"view\":{\"id\":\"2203\"}},\"id\":\"2202\",\"type\":\"GlyphRenderer\"},{\"attributes\":{\"overlay\":{\"id\":\"2136\"}},\"id\":\"2132\",\"type\":\"BoxZoomTool\"},{\"attributes\":{},\"id\":\"2156\",\"type\":\"UnionRenderers\"},{\"attributes\":{},\"id\":\"2133\",\"type\":\"SaveTool\"},{\"attributes\":{\"data\":{\"x\":[16,32,48,64,80,96,112,128,144,160,176,192,208,224,240,256,272,288,304,320,336,352,368,384,400,416,432,448,464,480,496,512,528,544,560,576,592,608,624,640,656,672,688,704,720,736,752,768,784,800,816,832,848,864,880,896,912,928,944,960,976,992,1008,1024,1040,1056,1072,1088,1104,1120,1136,1152,1168,1184,1200,1216,1232,1248,1264,1280,1296,1312,1328,1344,1360,1376,1392,1408,1424,1440,1456,1472,1488,1504,1520,1536,1552,1568,1584,1600,1616,1632,1648,1664,1680,1696,1712,1728,1744,1760,1776,1792,1808,1824,1840,1856,1872,1888,1904,1920,1936,1952,1968,1984,2000,2016,2032,2048],\"y\":{\"__ndarray__\":\"GucltQalTj/66Yn4mFllP/70nzU//nI/eAd40sJldT/6AVmZOtl3P1o2KbtPRIU/hs0AF2TLgj/dwk4MJIOHPxV15h4Svoc/1iNoJ95chz/omJjTCniOP7t/LESHwJE/CPcUSnA0kT8SQHs/f+uUP4sAAjFk0JQ/ThVCvc+nlD92tLtRddmZP0522Omsu54//ZmLCXsknz9H5/wUx4GXPy6175sM2J8/3mrnRTcMoD/LaOTziqeePxWEPMyoQ5g/VJJ1OLpKlz8YESCegIGbP8vTuaKUEJw/T4AXbNkQoj+qJ5jWS/iaPxgLQ+T09Zw/CNxf4jTpmz8Yu9gPDHulP0a/bPHfcqs/IJkOnZ53qz/t0FVfAlytP4MI3cq346o/k8vaATLPrT/Qe2MIAI6xP5NYraexGLA/jYzEuqdhsj/j0kITcu+zP+KTqd0KvLI/3AGNiBhltD/ISRdRye+3P2WDOwYaIrk/yKti4G9quj/2q0psiDu8P8PeegOC77w/M1AZ/z7jvj/AmIgSiDLBPxpQFI1aBsE/ElRD0fLywD8qvBXTloTBP7KAriJISsE/mwttSsM6wT+VEt0OaETCP6MkJNI2/sI/uVVrvM9Mwz9CU8CHXLrDP5EsYAK37sQ/FceBV8udwz8DG3wGeeLEPwT/W8mOjcQ/5fEPtjOnxD8NKOX/n9TEP45jfzT368U/Wr4uw3+6xT+t/85RooDGPysbMQ6J1sc/1D7C1aZWyD/6owPtaeLIP8Bg3LLoQss/E2/4OC4+yj+MpmkGp/TIP7iOFgxTAMk/+2B01CwryD8+A48UNqjIP0H8smrGWMg/VUoZgi3AyD8WaYdkbfjIP7JTrBqEuck/LclLSLWZyj8dX9YfvNHKP+bzQBoEDMs/ywXT1cLRyj99fa1LjdDLPy6gBsIEJMw/Zgut8xTezD9DGU+pt6vMPzpmNE0zOM0/MLXvmwzYzT9yXCEHgIXNPxjdMMD0rM4/wnF08Kch0D/dAxmmWxvQPzblZajlYs8/MSDFShZB0D9ztRX7y+7PP4iQqXEl8dA/llRtN8E30T8X4HFAAcrQPzTPtj+8U9E/z6EMVTGV0D/gMTz2s1jRP6aBeo4jMdE/AnSpW4e00T9QYbau4p7RP8lKgiZ4+dE/nvR0ZJsK0j9tpXyt8NPRPyY/PREfM9M/c3uT8M7r0j9KfJNLiF7SP9jHVAs2v9I/kg8wqZDh0j/Hxs26kFjTP4VzsnnBTNM/rIPNSqR+0z+1TCsqh7vTP893AUBfxNM/c/lqoioB1D+oHsQpzqzUP3Ain/yCgtQ/SOXc3E4R1T/j6fBrf8LVP/vo1JXP8tY/HQmPkUfL1T82PBgMCXPWPw==\",\"dtype\":\"float64\",\"order\":\"little\",\"shape\":[128]}},\"selected\":{\"id\":\"2218\"},\"selection_policy\":{\"id\":\"2217\"}},\"id\":\"2199\",\"type\":\"ColumnDataSource\"},{\"attributes\":{},\"id\":\"2134\",\"type\":\"ResetTool\"},{\"attributes\":{},\"id\":\"2157\",\"type\":\"Selection\"},{\"attributes\":{\"x\":{\"field\":\"x\"},\"y\":{\"field\":\"y\"}},\"id\":\"2200\",\"type\":\"Line\"},{\"attributes\":{\"label\":{\"value\":\"SQarray\"},\"renderers\":[{\"id\":\"2147\"}]},\"id\":\"2160\",\"type\":\"LegendItem\"},{\"attributes\":{\"source\":{\"id\":\"2199\"}},\"id\":\"2203\",\"type\":\"CDSView\"},{\"attributes\":{},\"id\":\"2196\",\"type\":\"Selection\"},{\"attributes\":{\"line_alpha\":0.1,\"x\":{\"field\":\"x\"},\"y\":{\"field\":\"y\"}},\"id\":\"2201\",\"type\":\"Line\"},{\"attributes\":{\"items\":[{\"id\":\"2160\"},{\"id\":\"2178\"},{\"id\":\"2198\"},{\"id\":\"2220\"}],\"location\":\"top_left\"},\"id\":\"2159\",\"type\":\"Legend\"},{\"attributes\":{\"data_source\":{\"id\":\"2161\"},\"glyph\":{\"id\":\"2162\"},\"hover_glyph\":null,\"muted_glyph\":null,\"nonselection_glyph\":{\"id\":\"2163\"},\"view\":{\"id\":\"2165\"}},\"id\":\"2164\",\"type\":\"GlyphRenderer\"},{\"attributes\":{},\"id\":\"2116\",\"type\":\"DataRange1d\"},{\"attributes\":{\"data\":{\"x\":[16,32,48,64,80,96,112,128,144,160,176,192,208,224,240,256,272,288,304,320,336,352,368,384,400,416,432,448,464,480,496,512,528,544,560,576,592,608,624,640,656,672,688,704,720,736,752,768,784,800,816,832,848,864,880,896,912,928,944,960,976,992,1008,1024,1040,1056,1072,1088,1104,1120,1136,1152,1168,1184,1200,1216,1232,1248,1264,1280,1296,1312,1328,1344,1360,1376,1392,1408,1424,1440,1456,1472,1488,1504,1520,1536,1552,1568,1584,1600,1616,1632,1648,1664,1680,1696,1712,1728,1744,1760,1776,1792,1808,1824,1840,1856,1872,1888,1904,1920,1936,1952,1968,1984,2000,2016,2032,2048],\"y\":{\"__ndarray__\":\"BMU0eATceD/ze1Fx0up6P4gocPya9n4/Jxr/mZw1cz/lHlxLEpV3P7VtvUtOknM/y4xtCEQ+fj+LFG8JZYaCP1OldzsM93s/Qjvx5ro6kT/bRqi+mNJ/P5Z4QNmUK4w/IpBLHHkggj+oWDUIc7uXP1pLXCJyVYQ/e8ffrHdukD9YL9D/vLqEP7IEY44v658/U8xB0NGqhj+uzWuRWWKiP+7wjddyHYk/XwZjRKLQoj8oeb8bHDaLPzXiE/yAUaM/elD10OOcjT+Yuiu7YHClP9eFxOLcy5I/mHs3zIbrpz/6LxAEyNCRP1A3UOCdfKo/Bq8CIf4Gkj/dBCnCl9OfPwt0klJ1NJM/E2rhDcQNqz+k4ZS5+UaUP2G7xQ0JKak/XRjpRe1+lT9CLQYP076pP8jQsYNKXJc/BTS2fMlrqj8wdNt0uuKYPzpztE9sqqs/mKlJ8IY0mj811CgkmdWrP5XXpaGh2ps/0yk0tRH0rD9mHNlLCXedPwIOoUrNHrA/UFIFSNnHnz+qpn+k48WxP+YebXdqiaA/WU3XE10Xsj/YAFsULMShP+oU9ZN7y7I/NkBpqFFIoj/sm0U54tqyP28emO1UCqM/LQ1XYvlOsz+zdRX3xN+jP4IclDDT9rM/inUFNkKapD/RNHInIg20P0gJCziVVqU/aZa6Go8IpD/n03SHXpCmPxhFajV/p7Q/TVpMx/cgpz8h2RKotLS1P7bB5KFKKKg/kl7U7lcBtj/DV4UXjjGpPyAfmbPjK7Y/UGJ8PQT6qT+iE/h5QmW2Px6KXTaVoKo/kDsAPWjRtj9Gqc60DlirPz1YEBSJU7c/OOnHcIYsrD8nRjsTP2u3P/OiGwaYnq0/ACzhvy/ktz/FhyNZ0TCuPxoGh3L9Frg/EwfQ7/s3rz8fZ5qw/WS4P1B3+TFBaLA/aBcd2hGYuD8xaNdziG6wPxFI0+r1OLk/PEuQEVDhsD/6GXLH9rW5P6lZVlAHaLE/DuoihbLwuT9e1sQCX9GxP6j3+ZQI+bk/c3CfC9kvsj8GFnYHZ6a6P6my3l6Ii7I/bdlri3youj/+af7zjxmzP8pGMYovJME/NazzuSQYtD/q6cg2FU7BPyH9m7xtS7U/XMbyU8FNwz/d6AiFrX65P04TEVn/QsI/LT8V3LS+vT9OG8S96OHCPz808+SaAsE/inclbroKxj9oLKv6pvq/P4Pht3x/3sU/mxw+6USCwz8OW8TB7/DGP06aq4uAr8c/Q968gn7wyT9y4qsdxTnKP7NaBdYWQ84/1U0Ygz3cyD8AT1q4rMLMP93KEp1lFss/QmIWNfM/zD9sf2d79IbJP5gD80acBM8/rm6rD9phyj/fclAdBk7JPw==\",\"dtype\":\"float64\",\"order\":\"little\",\"shape\":[128]}},\"selected\":{\"id\":\"2176\"},\"selection_policy\":{\"id\":\"2175\"}},\"id\":\"2161\",\"type\":\"ColumnDataSource\"},{\"attributes\":{\"label\":{\"value\":\"base\"},\"renderers\":[{\"id\":\"2202\"}]},\"id\":\"2220\",\"type\":\"LegendItem\"},{\"attributes\":{\"line_color\":\"red\",\"x\":{\"field\":\"x\"},\"y\":{\"field\":\"y\"}},\"id\":\"2162\",\"type\":\"Line\"},{\"attributes\":{},\"id\":\"2217\",\"type\":\"UnionRenderers\"},{\"attributes\":{\"data_source\":{\"id\":\"2179\"},\"glyph\":{\"id\":\"2180\"},\"hover_glyph\":null,\"muted_glyph\":null,\"nonselection_glyph\":{\"id\":\"2181\"},\"view\":{\"id\":\"2183\"}},\"id\":\"2182\",\"type\":\"GlyphRenderer\"},{\"attributes\":{},\"id\":\"2151\",\"type\":\"BasicTickFormatter\"},{\"attributes\":{\"data\":{\"x\":[16,32,48,64,80,96,112,128,144,160,176,192,208,224,240,256,272,288,304,320,336,352,368,384,400,416,432,448,464,480,496,512,528,544,560,576,592,608,624,640,656,672,688,704,720,736,752,768,784,800,816,832,848,864,880,896,912,928,944,960,976,992,1008,1024,1040,1056,1072,1088,1104,1120,1136,1152,1168,1184,1200,1216,1232,1248,1264,1280,1296,1312,1328,1344,1360,1376,1392,1408,1424,1440,1456,1472,1488,1504,1520,1536,1552,1568,1584,1600,1616,1632,1648,1664,1680,1696,1712,1728,1744,1760,1776,1792,1808,1824,1840,1856,1872,1888,1904,1920,1936,1952,1968,1984,2000,2016,2032,2048],\"y\":{\"__ndarray__\":\"k36xrVVxeT9jVjn+VZF7P+2tNyD4zn4/DEkcaPRZdD9GhxtLs9R1PyBqkaPvJHg/lpRgFn+Aej8bujTZmgiGP0KCPYELDX8/i0aIPJNHkT8LIvcZvFSBP+3WjdIAOYw/81dto6YCgz8uT4zR3/CXP/D7Ny9OfIU/NqZxuQvekT/PzrOjgtSHP7qLMEW5NJ4/K8JNRpVhjD9Vtx+VB46gP4hGHFfIAZA/Nf/5x4wBoz9tzbEXZZGRP0FFevYB7aM/5az0f7M5kz+XMOQiCKGlP00Pr5BeeZU/CyAhb15Bpz/aTgBqDyCYP9Dn7RnTXas/kjWPaKeLmT8m/FI/byqiP7PTaqOV1po/44kgzsMJrD8bSw6OSMqcP7gb6bHSSas/i8D9JU6Tnj8iDiPO1DWsP5I7bCIzF6A/skNGUbF7rD84rATmfAyhP2an1UYrra0/kt7cBIR7oj96QmWybnKuPzZ7+86KA6M/8NHRYAlarz8OTwpO2NmjP4OgSJy6l7A/2xHzUeuipT87F0Z6UbuzP25x6IjXUKU/hNlf0QiRsz+GEhxN5DimP7TMfc3NkrM/4Hd4dMhypz/q3z8nzpu0P8JV+flKe6Y/6TNWUXI9tD9TwIdcupOpP29eQT/49bQ/+grSjEXTqT+2GshpPp21P9NxkGuefqs/uNbNe1Lcpz9uYYK/BBOsP3wGeeLeobU/aihaXl4lrD/9t9yqNd63P6PxVTw/1q0/2JE0ydmFuD9reeV620ytP/fsFAbA07c/Xn9tWK4Srz9qN1VSglm4P4NdXsoKj68/dhMhGoKIuT9m4gy08RayP4ss4/CTtLw/s2TpntBGsT9rjyj+ORa9PyaNLPQc7LQ/E/RyMzc6vj9IT5FDxM2xP5NHgU+9f7k/UrbtIBvtsT8mwoanV8q6P48abhuh+rI/A6z6AbRSwT8tdwvJbguzP86TIX1JGbs/W5caoZ+psz/6PDVNjvG7Pw6NgjurYLc/TeyQUVTsvj9lbynni723P26cuSzLfLw/JlZGI59XuD+OwGkLGdm/P7vL6sK0FL0/31FjQswlwz/DfHkB9tG5P1KUlXAyu8Q/XnaZqzDHuD97fyg9eJLDP2pz95T3zL0/+8ooO6LnxT96DzxjBPm6P1PUT+4tm8U/DRx1GaMavz9ruTMTDOfEPy65m/HH/r8/2XZ/YZ46yT/AC1uzlZe8P3tajwyDQ8U/CjJd446SwD+quw3FeCjLP/wbtFcfD8E/oHpaNFMQyD8HH+/6caDEPy6PkNz1Lcw/U7Ahk+dVxj+Y7r/fefPNP2UP/o9ds8Y/Jlah3BGpzj8WqCCa1CvIP03W8hSD0c4/PcihNIqbyT9mUp7U8l7KPw==\",\"dtype\":\"float64\",\"order\":\"little\",\"shape\":[128]}},\"selected\":{\"id\":\"2196\"},\"selection_policy\":{\"id\":\"2195\"}},\"id\":\"2179\",\"type\":\"ColumnDataSource\"},{\"attributes\":{\"line_color\":\"green\",\"x\":{\"field\":\"x\"},\"y\":{\"field\":\"y\"}},\"id\":\"2180\",\"type\":\"Line\"},{\"attributes\":{\"line_alpha\":0.1,\"line_color\":\"red\",\"x\":{\"field\":\"x\"},\"y\":{\"field\":\"y\"}},\"id\":\"2163\",\"type\":\"Line\"},{\"attributes\":{},\"id\":\"2152\",\"type\":\"AllLabels\"},{\"attributes\":{},\"id\":\"2131\",\"type\":\"WheelZoomTool\"},{\"attributes\":{},\"id\":\"2218\",\"type\":\"Selection\"},{\"attributes\":{\"axis\":{\"id\":\"2122\"},\"ticker\":null},\"id\":\"2125\",\"type\":\"Grid\"},{\"attributes\":{\"source\":{\"id\":\"2144\"}},\"id\":\"2148\",\"type\":\"CDSView\"},{\"attributes\":{\"source\":{\"id\":\"2161\"}},\"id\":\"2165\",\"type\":\"CDSView\"},{\"attributes\":{\"line_alpha\":0.1,\"line_color\":\"green\",\"x\":{\"field\":\"x\"},\"y\":{\"field\":\"y\"}},\"id\":\"2181\",\"type\":\"Line\"},{\"attributes\":{\"text\":\"run time of different array types\"},\"id\":\"2112\",\"type\":\"Title\"},{\"attributes\":{\"label\":{\"value\":\"sliced\"},\"renderers\":[{\"id\":\"2164\"}]},\"id\":\"2178\",\"type\":\"LegendItem\"},{\"attributes\":{\"source\":{\"id\":\"2179\"}},\"id\":\"2183\",\"type\":\"CDSView\"},{\"attributes\":{},\"id\":\"2114\",\"type\":\"DataRange1d\"},{\"attributes\":{\"label\":{\"value\":\"monolithic\"},\"renderers\":[{\"id\":\"2182\"}]},\"id\":\"2198\",\"type\":\"LegendItem\"},{\"attributes\":{},\"id\":\"2175\",\"type\":\"UnionRenderers\"},{\"attributes\":{},\"id\":\"2120\",\"type\":\"LinearScale\"},{\"attributes\":{\"axis_label\":\"size of each element\",\"formatter\":{\"id\":\"2151\"},\"major_label_policy\":{\"id\":\"2152\"},\"ticker\":{\"id\":\"2123\"}},\"id\":\"2122\",\"type\":\"LinearAxis\"},{\"attributes\":{},\"id\":\"2154\",\"type\":\"BasicTickFormatter\"},{\"attributes\":{},\"id\":\"2118\",\"type\":\"LinearScale\"},{\"attributes\":{},\"id\":\"2155\",\"type\":\"AllLabels\"},{\"attributes\":{},\"id\":\"2176\",\"type\":\"Selection\"},{\"attributes\":{},\"id\":\"2195\",\"type\":\"UnionRenderers\"},{\"attributes\":{\"line_alpha\":0.1,\"line_color\":\"blue\",\"x\":{\"field\":\"x\"},\"y\":{\"field\":\"y\"}},\"id\":\"2146\",\"type\":\"Line\"},{\"attributes\":{\"line_color\":\"blue\",\"x\":{\"field\":\"x\"},\"y\":{\"field\":\"y\"}},\"id\":\"2145\",\"type\":\"Line\"},{\"attributes\":{\"active_multi\":null,\"tools\":[{\"id\":\"2130\"},{\"id\":\"2131\"},{\"id\":\"2132\"},{\"id\":\"2133\"},{\"id\":\"2134\"},{\"id\":\"2135\"}]},\"id\":\"2137\",\"type\":\"Toolbar\"},{\"attributes\":{},\"id\":\"2123\",\"type\":\"BasicTicker\"},{\"attributes\":{\"data_source\":{\"id\":\"2144\"},\"glyph\":{\"id\":\"2145\"},\"hover_glyph\":null,\"muted_glyph\":null,\"nonselection_glyph\":{\"id\":\"2146\"},\"view\":{\"id\":\"2148\"}},\"id\":\"2147\",\"type\":\"GlyphRenderer\"},{\"attributes\":{\"axis_label\":\"avergae time\",\"formatter\":{\"id\":\"2154\"},\"major_label_policy\":{\"id\":\"2155\"},\"ticker\":{\"id\":\"2127\"}},\"id\":\"2126\",\"type\":\"LinearAxis\"},{\"attributes\":{\"axis\":{\"id\":\"2126\"},\"dimension\":1,\"ticker\":null},\"id\":\"2129\",\"type\":\"Grid\"},{\"attributes\":{\"data\":{\"x\":[16,32,48,64,80,96,112,128,144,160,176,192,208,224,240,256,272,288,304,320,336,352,368,384,400,416,432,448,464,480,496,512,528,544,560,576,592,608,624,640,656,672,688,704,720,736,752,768,784,800,816,832,848,864,880,896,912,928,944,960,976,992,1008,1024,1040,1056,1072,1088,1104,1120,1136,1152,1168,1184,1200,1216,1232,1248,1264,1280,1296,1312,1328,1344,1360,1376,1392,1408,1424,1440,1456,1472,1488,1504,1520,1536,1552,1568,1584,1600,1616,1632,1648,1664,1680,1696,1712,1728,1744,1760,1776,1792,1808,1824,1840,1856,1872,1888,1904,1920,1936,1952,1968,1984,2000,2016,2032,2048],\"y\":{\"__ndarray__\":\"a8iJwKJsez915O2t7ZJ9P5rwprYv+4A/yFtTxflAdz82j8Ng/gp5Py1eLAyR03c/nsvUJHhDej+jBi7q7pWEP5Iq5RDMLH0/2mGns+56lD+jGMUXkjiAP0Vj7e9sj44/+FSpNL0fgj9Cbzt+uWCaPwTs/gzKj4M/gha3dkdrkT/eYckLn2OGPwKS+vxBbqA/QhyQKcTIhz+DJWjdUEKiP95kZUUe0ok/ve1Tn/U6oz9Wq8DaYsiLP6AsxgrIqKQ/S4XCsXj7jT99kdCWcymmP9UHN76bE5A/ngQ25+CZqD+mLnSAu0eRP/V7rCpFPKs/xlBOtKuQkj+91SlF4WmgP9rWBXI/lpQ/gqMuY1Rjqz/FPfH35pKVP6V4SygzlKk/iGKXTSWolj9gerHmtjOqPwborXCBupc/WkPzSqMTqz8dFUkFX+KZP9XXqaiwCKw/kkyYeiewmj9I8qZsouCrP4ri+hzEc5s/w6RTsvc9rT+wx0RKs3mcP94W0RuTarA/707jg0MUoD8srdBRWPOxP/fI5qp5jqA/ejAYEuYssj+iavRqgNKgPzVaszreibI/avI5HALsoD85IoTsYdSyP/7eAflt46I/BUBw8OCCsz+8uhkkM82iP3Wo8LEFzrM/6JYMtsfBoz9HQyFdxxO0P0RhvIucKqQ/3Zs66kNypT+ugVJZubymP3bNmg5TEbU/uh11zxUApj9JsUi4NY61P0b1jDM8rKY/iN7i4T0Htj9utIjNbPymPyYHot3XN7Y/VgdA3NWrqD9Kjip5KwG3Pw4L/zOUJKk/teGwNPCjtj91pnXAGgyqP6JsJc9QN7c/I2sNpfYiqj82DlB1I4e3PxODG4QUl64/jbJ+MzFduD/KaIk6GFauPww+zcmLTLg/28mWm14Yrz9UqdkDrcC4P1jo3h7fOa8/coKAxpYvuT9fnFMkusKyP4D2fv7Wqbk/4gfnU8cqsT+LMbCO44e6P83km21uTLM/lg3G4/0Tuz8y5UNQNXq1P7iJ/+Doz7s/xsjt8gjJtT+YPFQJBVu7P12TyQRX1LM/xfb/FgkSvD+FKpA0E2e4P3KyHgjaLsI/XTxyWqYVtT8+HG7RE+DBP9hzLbU5Kbc/cu1VdaCYxj8RiNf1C3a3P0LKT6p9OsI/NTximSPQvT8OeRVjqqrFPw6QHnUqz8I/klOFUO/zyT8uNlJbj2fCP0q6HGWz2cc/WedzSTAwwj8EFDR3Pk3HP7CT+rK0U8M/Yoyjzcwnyj8oMzkQ7b7EPzv0JztHLsk/C9Uof1JIxz8Nf/IcNjbOP8ZcCCjDp8k/g/NOqiKBzT8rz3KPW4LIPysieZ3Da88/arhthOqLyT9+filNlM7NPw==\",\"dtype\":\"float64\",\"order\":\"little\",\"shape\":[128]}},\"selected\":{\"id\":\"2157\"},\"selection_policy\":{\"id\":\"2156\"}},\"id\":\"2144\",\"type\":\"ColumnDataSource\"},{\"attributes\":{},\"id\":\"2127\",\"type\":\"BasicTicker\"},{\"attributes\":{\"bottom_units\":\"screen\",\"fill_alpha\":0.5,\"fill_color\":\"lightgrey\",\"left_units\":\"screen\",\"level\":\"overlay\",\"line_alpha\":1.0,\"line_color\":\"black\",\"line_dash\":[4,4],\"line_width\":2,\"right_units\":\"screen\",\"syncable\":false,\"top_units\":\"screen\"},\"id\":\"2136\",\"type\":\"BoxAnnotation\"},{\"attributes\":{},\"id\":\"2135\",\"type\":\"HelpTool\"}],\"root_ids\":[\"2111\"]},\"title\":\"Bokeh Application\",\"version\":\"2.3.2\"}};\n  var render_items = [{\"docid\":\"c7e5378e-f984-4cb9-bbc0-4068b428f297\",\"root_ids\":[\"2111\"],\"roots\":{\"2111\":\"8431b78e-977d-4767-bcba-535cb43f1cec\"}}];\n  root.Bokeh.embed.embed_items_notebook(docs_json, render_items);\n\n  }\n  if (root.Bokeh !== undefined) {\n    embed_document(root);\n  } else {\n    var attempts = 0;\n    var timer = setInterval(function(root) {\n      if (root.Bokeh !== undefined) {\n        clearInterval(timer);\n        embed_document(root);\n      } else {\n        attempts++;\n        if (attempts > 100) {\n          clearInterval(timer);\n          console.log(\"Bokeh: ERROR: Unable to run BokehJS code because BokehJS library is missing\");\n        }\n      }\n    }, 10, root)\n  }\n})(window);",
      "application/vnd.bokehjs_exec.v0+json": ""
     },
     "metadata": {
      "application/vnd.bokehjs_exec.v0+json": {
       "id": "2111"
      }
     },
     "output_type": "display_data"
    }
   ],
   "source": [
    "def visualise_with_base(r1, r2, r3, r4):\n",
    "    p = figure(title = 'run time of different array types', plot_width = 900, x_axis_label = 'size of each element', y_axis_label = 'avergae time')\n",
    "    p.line(r1.element_size, r1.time, color = 'blue', legend_label = \"SQarray\")\n",
    "    p.line(r2.element_size, r2.time, color = 'red', legend_label = \"sliced\")\n",
    "    p.line(r3.element_size, r3.time, color = 'green', legend_label = \"monolithic\")\n",
    "    p.line(r4.element_size, r4.time, color = 'black', legend_label = \"base\")\n",
    "    p.legend.location = \"top_left\"\n",
    "    show(p)\n",
    "visualise_with_base(SQ_data, sliced_data, mono_data, base_data)"
   ]
  }
 ],
 "metadata": {
  "kernelspec": {
   "display_name": "base",
   "language": "python",
   "name": "python3"
  },
  "language_info": {
   "codemirror_mode": {
    "name": "ipython",
    "version": 3
   },
   "file_extension": ".py",
   "mimetype": "text/x-python",
   "name": "python",
   "nbconvert_exporter": "python",
   "pygments_lexer": "ipython3",
   "version": "3.8.8"
  },
  "orig_nbformat": 4
 },
 "nbformat": 4,
 "nbformat_minor": 2
}
